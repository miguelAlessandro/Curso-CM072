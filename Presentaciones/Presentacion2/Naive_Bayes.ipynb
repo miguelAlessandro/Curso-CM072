{
 "cells": [
  {
   "cell_type": "markdown",
   "metadata": {},
   "source": [
    "## Naive Bayes\n",
    "\n",
    "Naive bayes es un clasificador simple conocido por funcionar bien cuando solo hay un pequeño número de observaciones disponibles.Como ejemplo rearemos un clasificador de Naive Bayes normal desde el principio y lo usaremos para predecir la clase de un punto de datos previamente no visto."
   ]
  },
  {
   "cell_type": "code",
   "execution_count": 1,
   "metadata": {},
   "outputs": [],
   "source": [
    "# Librerias\n",
    "import pandas as pd\n",
    "import numpy as np"
   ]
  },
  {
   "cell_type": "code",
   "execution_count": 2,
   "metadata": {},
   "outputs": [
    {
     "data": {
      "text/html": [
       "<div>\n",
       "<style scoped>\n",
       "    .dataframe tbody tr th:only-of-type {\n",
       "        vertical-align: middle;\n",
       "    }\n",
       "\n",
       "    .dataframe tbody tr th {\n",
       "        vertical-align: top;\n",
       "    }\n",
       "\n",
       "    .dataframe thead th {\n",
       "        text-align: right;\n",
       "    }\n",
       "</style>\n",
       "<table border=\"1\" class=\"dataframe\">\n",
       "  <thead>\n",
       "    <tr style=\"text-align: right;\">\n",
       "      <th></th>\n",
       "      <th>Genero</th>\n",
       "      <th>Altura</th>\n",
       "      <th>Peso</th>\n",
       "      <th>Talla_zapato</th>\n",
       "    </tr>\n",
       "  </thead>\n",
       "  <tbody>\n",
       "    <tr>\n",
       "      <th>0</th>\n",
       "      <td>M</td>\n",
       "      <td>6.00</td>\n",
       "      <td>180</td>\n",
       "      <td>12</td>\n",
       "    </tr>\n",
       "    <tr>\n",
       "      <th>1</th>\n",
       "      <td>M</td>\n",
       "      <td>5.92</td>\n",
       "      <td>190</td>\n",
       "      <td>11</td>\n",
       "    </tr>\n",
       "    <tr>\n",
       "      <th>2</th>\n",
       "      <td>M</td>\n",
       "      <td>5.58</td>\n",
       "      <td>170</td>\n",
       "      <td>12</td>\n",
       "    </tr>\n",
       "    <tr>\n",
       "      <th>3</th>\n",
       "      <td>M</td>\n",
       "      <td>5.92</td>\n",
       "      <td>165</td>\n",
       "      <td>10</td>\n",
       "    </tr>\n",
       "    <tr>\n",
       "      <th>4</th>\n",
       "      <td>F</td>\n",
       "      <td>5.00</td>\n",
       "      <td>100</td>\n",
       "      <td>6</td>\n",
       "    </tr>\n",
       "    <tr>\n",
       "      <th>5</th>\n",
       "      <td>F</td>\n",
       "      <td>5.50</td>\n",
       "      <td>150</td>\n",
       "      <td>8</td>\n",
       "    </tr>\n",
       "    <tr>\n",
       "      <th>6</th>\n",
       "      <td>F</td>\n",
       "      <td>5.42</td>\n",
       "      <td>130</td>\n",
       "      <td>7</td>\n",
       "    </tr>\n",
       "    <tr>\n",
       "      <th>7</th>\n",
       "      <td>F</td>\n",
       "      <td>5.75</td>\n",
       "      <td>150</td>\n",
       "      <td>9</td>\n",
       "    </tr>\n",
       "  </tbody>\n",
       "</table>\n",
       "</div>"
      ],
      "text/plain": [
       "  Genero  Altura  Peso  Talla_zapato\n",
       "0      M    6.00   180            12\n",
       "1      M    5.92   190            11\n",
       "2      M    5.58   170            12\n",
       "3      M    5.92   165            10\n",
       "4      F    5.00   100             6\n",
       "5      F    5.50   150             8\n",
       "6      F    5.42   130             7\n",
       "7      F    5.75   150             9"
      ]
     },
     "execution_count": 2,
     "metadata": {},
     "output_type": "execute_result"
    }
   ],
   "source": [
    "# Creamos datos\n",
    "data = pd.DataFrame()\n",
    "\n",
    "# Variable objetivo\n",
    "data['Genero'] = ['M','M','M','M','F','F','F','F']\n",
    "\n",
    "# Variable de caracteristicas\n",
    "data['Altura'] = [6,5.92,5.58,5.92,5,5.5,5.42,5.75]\n",
    "data['Peso'] = [180,190,170,165,100,150,130,150]\n",
    "data['Talla_zapato'] = [12,11,12,10,6,8,7,9]\n",
    "data"
   ]
  },
  {
   "cell_type": "markdown",
   "metadata": {},
   "source": [
    "El conjunto de datos anterior se usa para construir nuestro clasificador. A continuación creamos una nueva persona para la que conocemos sus valores de características, pero no su género. Nuestro objetivo es predecir su género."
   ]
  },
  {
   "cell_type": "code",
   "execution_count": 3,
   "metadata": {},
   "outputs": [
    {
     "data": {
      "text/html": [
       "<div>\n",
       "<style scoped>\n",
       "    .dataframe tbody tr th:only-of-type {\n",
       "        vertical-align: middle;\n",
       "    }\n",
       "\n",
       "    .dataframe tbody tr th {\n",
       "        vertical-align: top;\n",
       "    }\n",
       "\n",
       "    .dataframe thead th {\n",
       "        text-align: right;\n",
       "    }\n",
       "</style>\n",
       "<table border=\"1\" class=\"dataframe\">\n",
       "  <thead>\n",
       "    <tr style=\"text-align: right;\">\n",
       "      <th></th>\n",
       "      <th>Altura</th>\n",
       "      <th>Peso</th>\n",
       "      <th>Talla_zapato</th>\n",
       "    </tr>\n",
       "  </thead>\n",
       "  <tbody>\n",
       "    <tr>\n",
       "      <th>0</th>\n",
       "      <td>6</td>\n",
       "      <td>130</td>\n",
       "      <td>8</td>\n",
       "    </tr>\n",
       "  </tbody>\n",
       "</table>\n",
       "</div>"
      ],
      "text/plain": [
       "   Altura  Peso  Talla_zapato\n",
       "0       6   130             8"
      ]
     },
     "execution_count": 3,
     "metadata": {},
     "output_type": "execute_result"
    }
   ],
   "source": [
    "persona = pd.DataFrame()\n",
    "\n",
    "# Variables caracteristicas para esta persona(fila)\n",
    "persona['Altura'] = [6]\n",
    "persona['Peso'] = [130]\n",
    "persona['Talla_zapato'] = [8]\n",
    "\n",
    "persona"
   ]
  },
  {
   "cell_type": "markdown",
   "metadata": {},
   "source": [
    "### Teorema de Bayes\n",
    "\n",
    "Es un famoso resultado, que permite hacer predicciones de la data. \n",
    "\n",
    "$$p(A|B) = \\frac{p(B|A)p(A)}{p(B)}$$\n",
    "\n",
    "En un clasificador bayesiano, estamos interesados en conocer la clase (por ejemplo, hombre o mujer, spam o ham) de una observación dada la información:\n",
    "\n",
    "$$p(clase\\mid\\textbf{data}) = \\frac{p(\\textbf{data}\\mid clase)*p(clase)}{p(\\textbf{data})}$$.\n",
    "\n",
    "Donde:\n",
    "\n",
    "* $\\text{clase} $ es una clase particular (por ejemplo, masculino)\n",
    "* $\\mathbf{\\text{data}} $ es un dato de observación\n",
    "* $p(\\text{clase}\\mid \\mathbf{\\text{data}}) $ se llama posterior\n",
    "* $p(\\mathbf{\\text{data}} \\mid {clase})$ se llama la probabilidad o likelihood\n",
    "* $p(\\text{clase})$ se llama prior\n",
    "* $p(\\mathbf{\\text{data}})$ se llama la probabilidad marginal\n",
    "\n",
    "En un clasificador bayesiano, calculamos el posterior (técnicamente solo calculamos el numerador del posterior) para cada clase de cada observación. Luego, clasificamos la observación según la clase con el valor posterior más grande. En nuestro ejemplo, tenemos una observación para predecir y dos clases posibles (M y F), por lo tanto, calcularemos dos posteriores: uno para M y uno para F.\n",
    "\n",
    "\n",
    "$$p(persona\\ es\\ femenina\\ |\\ \\mathbf{\\text{datos de personas}}) = \\frac{p(\\mathbf{\\text{datos de personas}}\\ |\\ persona\\ es\\ femenina\\ )}{p(\\mathbf{\\text{datos de personas}})}$$"
   ]
  },
  {
   "cell_type": "markdown",
   "metadata": {},
   "source": [
    "### Clasificador Naive Bayes normal\n",
    "\n",
    "Un clasificador Bayesiano normal es probablemente el tipo más popular de clasificador de bayes. Aprendamos que significa y como se usa este clasificador, con las ecuaciones de bayes para nuestros datos:\n",
    "\n",
    "$$posterior(F) = \\frac{p(F)*p(altura\\ |\\ F)*p(peso\\ |\\ F)*p(tam\\_zapato\\ |\\ F)}{probabilidad\\ marginal}$$\n",
    "\n",
    "\n",
    "\n",
    "* $p(\\text{F}) $ probabilidades prior. Es la probabilidad de que una observación sea F. Este es solo el número de mujeres en el conjunto de datos dividido por el número total de personas en el conjunto de datos.\n",
    "\n",
    "* $p(altura \\mid F) \\, p(peso \\mid F) \\, p(tam\\_zapato \\mid F)$ es la probabilidad o likelihood. Ten en cuenta que hemos desempaquetado **datos de la persona** por lo que ahora es cada característica en el conjunto de datos.\n",
    "\n",
    "    - Si se observa cada término en el likelihood de que se observe que asumimos que cada característica no está correlacionada entre sí. Es decir, el tamaño del zapato es independiente del peso o la altura.  Esto obviamente no es cierto, y es una suposición \"ingenua\", de ahí el nombre \"naive bayes\".\n",
    "\n",
    "    - En segundo lugar, suponemos que el valor de las características (por ejemplo, la altura de las mujeres, el peso de las mujeres) se distribuye de manera normal o Gaussiana.\n",
    "    \n",
    "* **probabilidad marginal**, es probablemente una de las partes más confusas de los enfoques bayesianos. En ejemplos elementales es completamente posible calcular la probabilidad marginal. Sin embargo, en muchos casos, es extremadamente difícil o imposible encontrar el valor de la probabilidad marginal. Esto no es tan problemático para nuestro clasificador como podría pensar. ¿Por qué? \n",
    "    Por que  no nos importa cuál es el verdadero valor posterior, solo nos importa qué clase tiene el valor posterior más alto y  debido a que la probabilidad marginal es la misma para todas las clases 1) podemos ignorar el denominador, 2) calcular solo el numerador posterior para cada clase, y 3) elegir el numerador más grande. Es decir, podemos ignorar el denominador posterior y hacer una predicción únicamente sobre los valores relativos del numerador posterior.\n"
   ]
  },
  {
   "cell_type": "markdown",
   "metadata": {},
   "source": [
    "### Calculando priors "
   ]
  },
  {
   "cell_type": "code",
   "execution_count": 4,
   "metadata": {},
   "outputs": [],
   "source": [
    "# Numero de M\n",
    "n_m = data['Genero'][data['Genero'] == 'M'].count()\n",
    "\n",
    "# Numero de F\n",
    "n_f = data['Genero'][data['Genero'] == 'F'].count()\n",
    "\n",
    "# Total filas\n",
    "total_ppl = data['Genero'].count()"
   ]
  },
  {
   "cell_type": "code",
   "execution_count": 5,
   "metadata": {},
   "outputs": [],
   "source": [
    "# Numero de M divididos por el numero de filas\n",
    "P_m = n_m/total_ppl\n",
    "\n",
    "# Numero de F divididos por el numero de filas\n",
    "P_f = n_f/total_ppl"
   ]
  },
  {
   "cell_type": "markdown",
   "metadata": {},
   "source": [
    "### Calculando likelihood\n",
    "\n",
    "Hay que recordar que cada término  es un pdf normal. Esto significa que para cada combinación de clase (por ejemplo, F) y una característica (por ejemplo, altura), necesitamos calcular la varianza y el valor medio de los datos. Pandas lo hace fácil:\n"
   ]
  },
  {
   "cell_type": "code",
   "execution_count": 6,
   "metadata": {},
   "outputs": [
    {
     "data": {
      "text/html": [
       "<div>\n",
       "<style scoped>\n",
       "    .dataframe tbody tr th:only-of-type {\n",
       "        vertical-align: middle;\n",
       "    }\n",
       "\n",
       "    .dataframe tbody tr th {\n",
       "        vertical-align: top;\n",
       "    }\n",
       "\n",
       "    .dataframe thead th {\n",
       "        text-align: right;\n",
       "    }\n",
       "</style>\n",
       "<table border=\"1\" class=\"dataframe\">\n",
       "  <thead>\n",
       "    <tr style=\"text-align: right;\">\n",
       "      <th></th>\n",
       "      <th>Altura</th>\n",
       "      <th>Peso</th>\n",
       "      <th>Talla_zapato</th>\n",
       "    </tr>\n",
       "    <tr>\n",
       "      <th>Genero</th>\n",
       "      <th></th>\n",
       "      <th></th>\n",
       "      <th></th>\n",
       "    </tr>\n",
       "  </thead>\n",
       "  <tbody>\n",
       "    <tr>\n",
       "      <th>F</th>\n",
       "      <td>5.4175</td>\n",
       "      <td>132.50</td>\n",
       "      <td>7.50</td>\n",
       "    </tr>\n",
       "    <tr>\n",
       "      <th>M</th>\n",
       "      <td>5.8550</td>\n",
       "      <td>176.25</td>\n",
       "      <td>11.25</td>\n",
       "    </tr>\n",
       "  </tbody>\n",
       "</table>\n",
       "</div>"
      ],
      "text/plain": [
       "        Altura    Peso  Talla_zapato\n",
       "Genero                              \n",
       "F       5.4175  132.50          7.50\n",
       "M       5.8550  176.25         11.25"
      ]
     },
     "execution_count": 6,
     "metadata": {},
     "output_type": "execute_result"
    }
   ],
   "source": [
    "# Agrupamos los datos por genero y calculamos la media para cada caracteristica\n",
    "data_media = data.groupby('Genero').mean()\n",
    "data_media"
   ]
  },
  {
   "cell_type": "code",
   "execution_count": 7,
   "metadata": {},
   "outputs": [
    {
     "data": {
      "text/html": [
       "<div>\n",
       "<style scoped>\n",
       "    .dataframe tbody tr th:only-of-type {\n",
       "        vertical-align: middle;\n",
       "    }\n",
       "\n",
       "    .dataframe tbody tr th {\n",
       "        vertical-align: top;\n",
       "    }\n",
       "\n",
       "    .dataframe thead th {\n",
       "        text-align: right;\n",
       "    }\n",
       "</style>\n",
       "<table border=\"1\" class=\"dataframe\">\n",
       "  <thead>\n",
       "    <tr style=\"text-align: right;\">\n",
       "      <th></th>\n",
       "      <th>Altura</th>\n",
       "      <th>Peso</th>\n",
       "      <th>Talla_zapato</th>\n",
       "    </tr>\n",
       "    <tr>\n",
       "      <th>Genero</th>\n",
       "      <th></th>\n",
       "      <th></th>\n",
       "      <th></th>\n",
       "    </tr>\n",
       "  </thead>\n",
       "  <tbody>\n",
       "    <tr>\n",
       "      <th>F</th>\n",
       "      <td>0.097225</td>\n",
       "      <td>558.333333</td>\n",
       "      <td>1.666667</td>\n",
       "    </tr>\n",
       "    <tr>\n",
       "      <th>M</th>\n",
       "      <td>0.035033</td>\n",
       "      <td>122.916667</td>\n",
       "      <td>0.916667</td>\n",
       "    </tr>\n",
       "  </tbody>\n",
       "</table>\n",
       "</div>"
      ],
      "text/plain": [
       "          Altura        Peso  Talla_zapato\n",
       "Genero                                    \n",
       "F       0.097225  558.333333      1.666667\n",
       "M       0.035033  122.916667      0.916667"
      ]
     },
     "execution_count": 7,
     "metadata": {},
     "output_type": "execute_result"
    }
   ],
   "source": [
    "# Agrupamos los datos por genero y calculamos la varianza para cada caracteristica\n",
    "data_varianza = data.groupby('Genero').var()\n",
    "data_varianza"
   ]
  },
  {
   "cell_type": "markdown",
   "metadata": {},
   "source": [
    "Ahora podemos crear todas las variables que necesitamos. "
   ]
  },
  {
   "cell_type": "code",
   "execution_count": 8,
   "metadata": {},
   "outputs": [],
   "source": [
    "# Medias para M\n",
    "m_altura_media = data_media['Altura'][data_varianza.index == 'M'].values[0]\n",
    "m_peso_media = data_media['Peso'][data_varianza.index == 'M'].values[0]\n",
    "m_talla_zapato_media = data_media['Talla_zapato'][data_varianza.index == 'M'].values[0]\n",
    "\n",
    "# Varianzas para M\n",
    "m_altura_varianza = data_varianza['Altura'][data_varianza.index == 'M'].values[0]\n",
    "m_peso_varianza = data_varianza['Peso'][data_varianza.index == 'M'].values[0]\n",
    "m_talla_zapato_varianza = data_varianza['Talla_zapato'][data_varianza.index == 'M'].values[0]\n",
    "\n",
    "# Medias para F\n",
    "f_altura_media = data_media['Altura'][data_varianza.index == 'F'].values[0]\n",
    "f_peso_media= data_media['Peso'][data_varianza.index == 'F'].values[0]\n",
    "f_talla_zapato_media = data_media['Talla_zapato'][data_varianza.index == 'F'].values[0]\n",
    "\n",
    "# Varianzas para F\n",
    "f_altura_varianza= data_varianza['Altura'][data_varianza.index == 'F'].values[0]\n",
    "f_peso_varianza = data_varianza['Peso'][data_varianza.index == 'F'].values[0]\n",
    "f_talla_zapato_varianza = data_varianza['Talla_zapato'][data_varianza.index == 'F'].values[0]"
   ]
  },
  {
   "cell_type": "markdown",
   "metadata": {},
   "source": [
    "Finalmente, necesitamos crear una función para calcular la densidad de probabilidad de cada uno de los términos del likelihood (por ejemplo, $p(\\text{altura} \\mid F)$."
   ]
  },
  {
   "cell_type": "markdown",
   "metadata": {},
   "source": [
    "### Funcion de probabilidad\n",
    "\n",
    "Creamos una funcion que calcula p(x | y)"
   ]
  },
  {
   "cell_type": "code",
   "execution_count": 9,
   "metadata": {},
   "outputs": [],
   "source": [
    "def p_x_dado_y(x, media_y, varianza_y):\n",
    "\n",
    "    # Ingresamos los argumentos en un PDF \n",
    "    p = 1/(np.sqrt(2*np.pi*varianza_y)) * np.exp((-(x-media_y)**2)/(2*varianza_y))\n",
    "    return p"
   ]
  },
  {
   "cell_type": "markdown",
   "metadata": {},
   "source": [
    "### Clasificador Bayesiano a nuevos puntos\n",
    "\n",
    "Podemos ignorar la probabilidad marginal (el denominador), por lo que en realidad estamos calculando es: \n",
    "\n",
    "$$\\displaystyle{{numerador\\ del\\ posterior}} = {p(F) * p(altura \\mid F) * p(peso \\mid F) *p(tam\\_zapato \\mid F)}$$\n",
    "\n",
    "Para hacer esto, solo necesitamos agregar los valores de la persona no clasificada (altura = 6), las variables del conjunto de datos (por ejemplo, la media de la altura de F) y la función (p_x_dado_y) que hicimos anteriormente:"
   ]
  },
  {
   "cell_type": "code",
   "execution_count": 10,
   "metadata": {},
   "outputs": [
    {
     "data": {
      "text/plain": [
       "6.197071843878078e-09"
      ]
     },
     "execution_count": 10,
     "metadata": {},
     "output_type": "execute_result"
    }
   ],
   "source": [
    "# Numerador del posterior si la observacion no clasificada es M \n",
    "P_m * \\\n",
    "p_x_dado_y(persona['Altura'][0], m_altura_media, m_altura_varianza) * \\\n",
    "p_x_dado_y(persona['Peso'][0], m_peso_media, m_peso_varianza) * \\\n",
    "p_x_dado_y(persona['Talla_zapato'][0], m_talla_zapato_media, m_talla_zapato_varianza)"
   ]
  },
  {
   "cell_type": "code",
   "execution_count": 11,
   "metadata": {},
   "outputs": [
    {
     "data": {
      "text/plain": [
       "0.0005377909183630018"
      ]
     },
     "execution_count": 11,
     "metadata": {},
     "output_type": "execute_result"
    }
   ],
   "source": [
    "# Numerador del posterior si la observacion no clasificada es F\n",
    "P_f* \\\n",
    "p_x_dado_y(persona['Altura'][0], f_altura_media, f_altura_varianza) * \\\n",
    "p_x_dado_y(persona['Peso'][0], f_peso_media, f_peso_varianza) * \\\n",
    "p_x_dado_y(persona['Talla_zapato'][0], f_talla_zapato_media, f_talla_zapato_varianza)"
   ]
  },
  {
   "cell_type": "markdown",
   "metadata": {},
   "source": [
    "Debido a que el numerador del posterior de F es mayor que M, entonces predecimos que la persona es una mujer."
   ]
  },
  {
   "cell_type": "code",
   "execution_count": null,
   "metadata": {},
   "outputs": [],
   "source": []
  }
 ],
 "metadata": {
  "kernelspec": {
   "display_name": "Python 3",
   "language": "python",
   "name": "python3"
  },
  "language_info": {
   "codemirror_mode": {
    "name": "ipython",
    "version": 3
   },
   "file_extension": ".py",
   "mimetype": "text/x-python",
   "name": "python",
   "nbconvert_exporter": "python",
   "pygments_lexer": "ipython3",
   "version": "3.6.5"
  }
 },
 "nbformat": 4,
 "nbformat_minor": 2
}
