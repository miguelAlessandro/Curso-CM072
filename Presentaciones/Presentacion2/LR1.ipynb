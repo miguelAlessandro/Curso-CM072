{
 "cells": [
  {
   "cell_type": "markdown",
   "metadata": {},
   "source": [
    "## Regresión logística para datos grandes\n",
    "\n",
    "`LogisticRegression` de scikit-learn ofrece una serie de técnicas para el entrenamiento de una regresión logística, denominadas `solvers`. La mayoría de las veces scikit-learn seleccionará automáticamente el mejor `solvers` o nos advertirá que no puede hacer algo con ese solver. Sin embargo, hay un caso particular que debemos tener en cuenta.\n",
    "\n",
    "El algorimo de descenso de gradiente estocástico promedio nos permite entrenar un modelo mucho más rápido que otros solvers cuando nuestros datos son muy grandes. Sin embargo, también es muy sensible al escalado de características.\n",
    "\n",
    "Podemos configurar nuestro algoritmo de aprendizaja para usar este solucionador configurando `solver = sag`. "
   ]
  },
  {
   "cell_type": "code",
   "execution_count": 1,
   "metadata": {},
   "outputs": [],
   "source": [
    "# Librerias\n",
    "from sklearn.linear_model import LogisticRegression\n",
    "from sklearn import datasets\n",
    "from sklearn.preprocessing import StandardScaler\n"
   ]
  },
  {
   "cell_type": "code",
   "execution_count": 2,
   "metadata": {},
   "outputs": [],
   "source": [
    "# Cargando datos\n",
    "iris = datasets.load_iris()\n",
    "X = iris.data\n",
    "y = iris.target"
   ]
  },
  {
   "cell_type": "code",
   "execution_count": 3,
   "metadata": {},
   "outputs": [],
   "source": [
    "# caracteristicas estandarizadas\n",
    "escalador = StandardScaler()\n",
    "X_std = escalador.fit_transform(X)"
   ]
  },
  {
   "cell_type": "code",
   "execution_count": 4,
   "metadata": {},
   "outputs": [],
   "source": [
    "# Creamos el objeto regresion logistica con el solver SAG\n",
    "clf = LogisticRegression(random_state=0, solver='sag')"
   ]
  },
  {
   "cell_type": "code",
   "execution_count": 5,
   "metadata": {},
   "outputs": [],
   "source": [
    "# Entrenamos el modelo\n",
    "modelo_rl = clf.fit(X_std, y)"
   ]
  },
  {
   "cell_type": "code",
   "execution_count": null,
   "metadata": {},
   "outputs": [],
   "source": []
  }
 ],
 "metadata": {
  "kernelspec": {
   "display_name": "Python 3",
   "language": "python",
   "name": "python3"
  },
  "language_info": {
   "codemirror_mode": {
    "name": "ipython",
    "version": 3
   },
   "file_extension": ".py",
   "mimetype": "text/x-python",
   "name": "python",
   "nbconvert_exporter": "python",
   "pygments_lexer": "ipython3",
   "version": "3.6.5"
  }
 },
 "nbformat": 4,
 "nbformat_minor": 2
}
