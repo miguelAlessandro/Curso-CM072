{
 "cells": [
  {
   "cell_type": "markdown",
   "metadata": {},
   "source": [
    "## Evaluación y mejoras  de los modelos\n",
    "\n",
    "Para evaluar los modelos supervisados, hasta ahora hemos dividido nuestro conjunto de datos en un conjunto de entrenamiento y un conjunto de prueba utilizando la función `train_test_split`, construimos un modelo en el conjunto de entrenamiento llamando al método `fit` y lo evaluamos en el conjunto de prueba utilizando el método `score`, que para la clasificación calcula la fracción de muestras correctamente clasificadas. La evaluación y selección de modelos en el aprendizaje no supervisado es a menudo un proceso muy cualitativo.\n",
    "\n",
    "A quí hay un ejemplo de ese proceso, para el caso de modelos supervisados:"
   ]
  },
  {
   "cell_type": "code",
   "execution_count": 1,
   "metadata": {},
   "outputs": [
    {
     "name": "stdout",
     "output_type": "stream",
     "text": [
      "Puntuacion del conjunto de pruebas: 0.88\n"
     ]
    }
   ],
   "source": [
    "%matplotlib inline\n",
    "import numpy as np\n",
    "import pandas as pd\n",
    "import matplotlib.pyplot as plt\n",
    "\n",
    "from sklearn.datasets import make_blobs\n",
    "from sklearn.linear_model import LogisticRegression\n",
    "from sklearn.model_selection import train_test_split\n",
    "\n",
    "# creamos datos artificiales\n",
    "X, y = make_blobs(random_state=0)\n",
    "\n",
    "# dividimos datos y etiquetas en un entrenamiento y un conjunto de prueba\n",
    "X_entrenamiento, X_prueba, y_entrenamiento, y_prueba = train_test_split(X, y, random_state=0)\n",
    "\n",
    "# creamos una instancia de un modelo y ajustarlo al conjunto de entrenamiento\n",
    "logreg = LogisticRegression().fit(X_entrenamiento, y_entrenamiento)\n",
    "\n",
    "# evaluamos el modelo en el conjunto de prueba\n",
    "print(\"Puntuacion del conjunto de pruebas: {:.2f}\".format(logreg.score(X_prueba, y_prueba)))"
   ]
  },
  {
   "cell_type": "markdown",
   "metadata": {},
   "source": [
    "Recuerda, que la razón por la que dividimos nuestros datos en conjuntos de entrenamiento y prueba es que estamos interesados en medir qué tan bien nuestro modelo se generaliza a datos nuevos, nunca antes vistos.\n",
    "No estamos interesados en qué tan bien nuestro modelo se ajusta al conjunto de entrenamiento, sino en qué tan bien puede hacer predicciones para los datos que no se observaron durante el entrenamiento.\n",
    "\n",
    "Vamos a ampliar dos aspectos de esta evaluación. Primero introduciremos la validación cruzada, una forma más sólida de evaluar el rendimiento de generalización  y discutiremos los métodos para evaluar el rendimiento de clasificación y regresión que van más allá de las medidas predeterminadas de precisión y $R^2$ proporcionadas por el método `score`.\n",
    "\n",
    "Existen otros meétodos como la búsqueda grid, un método efectivo para ajustar los parámetros en los modelos para obtener el mejor rendimiento de la generalización.\n"
   ]
  },
  {
   "cell_type": "markdown",
   "metadata": {},
   "source": [
    "### Validación cruzada\n",
    "\n",
    "La validación cruzada es un método estadístico para evaluar el rendimiento de generalización que es más estable y exhaustivo que el uso de una división en un entrenamiento y un conjunto de prueba. En la validación cruzada, los datos se dividen en varias ocasiones y se entrena a varios modelos.\n",
    "\n",
    "La versión más comúnmente utilizada de la validación cruzada es `k-fold cross-validation` (validación cruzada de k grupos), donde k es un número especificado por el usuario, generalmente 5 o 10. Al realizar una validación cruzada de cinco grupos, los datos se dividen primero en cinco partes de ( aproximadamente) de igual tamaño, llamados `folds` (grupos).\n",
    "\n",
    "A continuación, se entrena una secuencia de modelos. El primer modelo se entrena utilizando el primer grupo  como conjunto de prueba, y los grupos  restantes (2-5) se usan como conjunto de entrenamiento. El modelo se construye usando los datos en los grupos 2-5, y luego la precisión se evalúa en el grupo 1. Luego se construye otro modelo, esta vez usando el grupo 2 como el conjunto de prueba y los datos en los grupos 1, 3, 4 y 5 como el conjunto de entrenamiento.\n",
    "\n",
    "Este proceso se repite usando los grupos 3, 4 y 5 como conjuntos de prueba. Para cada una de estas cinco divisiones de los datos en los conjuntos de entrenamiento y prueba, calculamos la precisión. Al final, hemos recopilado cinco valores de precisión. El proceso se ilustra en la figura:"
   ]
  },
  {
   "cell_type": "code",
   "execution_count": 2,
   "metadata": {},
   "outputs": [],
   "source": [
    "def dibuja_validacion_cruzada():\n",
    "    plt.figure(figsize=(12, 2))\n",
    "    plt.title(\"Validacion cruzada\")\n",
    "    axes = plt.gca()\n",
    "    axes.set_frame_on(False)\n",
    "\n",
    "    n_grupos = 5\n",
    "    n_muestras = 25\n",
    "\n",
    "    n_muestras_por_grupos = n_muestras/float(n_grupos)\n",
    "\n",
    "    for i in range(n_grupos):\n",
    "        colores = [\"w\"] * n_grupos\n",
    "        colores[i] = \"grey\"\n",
    "        bars = plt.barh(y=range(n_grupos), width=[n_muestras_por_grupos - 0.1] * n_grupos,\n",
    "            left=i * n_muestras_por_grupos, height=.6, color=colores, hatch=\"//\",\n",
    "            edgecolor='k', align='edge')\n",
    "    axes.invert_yaxis()\n",
    "    axes.set_xlim(0, n_muestras + 1)\n",
    "    plt.ylabel(\"Interaciones CV\")\n",
    "    plt.xlabel(\"Puntos de datos\")\n",
    "    plt.xticks(np.arange(n_muestras_por_grupos / 2., n_muestras,\n",
    "                         n_muestras_por_grupos),\n",
    "               [\"Grupos %d\" % x for x in range(1, n_grupos + 1)])\n",
    "    plt.yticks(np.arange(n_grupos) + .3,\n",
    "               [\"Division %d\" % x for x in range(1, n_grupos + 1)])\n",
    "    plt.legend([bars[0], bars[4]], ['Datos de entrenamiento', 'Datos de prueba'],\n",
    "               loc=(1.05, 0.4), frameon=False)"
   ]
  },
  {
   "cell_type": "code",
   "execution_count": 3,
   "metadata": {},
   "outputs": [
    {
     "data": {
      "image/png": "[encoded data removed]",
      "text/plain": [
       "<Figure size 864x144 with 1 Axes>"
      ]
     },
     "metadata": {},
     "output_type": "display_data"
    }
   ],
   "source": [
    "dibuja_validacion_cruzada()"
   ]
  },
  {
   "cell_type": "markdown",
   "metadata": {},
   "source": [
    "Por lo general, el primer quinto de los datos es el primer grupo, el segundo quinto de los datos es el segundo grupo, y así sucesivamente."
   ]
  },
  {
   "cell_type": "markdown",
   "metadata": {},
   "source": [
    "### Validación cruzada en scikit-learn\n",
    "\n",
    "La validación cruzada se implementa en scikit-learn utilizando la función `cross_val_score` del módulo `model_selection`. Los parámetros de la función `cross_val_score` son el  modelo que queremos evaluar, los datos de entrenamiento y las etiquetas de evidencia empírica. Evaluemos LogisticRegression con el conjunto de datos `iris`:"
   ]
  },
  {
   "cell_type": "code",
   "execution_count": 4,
   "metadata": {},
   "outputs": [
    {
     "name": "stdout",
     "output_type": "stream",
     "text": [
      "Puntuacion de validacion cruzada: [0.96078431 0.92156863 0.95833333]\n"
     ]
    }
   ],
   "source": [
    "from sklearn.model_selection import cross_val_score\n",
    "from sklearn.datasets import load_iris\n",
    "from sklearn.linear_model import LogisticRegression\n",
    "iris = load_iris()\n",
    "logreg = LogisticRegression()\n",
    "puntuacion= cross_val_score(logreg, iris.data, iris.target)\n",
    "print(\"Puntuacion de validacion cruzada: {}\".format(puntuacion))"
   ]
  },
  {
   "cell_type": "markdown",
   "metadata": {},
   "source": [
    "De forma predeterminada, `cross_val_score` realiza una validación cruzada de tres grupos, y devuelve tres valores de precisión. Podemos cambiar la cantidad de grupos utilizados cambiando el parámetro `cv`:"
   ]
  },
  {
   "cell_type": "code",
   "execution_count": 5,
   "metadata": {},
   "outputs": [
    {
     "name": "stdout",
     "output_type": "stream",
     "text": [
      "Puntuacion de validacion cruzada: [1.         0.96666667 0.93333333 0.9        1.        ]\n"
     ]
    }
   ],
   "source": [
    "puntuacion= cross_val_score(logreg, iris.data, iris.target, cv=5)\n",
    "print(\"Puntuacion de validacion cruzada: {}\".format(puntuacion))"
   ]
  },
  {
   "cell_type": "markdown",
   "metadata": {},
   "source": [
    "Una forma común de resumir la precisión de la  validación cruzada es calcular la media:"
   ]
  },
  {
   "cell_type": "code",
   "execution_count": 6,
   "metadata": {},
   "outputs": [
    {
     "name": "stdout",
     "output_type": "stream",
     "text": [
      "Promedio de las puntuaciones de validacion cruzada: 0.9600000000000002\n"
     ]
    }
   ],
   "source": [
    "print(\"Promedio de las puntuaciones de validacion cruzada: {}\".format(puntuacion.mean()))"
   ]
  },
  {
   "cell_type": "markdown",
   "metadata": {},
   "source": [
    "Usando la validación cruzada promedio, podemos concluir que el modelo tiene una precisión alrededor del 96% en promedio. En cuanto a los cinco puntajes producidos por la validación cruzada de cinco grupos, podemos concluir también que hay una varianza relativamente alta en la precisión entre los grupos, que van desde el 100% de precisión hasta el 90% de precisión. Esto podría implicar que el modelo es muy dependiente de los grupos particulares utilizados para el entrenamiento, pero también podría ser una consecuencia del pequeño tamaño del conjunto de datos."
   ]
  },
  {
   "cell_type": "markdown",
   "metadata": {},
   "source": [
    "### Beneficios de la validación \n",
    "\n",
    "El uso de la validación cruzada en lugar de una única división de un conjunto de entrenamiento y un conjunto de prueba brinda varios beneficios. Primero, recuerde que `train_test_split` realiza una división aleatoria de los datos. Imaginamos que tenemos \"suerte\" al dividir al azar los datos, y todos los ejemplos que son difíciles de clasificar terminan en el conjunto de entrenamiento. En ese caso, el conjunto de prueba solo contendrá ejemplos \"fáciles\"  y nuestra precisión en el conjunto de pruebas será irrealmente alta.\n",
    "\n",
    "Por el contrario, si tenemos \"mala suerte\", podríamos haber puesto al azar todos los ejemplos difíciles de clasificar en el conjunto de pruebas y consecuentemente obtener un puntaje bajo irrealmente. Sin embargo, al usar la validación cruzada, cada ejemplo estará en el conjunto de entrenamiento exactamente una vez: cada ejemplo está en uno de los grupos, y cada grupo es el conjunto de prueba una vez. Por lo tanto, el modelo necesita generalizar bien a todas las muestras en el conjunto de datos para que todos los puntajes de validación cruzada (y su media) sean altos.\n",
    "\n",
    "Tener múltiples divisiones de los datos también proporciona cierta información acerca de cuán sensible es nuestro modelo para la selección del conjunto de datos de entrenamiento. Para el conjunto de datos del iris, vimos precisiones entre 90% y 100%. Este es un amplio rango, y nos da una idea de cómo el modelo podría funcionar en el peor de los casos y los mejores escenarios posibles cuando se aplica a nuevos datos.\n",
    "\n",
    "Otro beneficio de la validación cruzada en comparación con el uso de una sola división de los datos es que utilizamos nuestros datos de manera más efectiva. Cuando se utiliza train_test_split, generalmente usamos el 75% de los datos para el entrenamiento y el 25% de los datos para la evaluación. Al usar una validación cruzada de cinco grupos, en cada iteración podemos usar cuatro quintos de los datos (80%) para ajustar el modelo. Al usar una validación cruzada de 10 grupos, podemos usar nueve décimas partes de los datos (90%) para ajustar el modelo. Más datos generalmente darán como resultado modelos más precisos.\n",
    "\n",
    "\n",
    "La principal desventaja de la validación cruzada es un mayor costo computacional. Como ahora estamos entrenando k modelos en lugar de un único modelo, la validación cruzada será aproximadamente k veces más lenta que una sola división de los datos.\n",
    "\n",
    "Es importante tener en cuenta que la validación cruzada no es una forma de construir un modelo que se pueda aplicar a nuevos datos. La validación cruzada no devuelve un modelo. Cuando se llama a `cross_val_score`, se crean varios modelos internamente, pero el propósito de la validación cruzada es evaluar qué tan bien se generalizará un algoritmo determinado cuando se entrene en un conjunto de datos específico."
   ]
  },
  {
   "cell_type": "markdown",
   "metadata": {},
   "source": [
    "### Validación cruzada estratificada y otras estrategias\n",
    "\n",
    "Si dividimos el conjunto de datos en k grupos comenzando con la primera parte de la k-ésima parte de los datos, como se describe en la sección anterior, puede no ser siempre una buena idea. Por ejemplo, echemos un vistazo al conjunto de datos de iris:\n"
   ]
  },
  {
   "cell_type": "code",
   "execution_count": 7,
   "metadata": {},
   "outputs": [
    {
     "name": "stdout",
     "output_type": "stream",
     "text": [
      "Etiqueta iris:\n",
      "[0 0 0 0 0 0 0 0 0 0 0 0 0 0 0 0 0 0 0 0 0 0 0 0 0 0 0 0 0 0 0 0 0 0 0 0 0\n",
      " 0 0 0 0 0 0 0 0 0 0 0 0 0 1 1 1 1 1 1 1 1 1 1 1 1 1 1 1 1 1 1 1 1 1 1 1 1\n",
      " 1 1 1 1 1 1 1 1 1 1 1 1 1 1 1 1 1 1 1 1 1 1 1 1 1 1 2 2 2 2 2 2 2 2 2 2 2\n",
      " 2 2 2 2 2 2 2 2 2 2 2 2 2 2 2 2 2 2 2 2 2 2 2 2 2 2 2 2 2 2 2 2 2 2 2 2 2\n",
      " 2 2]\n"
     ]
    }
   ],
   "source": [
    "from sklearn.datasets import load_iris\n",
    "iris = load_iris()\n",
    "print(\"Etiqueta iris:\\n{}\".format(iris.target))"
   ]
  },
  {
   "cell_type": "markdown",
   "metadata": {},
   "source": [
    "Como se puede ver, el primer tercio de los datos es de la clase 0, el segundo tercio es de la clase 1 y el último tercio es de la clase 2. Imaginemos realizar una validación cruzada de tres grupos en este conjunto de datos. El primer grupo solo sería de clase 0, por lo que en la primera división de los datos, el conjunto de prueba sería solo de clase 0, y el conjunto de entrenamiento sería solo de clase 1 y 2. Como las clases en el entrenamiento y los conjuntos de prueba serían diferentes para las tres divisiones, la precisión de validación cruzada de tres grupos sería cero en este conjunto de datos. Eso no es muy útil, ya que podemos hacer mucho mejor que el 0% de precisión en el datos de iris.\n",
    "\n",
    "Como la estrategia simple de k-grupos falla aquí, scikit-learn no la usa para la clasificación, sino que usa la validación cruzada de k-grupos estratificada. En la validación cruzada estratificada, dividimos los datos de forma que las proporciones entre las clases sean las mismas en cada grupo, que en el conjunto de datos completo, como se ilustra en la siguiente figura:"
   ]
  },
  {
   "cell_type": "code",
   "execution_count": 8,
   "metadata": {},
   "outputs": [],
   "source": [
    "def dibuja_validacion_cruzada_estratificada():\n",
    "    fig, both_axes = plt.subplots(2, 1, figsize=(12, 5))\n",
    "    axes = both_axes[0]\n",
    "    axes.set_title(\"Validacion cruzada estandar con etiquetas de clase clasificadas\")\n",
    "\n",
    "    axes.set_frame_on(False)\n",
    "\n",
    "    n_grupos = 3\n",
    "    n_muestras = 150\n",
    "\n",
    "    n_muestras_por_grupo = n_muestras / float(n_grupos)\n",
    "\n",
    "    for i in range(n_grupos):\n",
    "        colors = [\"w\"] * n_grupos\n",
    "        colors[i] = \"grey\"\n",
    "        axes.barh(y=range(n_grupos), width=[n_muestras_por_grupo - 1] *\n",
    "                  n_grupos, left=i * n_muestras_por_grupo, height=.6,\n",
    "                  color=colors, hatch=\"//\", edgecolor='k', align='edge')\n",
    "\n",
    "    axes.barh(y=[n_grupos] * n_grupos, width=[n_muestras_por_grupo - 1] *\n",
    "              n_grupos, left=np.arange(3) * n_muestras_por_grupo, height=.6,\n",
    "              color=\"w\", edgecolor='k', align='edge')\n",
    "\n",
    "    axes.invert_yaxis()\n",
    "    axes.set_xlim(0, n_muestras + 1)\n",
    "    axes.set_ylabel(\"Iteraciones CV\")\n",
    "    axes.set_xlabel(\"Puntos de datos\")\n",
    "    axes.set_xticks(np.arange(n_muestras_por_grupo / 2.,\n",
    "                              n_muestras, n_muestras_por_grupo))\n",
    "    axes.set_xticklabels([\"Grupo %d\" % x for x in range(1, n_grupos + 1)])\n",
    "    axes.set_yticks(np.arange(n_grupos + 1) + .3)\n",
    "    axes.set_yticklabels(\n",
    "        [\"Division %d\" % x for x in range(1, n_grupos + 1)] + [\"Etiquetas de clase\"])\n",
    "    for i in range(3):\n",
    "        axes.text((i + .5) * n_muestras_por_grupo, 3.5, \"Clase %d\" %\n",
    "                  i, horizontalalignment=\"center\")\n",
    "\n",
    "    ax = both_axes[1]\n",
    "    ax.set_title(\"Validacion cruzada estratificada\")\n",
    "    ax.set_frame_on(False)\n",
    "    ax.invert_yaxis()\n",
    "    ax.set_xlim(0, n_muestras + 1)\n",
    "    ax.set_ylabel(\"IteracionesCV \")\n",
    "    ax.set_xlabel(\"Puntos de datos\")\n",
    "\n",
    "    ax.set_yticks(np.arange(n_grupos + 1) + .3)\n",
    "    ax.set_yticklabels(\n",
    "        [\"Division %d\" % x for x in range(1, n_grupos + 1)] + [\"Etiquetas de clase\"])\n",
    "\n",
    "    n_subsplit = n_muestras_por_grupo / 3.\n",
    "    for i in range(n_grupos):\n",
    "        bar_prueba = ax.barh(\n",
    "            y=[i] * n_grupos, width=[n_subsplit - 1] * n_grupos,\n",
    "            left=np.arange(n_grupos) * n_muestras_por_grupo + i * n_subsplit,\n",
    "            height=.6, color=\"grey\", hatch=\"//\", edgecolor='k', align='edge')\n",
    "\n",
    "    w = 2 * n_subsplit - 1\n",
    "    ax.barh(y=[0] * n_grupos, width=[w] * n_grupos, left=np.arange(n_grupos)\n",
    "            * n_muestras_por_grupo + (0 + 1) * n_subsplit, height=.6, color=\"w\",\n",
    "            hatch=\"//\", edgecolor='k', align='edge')\n",
    "    ax.barh(y=[1] * (n_grupos + 1), width=[w / 2., w, w, w / 2.],\n",
    "            left=np.maximum(0, np.arange(n_grupos + 1) * n_muestras_por_grupo -\n",
    "                            n_subsplit), height=.6, color=\"w\", hatch=\"//\",\n",
    "            edgecolor='k', align='edge')\n",
    "    bar_entrenamiento = ax.barh(y=[2] * n_grupos, width=[w] * n_grupos,\n",
    "                            left=np.arange(n_grupos) * n_muestras_por_grupo,\n",
    "                            height=.6, color=\"w\", hatch=\"//\", edgecolor='k',\n",
    "                            align='edge')\n",
    "\n",
    "    ax.barh(y=[n_grupos] * n_grupos, width=[n_muestras_por_grupo - 1] *\n",
    "            n_grupos, left=np.arange(n_grupos) * n_muestras_por_grupo, height=.6,\n",
    "            color=\"w\", edgecolor='k', align='edge')\n",
    "\n",
    "    for i in range(3):\n",
    "        ax.text((i + .5) * n_muestras_por_grupo, 3.5, \"Clase %d\" %\n",
    "                i, horizontalalignment=\"center\")\n",
    "    ax.set_ylim(4, -0.1)\n",
    "    plt.legend([bar_entrenamiento[0], bar_prueba[0]], [\n",
    "               'Datos de entrenamiento', 'Datos de prueba'], loc=(1.05, 1), frameon=False)\n",
    "\n",
    "    fig.tight_layout()"
   ]
  },
  {
   "cell_type": "code",
   "execution_count": 9,
   "metadata": {},
   "outputs": [
    {
     "data": {
      "image/png": "[encoded data removed]",
      "text/plain": [
       "<Figure size 864x360 with 2 Axes>"
      ]
     },
     "metadata": {},
     "output_type": "display_data"
    }
   ],
   "source": [
    "dibuja_validacion_cruzada_estratificada()"
   ]
  },
  {
   "cell_type": "markdown",
   "metadata": {},
   "source": [
    "Por ejemplo, si el 90% de las muestras pertenecen a la clase A y el 10% de las muestras pertenecen a la clase B, la validación cruzada estratificada garantiza que en cada grupo el 90% de las muestras pertenecen a la clase A y el 10% de las muestras pertenecen a clase B.\n",
    "\n",
    "Por lo general, es una buena idea utilizar la validación cruzada estratificada en lugar de la validación cruzada usual para evaluar un clasificador, ya que da como resultado estimaciones más confiables del rendimiento de la generalización. En el caso de solo el 10% de las muestras pertenecientes a la clase B, utilizando la validación cruzada estándar, podría suceder que un grupo solo contenga muestras de clase A. Usar este grupo como un conjunto de prueba no sería muy informativo sobre el rendimiento general del clasificador.\n",
    "\n",
    "Para la regresión, scikit-learn utiliza la validación cruzada de estándar por defecto. También sería posible tratar de hacer que cada grupo  sea representativo de los diferentes valores que tiene el objetivo de regresión, pero esta no es una estrategia comúnmente utilizada y sería sorprendente para la mayoría de los usuarios."
   ]
  },
  {
   "cell_type": "markdown",
   "metadata": {},
   "source": [
    "### Más control sobre la validación cruzada\n",
    "\n",
    "Vimos anteriormente que podemos ajustar la cantidad de grupos que se usan en `cross_val_score` usando el parámetro `cv`. Sin embargo, scikit-learn permite un control mucho más fino sobre lo que sucede durante la división de los datos al proporcionar un separador de validación cruzada como el parámetro `cv`. Para la mayoría de los casos de uso, los valores predeterminados de la validación cruzada para k grupos para regresión y validación cruzada estratificada para clasificación funcionan bien, pero hay algunos casos en los que es posible que desee utilizar una estrategia diferente.\n",
    "\n",
    "Digamos, por ejemplo, que queremos usar la validación cruzada  estándar en un conjunto de datos de clasificación para reproducir los resultados de otra persona. Para hacer esto, primero tenemos que importar el separador `KFold` del módulo `model_selection` e instanciarlo con el número de grupos que queremos usar:\n"
   ]
  },
  {
   "cell_type": "code",
   "execution_count": 10,
   "metadata": {},
   "outputs": [],
   "source": [
    "from sklearn.model_selection import KFold\n",
    "kfold = KFold(n_splits=5)"
   ]
  },
  {
   "cell_type": "markdown",
   "metadata": {},
   "source": [
    "Entonces, podemos pasar el objeto separador `kfold` como el parámetro `cv` a `cross_val_score`:"
   ]
  },
  {
   "cell_type": "code",
   "execution_count": 11,
   "metadata": {},
   "outputs": [
    {
     "name": "stdout",
     "output_type": "stream",
     "text": [
      "Puntuacion de validacion cruzada:\n",
      "[1.         0.93333333 0.43333333 0.96666667 0.43333333]\n"
     ]
    }
   ],
   "source": [
    "print(\"Puntuacion de validacion cruzada:\\n{}\".format( cross_val_score(logreg, iris.data, iris.target, cv=kfold)))"
   ]
  },
  {
   "cell_type": "markdown",
   "metadata": {},
   "source": [
    "De esta forma, podemos verificar que realmente es una mala idea usar una validación cruzada usando tres grupos (no estratificada) en el conjunto de datos del iris:"
   ]
  },
  {
   "cell_type": "code",
   "execution_count": 12,
   "metadata": {},
   "outputs": [
    {
     "name": "stdout",
     "output_type": "stream",
     "text": [
      "Puntuacion de validacion cruzada:\n",
      "[0. 0. 0.]\n"
     ]
    }
   ],
   "source": [
    "kfold = KFold(n_splits=3)\n",
    "print(\"Puntuacion de validacion cruzada:\\n{}\".format(cross_val_score(logreg, iris.data, iris.target, cv=kfold)))"
   ]
  },
  {
   "cell_type": "markdown",
   "metadata": {},
   "source": [
    "Cada grupo corresponde a una de las clases del dataset del iris, por lo que no se puede aprender nada. Otra forma de resolver este problema es mezclar los datos en lugar de estratificar los grupos, para eliminar el orden de las muestras por etiqueta. Podemos hacer eso configurando el parámetro `shuffle` de `KFold` a `True`.\n",
    "\n",
    "Si mezclamos los datos, también necesitamos austar el `random_state` para obtener una mezcla reproducible. De lo contrario, cada ejecución de `cross_val_score` arrojaría un resultado diferente, ya que cada vez se usaría un separador diferente (esto podría no ser un problema, pero puede ser sorprendente). Mezclar los datos antes dividirlo produce un resultado mucho mejor:"
   ]
  },
  {
   "cell_type": "code",
   "execution_count": 13,
   "metadata": {},
   "outputs": [
    {
     "name": "stdout",
     "output_type": "stream",
     "text": [
      "Puntuacion de validacion cruzada:\n",
      "[0.9  0.96 0.96]\n"
     ]
    }
   ],
   "source": [
    "kfold = KFold(n_splits=3, shuffle=True, random_state=0)\n",
    "print(\"Puntuacion de validacion cruzada:\\n{}\".format(cross_val_score(logreg, iris.data, iris.target, cv=kfold)))"
   ]
  },
  {
   "cell_type": "markdown",
   "metadata": {},
   "source": [
    "### Validación cruzada dejando uno fuera\n",
    "\n",
    "Otro método de validación cruzada utilizado con frecuencia es `leave-one-out`. Se puede pensar en la `validación cruzada dejando uno fuera`, como una validación cruzada donde cada grupo es una sola muestra. Para cada división, se elige un único punto de datos para ser el conjunto de prueba. Esto puede consumir mucho tiempo, especialmente para grandes conjuntos de datos, pero a veces proporciona mejores estimaciones en pequeños conjuntos de datos:"
   ]
  },
  {
   "cell_type": "code",
   "execution_count": 14,
   "metadata": {},
   "outputs": [
    {
     "name": "stdout",
     "output_type": "stream",
     "text": [
      "Numero interaciones cv :  150\n",
      "Precision media: 0.95\n"
     ]
    }
   ],
   "source": [
    "from sklearn.model_selection import LeaveOneOut\n",
    "loo = LeaveOneOut()\n",
    "puntuacion= cross_val_score(logreg, iris.data, iris.target, cv=loo)\n",
    "print(\"Numero interaciones cv : \", len(puntuacion))\n",
    "print(\"Precision media: {:.2f}\".format(puntuacion.mean()))"
   ]
  },
  {
   "cell_type": "markdown",
   "metadata": {},
   "source": [
    "### La validación cruzada dividida aleatoriamente\n",
    "\n",
    "Otra estrategia muy flexible para la validación cruzada es la validación cruzada alaeatoria. En la validación cruzada aleatoria, cada muestra dividida `train_size`  puntos son para el conjunto de entrenamiento y `test_size` puntos (disjuntos) para el conjunto de prueba. Esta división se repite `n_iter` veces. La siguiente figura ilustra la ejecución de cuatro iteraciones de división de un conjunto de datos que consta de 10 puntos, con un conjunto de entrenamiento de 5 puntos y conjuntos de prueba de 2 puntos cada uno (puede usar enteros para `train_size` y `test_size` para usar tamaños absolutos para estos conjuntos o puntos flotantes para usar fracciones de todo el conjunto de datos):"
   ]
  },
  {
   "cell_type": "code",
   "execution_count": 15,
   "metadata": {},
   "outputs": [],
   "source": [
    "def dibuja_validacion_cruzada_aleatoria():\n",
    "    from sklearn.model_selection import ShuffleSplit\n",
    "    plt.figure(figsize=(10, 2))\n",
    "    plt.title(\"Validacion cruzada aleatoria con 10 points\"\n",
    "              \", num_entrenamiento=5, num_prueba= 2, n_division=4\")\n",
    "\n",
    "    axes = plt.gca()\n",
    "    axes.set_frame_on(False)\n",
    "\n",
    "    n_grupos = 10\n",
    "    n_muestras = 10\n",
    "    n_iter = 4\n",
    "    n_muestras_por_grupo = 1\n",
    "\n",
    "    ss = ShuffleSplit(n_splits=4, train_size=5, test_size=2, random_state=43)\n",
    "    mascara_bool = np.zeros((n_iter, n_muestras))\n",
    "    for i, (entrenamiento, prueba) in enumerate(ss.split(range(10))):\n",
    "        mascara_bool[i, entrenamiento] = 1\n",
    "        mascara_bool[i, prueba] = 2\n",
    "\n",
    "    for i in range(n_grupos):\n",
    "        colores = [\"grey\" if x == 2 else \"white\" for x in mascara_bool[:, i]]\n",
    "\n",
    "        cajas = axes.barh(y=range(n_iter), width=[1 - 0.1] * n_iter,\n",
    "                          left=i * n_muestras_por_grupo, height=.6, color=colores,\n",
    "                          hatch=\"//\", edgecolor='k', align='edge')\n",
    "        for j in np.where(mascara_bool[:, i] == 0)[0]:\n",
    "            cajas[j].set_hatch(\"\")\n",
    "\n",
    "    axes.invert_yaxis()\n",
    "    axes.set_xlim(0, n_muestras + 1)\n",
    "    axes.set_ylabel(\"Interaciones CV\")\n",
    "    axes.set_xlabel(\"Puntos de datos\")\n",
    "    axes.set_xticks(np.arange(n_muestras) + .5)\n",
    "    axes.set_xticklabels(np.arange(1, n_muestras + 1))\n",
    "    axes.set_yticks(np.arange(n_iter) + .3)\n",
    "    axes.set_yticklabels([\"Division %d\" % x for x in range(1, n_iter + 1)])\n",
    "    plt.legend([cajas[1], cajas[0], cajas[2]], [\n",
    "               \"Conjunto de entrenamiento\", \"Conjunto de prueba\", \"No seleccionados\"], loc=(1, .3))\n",
    "    plt.tight_layout()\n"
   ]
  },
  {
   "cell_type": "code",
   "execution_count": 16,
   "metadata": {},
   "outputs": [
    {
     "data": {
      "image/png": "[encoded data removed]",
      "text/plain": [
       "<Figure size 720x144 with 1 Axes>"
      ]
     },
     "metadata": {},
     "output_type": "display_data"
    }
   ],
   "source": [
    "dibuja_validacion_cruzada_aleatoria()"
   ]
  },
  {
   "cell_type": "markdown",
   "metadata": {},
   "source": [
    "El siguiente código divide el conjunto de datos en 50% de conjunto de entrenamiento y 50% de conjunto de prueba para 10 iteraciones:"
   ]
  },
  {
   "cell_type": "code",
   "execution_count": 19,
   "metadata": {},
   "outputs": [
    {
     "name": "stdout",
     "output_type": "stream",
     "text": [
      "Puntuacion de validacion cruzada:\n",
      "[0.97333333 0.92       0.93333333 0.92       0.94666667 0.88\n",
      " 0.96       0.85333333 0.96       0.96      ]\n"
     ]
    }
   ],
   "source": [
    "from sklearn.model_selection import ShuffleSplit\n",
    "division_aleatoria = ShuffleSplit(test_size=.5, train_size=.5, n_splits=10)\n",
    "puntuacion = cross_val_score(logreg, iris.data, iris.target, cv=division_aleatoria)\n",
    "print(\"Puntuacion de validacion cruzada:\\n{}\".format(puntuacion))"
   ]
  },
  {
   "cell_type": "markdown",
   "metadata": {},
   "source": [
    "La validación cruzada aleatoria permite controlar el número de iteraciones independientemente de los tamaños de entrenamiento y prueba, lo que a veces puede ser útil. También permite usar solo una parte de los datos en cada iteración, al proporcionar ajustes de `train_size` y `test_size`  que no suman uno. Submuestrear los datos de esta manera puede ser útil para experimentar con grandes conjuntos de datos.\n",
    "\n",
    "También hay una variante estratificada de `ShuffleSplit`,  llamada `StratifiedShuffleSplit`, que puede proporcionar resultados más confiables para tareas de clasificación."
   ]
  },
  {
   "cell_type": "markdown",
   "metadata": {},
   "source": [
    "### Validación cruzada con grupos\n",
    "\n",
    "Otro escenario muy común para la validación cruzada es cuando hay grupos en los datos que están altamente relacionados. Digamos que quiere construir un sistema para reconocer emociones a partir de imágenes de rostros, y se recopila un conjunto de imágenes de 100 personas donde cada persona es capturada varias veces, mostrando diversas emociones.\n",
    "\n",
    "El objetivo es construir un clasificador que pueda identificar correctamente las emociones de las personas que no están en el conjunto de datos. Se puede usar la validación cruzada estratificada predeterminada para medir el rendimiento de un clasificador para esta tarea. Sin embargo, es probable que las imágenes de la misma persona estén tanto en el entrenamiento como en el conjunto de prueba. \n",
    "Sería más fácil para un clasificador detectar emociones en una cara que es parte del conjunto de entrenamiento, en comparación con una cara completamente nueva. Para evaluar con precisión la generalización a caras nuevas, debemos asegurarnos de que los conjuntos de entrenamiento y prueba contengan imágenes de diferentes personas.\n",
    "\n",
    "Para lograr esto, podemos usar `GroupKFold`, que toma una matriz de `groups` como argumento que podemos utilizar para indicar qué persona está en la imagen. Esta matriz  indica los grupos en los datos que no se deben dividir cuando se crean los conjuntos de entrenamiento y prueba, y no se debe confundir con la etiqueta de la clase.\n"
   ]
  },
  {
   "cell_type": "markdown",
   "metadata": {},
   "source": [
    "#### Ejemplo\n",
    "\n",
    "Utilizamos un conjunto de datos artificiales con una agrupación dada por la matriz `groups`. El conjunto de datos consta de 12 puntos de datos, y para cada uno de los puntos de datos, `groups` especifican a qué grupo  pertenece el punto. Los grupos especifican que hay cuatro grupos, y las primeras tres muestras pertenecen al primer grupo, las siguientes cuatro muestras pertenecen al segundo grupo, y así sucesivamente:"
   ]
  },
  {
   "cell_type": "code",
   "execution_count": 20,
   "metadata": {},
   "outputs": [
    {
     "name": "stdout",
     "output_type": "stream",
     "text": [
      "Puntuacion de validacion cruzada:\n",
      "[0.75       0.8        0.66666667]\n"
     ]
    }
   ],
   "source": [
    "from sklearn.datasets import make_blobs\n",
    "from sklearn.model_selection import GroupKFold\n",
    "# creamos datos artificiales\n",
    "X, y = make_blobs(n_samples=12, random_state=0)\n",
    "# asumimos que las primeras tres muestras pertenecen al mismo grupo,\n",
    "# los cuatras siguientes muestras al segundo, etc.\n",
    "\n",
    "grupos = [0, 0, 0, 1, 1, 1, 1, 2, 2, 3, 3, 3]\n",
    "puntuacion = cross_val_score(logreg, X, y, grupos, cv=GroupKFold(n_splits=3))\n",
    "print(\"Puntuacion de validacion cruzada:\\n{}\".format(puntuacion))"
   ]
  },
  {
   "cell_type": "markdown",
   "metadata": {},
   "source": [
    "Las muestras no necesitan ordenarse por grupo. Las divisiones que se calculan en base a estas etiquetas se visualizan en la siguiente figura:"
   ]
  },
  {
   "cell_type": "code",
   "execution_count": 24,
   "metadata": {},
   "outputs": [],
   "source": [
    "def dibuja_grupo_kfold():\n",
    "    from sklearn.model_selection import GroupKFold\n",
    "    grupos = [0, 0, 0, 1, 1, 1, 1, 2, 2, 3, 3, 3]\n",
    "\n",
    "    plt.figure(figsize=(10, 2))\n",
    "    plt.title(\"GroupKFold\")\n",
    "\n",
    "    axes = plt.gca()\n",
    "    axes.set_frame_on(False)\n",
    "\n",
    "    n_grupos = 12\n",
    "    n_muestras = 12\n",
    "    n_iter = 3\n",
    "    n_muestras_por_grupo = 1\n",
    "\n",
    "    cv = GroupKFold(n_splits=3)\n",
    "    mascara_bool = np.zeros((n_iter, n_muestras))\n",
    "    for i, (entrenamiento, prueba) in enumerate(cv.split(range(12), groups=grupos)):\n",
    "        mascara_bool[i, entrenamiento] = 1\n",
    "        mascara_bool[i, prueba] = 2\n",
    "\n",
    "    for i in range(n_grupos):\n",
    "        colores = [\"grey\" if x == 2 else \"white\" for x in mascara_bool[:, i]]\n",
    "        cajas = axes.barh(y=range(n_iter), width=[1 - 0.1] * n_iter,\n",
    "                          left=i * n_muestras_por_grupo, height=.6, color=colores,\n",
    "                          hatch=\"//\", edgecolor=\"k\", align='edge')\n",
    "        for j in np.where(mascara_bool[:, i] == 0)[0]:\n",
    "            cajas[j].set_hatch(\"\")\n",
    "\n",
    "    axes.barh(y=[n_iter] * n_grupos, width=[1 - 0.1] * n_grupos,\n",
    "              left=np.arange(n_grupos) * n_muestras_por_grupo, height=.6,\n",
    "              color=\"w\", edgecolor='k', align=\"edge\")\n",
    "\n",
    "    for i in range(12):\n",
    "        axes.text((i + .5) * n_muestras_por_grupo, 3.5, \"%d\" %\n",
    "                  grupos[i], horizontalalignment=\"center\")\n",
    "\n",
    "    axes.invert_yaxis()\n",
    "    axes.set_xlim(0, n_muestras + 1)\n",
    "    axes.set_ylabel(\"Iteraciones CV \")\n",
    "    axes.set_xlabel(\"Puntos de datos\")\n",
    "    axes.set_xticks(np.arange(n_muestras) + .5)\n",
    "    axes.set_xticklabels(np.arange(1, n_muestras + 1))\n",
    "    axes.set_yticks(np.arange(n_iter + 1) + .3)\n",
    "    axes.set_yticklabels(\n",
    "        [\"Division %d\" % x for x in range(1, n_iter + 1)] + [\"Grupos\"])\n",
    "    plt.legend([cajas[0], cajas[1]], [\"Conjunto de entrenamiento\", \"Conjunto de prueba\"], loc=(1, .3))\n",
    "    plt.tight_layout()"
   ]
  },
  {
   "cell_type": "code",
   "execution_count": 25,
   "metadata": {},
   "outputs": [
    {
     "data": {
      "image/png": "[encoded data removed]",
      "text/plain": [
       "<Figure size 720x144 with 1 Axes>"
      ]
     },
     "metadata": {},
     "output_type": "display_data"
    }
   ],
   "source": [
    "dibuja_grupo_kfold()"
   ]
  },
  {
   "cell_type": "markdown",
   "metadata": {},
   "source": [
    "Como se puede ver, para cada división, cada grupo está completamente en el conjunto de entrenamiento o completamente en el conjunto de prueba."
   ]
  },
  {
   "cell_type": "markdown",
   "metadata": {},
   "source": [
    "### Búsqueda grid\n",
    "\n",
    "Ahora que sabemos cómo evaluar qué tan bien se generaliza un modelo, podemos dar el siguiente paso y mejorar el rendimiento de generalización del modelo ajustando sus parámetros. Encontrar los valores de los parámetros importantes de un modelo (los que proporcionan el mejor rendimiento de generalización) es una tarea difícil, pero necesaria para casi todos los modelos y conjuntos de datos. Debido a que es una tarea tan común, hay métodos estándar en scikit-learn para ayudarte con eso. El método más comúnmente utilizado es la búsqueda grid, que básicamente significa probar todas las combinaciones posibles de los parámetros de interés.\n",
    "\n",
    "Considere el caso de un kernel SVM con un núcleo RBF (función de base radial), como se implementó con la clase SVC. Para este cado hay dos parámetros importantes: el ancho de banda del kernel, `gamma` y el parámetro de regularización, `C`. Digamos que queremos probar los valores `0.001`, `0.01`, `0.1`, `1`, `10` y `100` para el parámetro C, y lo mismo para gamma. Debido a que tenemos seis configuraciones diferentes para C y gamma que queremos probar, tenemos 36 combinaciones de parámetros en total, como se analiza aquí:\n",
    "\n",
    "![](Grafico6.png)"
   ]
  },
  {
   "cell_type": "markdown",
   "metadata": {},
   "source": [
    "### Búsqueda grid simple\n",
    "\n",
    "Podemos implementar una simple búsqueda grid, con un bucle `for`  para los dos parámetros, entrenando y evaluando un clasificador para cada combinación:"
   ]
  },
  {
   "cell_type": "code",
   "execution_count": 27,
   "metadata": {},
   "outputs": [
    {
     "name": "stdout",
     "output_type": "stream",
     "text": [
      "Tamaño del conjunto de entrenamiento: 112 Tamaño del conjunto de prueba: 38\n",
      "Mejor puntuacion: 0.97\n",
      "Mejores parametros: {'C': 100, 'gamma': 0.001}\n"
     ]
    }
   ],
   "source": [
    "from sklearn.svm import SVC\n",
    "X_entrenamiento, X_prueba, y_entrenamiento, y_prueba = train_test_split(iris.data, iris.target, random_state=0)\n",
    "print(\"Tamaño del conjunto de entrenamiento: {} Tamaño del conjunto de prueba: {}\".format(\n",
    "    X_entrenamiento.shape[0], X_prueba.shape[0]))\n",
    "\n",
    "mejor_puntuacion = 0\n",
    "for gamma in [0.001, 0.01, 0.1, 1, 10, 100]:\n",
    "    for C in [0.001, 0.01, 0.1, 1, 10, 100]:\n",
    "    # para cada combinación de parámetros, entrenamos un SVC\n",
    "        svm = SVC(gamma=gamma, C=C)\n",
    "        svm.fit(X_entrenamiento, y_entrenamiento)\n",
    "    \n",
    "    # evaluamos el SVC en el conjunto de pruebas\n",
    "        puntuacion = svm.score(X_prueba, y_prueba)\n",
    "    # si tenemos una mejor puntuación, se almacena la puntuación y los parámetros\n",
    "        if puntuacion > mejor_puntuacion:\n",
    "            mejor_puntuacion = puntuacion\n",
    "            mejor_parametros = {'C': C, 'gamma': gamma}\n",
    "        \n",
    "print(\"Mejor puntuacion: {:.2f}\".format(mejor_puntuacion))\n",
    "print(\"Mejores parametros: {}\".format(mejor_parametros))"
   ]
  },
  {
   "cell_type": "markdown",
   "metadata": {},
   "source": [
    "### El peligro de sobreajustar los parámetros y el conjunto de validación\n",
    "\n",
    "Dado este resultado, podríamos sentirnos tentados de informar que encontramos un modelo que funciona con un 97% de precisión en nuestro conjunto de datos. Sin embargo, esta aseveración podría ser excesivamente optimista (o simplemente incorrecto) por la siguiente razón: probamos muchos parámetros diferentes y seleccionamos el que tenga la mejor precisión en el conjunto de prueba, pero esta precisión no se transferirá necesariamente a los datos nuevos. Debido a que usamos los datos de prueba para ajustar los parámetros, ya no podemos usarlos para evaluar cuán bueno es el modelo. Esta es la misma razón por la que necesitábamos dividir los datos en conjuntos de entrenamiento y prueba en primer lugar; necesitamos un conjunto de datos independiente para evaluar, uno que no fue utilizado para crear el modelo.\n",
    "\n",
    "Una forma de resolver este problema es dividir los datos nuevamente, de modo que tenemos tres conjuntos: el conjunto de entrenamiento para construir el modelo, el de  validación configurado para seleccionar los parámetros del modelo y el conjunto de pruebas para evaluar el rendimiento de los parámetros seleccionados La figura siguiente muestra cómo se ve esto:"
   ]
  },
  {
   "cell_type": "code",
   "execution_count": 40,
   "metadata": {},
   "outputs": [],
   "source": [
    "def dibuja_division_tres_grupos():\n",
    "    plt.figure(figsize=(15, 1))\n",
    "    axis = plt.gca()\n",
    "    cajas = axis.barh([0, 0, 0], [11.9, 2.9, 4.9], left=[0, 12, 15], color=[\n",
    "                     'white', 'grey', 'grey'], hatch=\"//\", edgecolor='k',\n",
    "                     align='edge')\n",
    "    cajas[2].set_hatch(r\"\")\n",
    "    axis.set_yticks(())\n",
    "    axis.set_frame_on(False)\n",
    "    axis.set_ylim(-.1, .8)\n",
    "    axis.set_xlim(-0.1, 20.1)\n",
    "    axis.set_xticks([6, 13.3, 17.5])\n",
    "    axis.set_xticklabels([\"Conjunto de entrenamiento\", \"Conjunto de validacion\",\n",
    "                          \"Conjunto de prueba\"], fontdict={'fontsize': 15})\n",
    "    axis.tick_params(length=0, labeltop=True, labelbottom=False)\n",
    "    axis.text(6, -.3, \"Ajuste del modelo\",\n",
    "              fontdict={'fontsize': 11}, horizontalalignment=\"center\")\n",
    "    axis.text(13.3, -.3, \"Seleccion de parametros\",\n",
    "              fontdict={'fontsize': 11}, horizontalalignment=\"center\")\n",
    "    axis.text(17.5, -.3, \"Evaluacion\",\n",
    "              fontdict={'fontsize': 11}, horizontalalignment=\"center\")"
   ]
  },
  {
   "cell_type": "code",
   "execution_count": 41,
   "metadata": {},
   "outputs": [
    {
     "data": {
      "image/png": "[encoded data removed]",
      "text/plain": [
       "<Figure size 1080x72 with 1 Axes>"
      ]
     },
     "metadata": {},
     "output_type": "display_data"
    }
   ],
   "source": [
    "dibuja_division_tres_grupos()"
   ]
  },
  {
   "cell_type": "markdown",
   "metadata": {},
   "source": [
    "Después de seleccionar los mejores parámetros usando el conjunto de validación, podemos reconstruir un modelo usando la configuración de parámetros que encontramos, pero ahora entrenando tanto en los datos de entrenamiento como en los datos de validación. De esta forma, podemos utilizar la mayor cantidad de datos posible para construir nuestro modelo. Esto lleva a la siguiente implementación:"
   ]
  },
  {
   "cell_type": "code",
   "execution_count": 47,
   "metadata": {},
   "outputs": [
    {
     "name": "stdout",
     "output_type": "stream",
     "text": [
      "Tamaño del conjunto de entrenamiento: 84 Tamaño del conjunto de validacion: 28 Tamaño del conjunto de prueba: 38\n",
      "Mejor puntuacion en el conjunto de validacion: 0.96\n",
      "Mejores parametros: {:.2f} {'C': 10, 'gamma': 0.001}\n",
      "Puntuacion del conjunto de prueba con mejores parametros: 0.9210526315789473\n"
     ]
    }
   ],
   "source": [
    "from sklearn.svm import SVC\n",
    "# dividimos los datos en conjuntos de entrenamiento+validacion y prueba\n",
    "X_entrenamiento_validacion, X_prueba, y_entrenamiento_validacion, y_prueba = train_test_split(iris.data, iris.target, random_state=0)\n",
    "    \n",
    "# dividimos el conjunto entrenamiento+validacion en conjuntos de prueba y validacion\n",
    "X_entrenamiento, X_validacion, y_entrenamiento, y_validacion = train_test_split(X_entrenamiento_validacion, y_entrenamiento_validacion, random_state=1)\n",
    "\n",
    "print(\"Tamaño del conjunto de entrenamiento: {} Tamaño del conjunto de validacion: {} Tamaño del conjunto de prueba: {}\"\n",
    "      .format( X_entrenamiento.shape[0], X_validacion.shape[0], X_prueba.shape[0]))\n",
    "\n",
    "mejor_puntuacion = 0\n",
    "for gamma in [0.001, 0.01, 0.1, 1, 10, 100]:\n",
    "    for C in [0.001, 0.01, 0.1, 1, 10, 100]:\n",
    "    # para cada combinación de parámetros, entrenamos un SVC\n",
    "        svm = SVC(gamma=gamma, C=C)\n",
    "        svm.fit(X_entrenamiento, y_entrenamiento)\n",
    "    \n",
    "    # evaluamos SVC en el conjunto de prueba\n",
    "        puntuacion = svm.score(X_validacion, y_validacion)\n",
    "    # si tenemos una mejor puntuación, almacena la puntuación y los parámetros\n",
    "        if puntuacion > mejor_puntuacion:\n",
    "            mejor_puntuacion = puntuacion\n",
    "            mejor_parametros = {'C': C, 'gamma': gamma}\n",
    "# reconstruir un modelo en el conjunto  de entrenamiento y validación \n",
    "# y se  evalua en el conjunto de prueba\n",
    "\n",
    "svm = SVC(**mejor_parametros)\n",
    "svm.fit(X_entrenamiento_validacion, y_entrenamiento_validacion)\n",
    "puntuacion_prueba = svm.score(X_prueba, y_prueba)\n",
    "print(\"Mejor puntuacion en el conjunto de validacion: {:.2f}\".format(mejor_puntuacion))\n",
    "print(\"Mejores parametros: {:.2f}\", mejor_parametros)\n",
    "print(\"Puntuacion del conjunto de prueba con mejores parametros: {}\".format(puntuacion_prueba))"
   ]
  },
  {
   "cell_type": "markdown",
   "metadata": {},
   "source": [
    "El mejor puntaje en el conjunto de validación es 96%: levemente más bajo que antes, probablemente porque usamos menos datos para entrenar el modelo (X_train es más pequeño ahora porque dividimos nuestro conjunto de datos dos veces). Sin embargo, el puntaje en el conjunto de prueba, que realmente nos dice qué tan bien generalizamos, es aún más bajo, en un 92%. Por lo tanto, solo podemos afirmar que clasificamos los datos nuevos en un 92% de forma correcta, no en un 97% de manera correcta, como pensábamos antes. \n",
    "\n",
    "La distinción entre el conjunto de entrenamiento, el conjunto de validación y el conjunto de prueba es importante para la aplicación de métodos de machine learning  en la práctica. Cualquier elección hecha con base  en la precision del conjunto de prueba \"pierde\" información del conjunto de pruebas en el modelo. Por lo tanto, es importante mantener un conjunto de pruebas por separado, que solo se usa para la evaluación final.\n"
   ]
  },
  {
   "cell_type": "code",
   "execution_count": null,
   "metadata": {},
   "outputs": [],
   "source": []
  }
 ],
 "metadata": {
  "kernelspec": {
   "display_name": "Python 3",
   "language": "python",
   "name": "python3"
  },
  "language_info": {
   "codemirror_mode": {
    "name": "ipython",
    "version": 3
   },
   "file_extension": ".py",
   "mimetype": "text/x-python",
   "name": "python",
   "nbconvert_exporter": "python",
   "pygments_lexer": "ipython3",
   "version": "3.6.4"
  }
 },
 "nbformat": 4,
 "nbformat_minor": 2
}
