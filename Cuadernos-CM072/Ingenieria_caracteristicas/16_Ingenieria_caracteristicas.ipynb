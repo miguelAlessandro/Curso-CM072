{
 "cells": [
  {
   "cell_type": "markdown",
   "metadata": {},
   "source": [
    "## Representación de datos y ingeniería de características\n",
    "\n",
    "\n",
    "Hasta ahora, hemos supuesto que nuestros datos se presentan como una matriz bidimensional de números de punto flotante, donde cada columna es una característica continua que describe los puntos de datos. Para muchas aplicaciones, esta no es la forma en que se recopilan los datos. Un tipo de característica particularmente común son las características categóricas. También conocidas como características discretas, generalmente no son numéricas.\n",
    "\n",
    "La distinción entre características categóricas y continuas es análoga a la distinción entre clasificación y regresión, solo en el lado de entrada más que en el de salida. Ejemplos de características continuas que hemos visto son el brillo de píxeles y medidas de tamaño de flores de plantas. Ejemplos de características categóricas son la marca de un producto, el color de un producto o el departamento (libros, ropa, hardware) en que se vende.\n",
    "\n",
    "Independientemente de los tipos de características en las que se basan sus datos, la forma en que las represente puede tener un efecto enorme en el rendimiento de los modelos del machine learning.\n",
    "\n",
    "La cuestión de cómo representar mejor sus datos para una aplicación en particular se conoce como `ingeniería de características` y es una de las principales tareas de los científicos de datos y los profesionales del machine learning  que intentan resolver problemas del mundo real. Representar sus datos de la manera correcta puede tener una mayor influencia en el rendimiento de un modelo supervisado que los parámetros exactos que se elija."
   ]
  },
  {
   "cell_type": "markdown",
   "metadata": {},
   "source": [
    "### Variables categóricas\n",
    "\n",
    "Como ejemplo, utilizaremos el conjunto de datos de ingresos de adultos en los Estados Unidos, derivado de la base de datos del censo de 1994. La tarea del conjunto de datos para adultos es predecir si un trabajador tiene un ingreso de más de $ 50,000 o menos de $ 50,000. Las características en este conjunto de datos incluyen las edades de los trabajadores, situación laboral (autónomos, empleados de la industria privada, empleados del gobierno, etc.), su educación, su género, sus horas de trabajo por semana, ocupación y más.\n",
    "\n",
    "\n",
    "![](Grafico4.png)\n",
    "\n",
    "\n",
    "La tarea se expresa como una tarea de clasificación con las dos clases con ingresos `<= 50k` y `>50k`. También sería posible predecir el ingreso exacto  y hacer de esto una tarea de regresión. Sin embargo, eso sería mucho más difícil, y la división `50K` es interesante de entender por sí misma.\n",
    "\n",
    "En este conjunto de datos, `age` y `hours-per-week` son características continuas, que sabemos cómo tratar. Sin embargo, las características `workclass`, `education`, `sex` y `occupation` son categóricas. Todos estas varables provienen de una lista fija de valores posibles, a diferencia de un rango y denotan una propiedad cualitativa, a diferencia de una cantidad."
   ]
  },
  {
   "cell_type": "markdown",
   "metadata": {},
   "source": [
    "### One-Hot-Encoding (variables dummy)\n",
    "\n",
    "La forma más común de representar variables categóricas es usando la `one-hot-encoding` o `one-out-of-N encoding`, también conocida como `variables dummy`. La idea detrás de las variables dummy es reemplazar una variable categórica con una o más características nuevas que pueden tener los valores 0 y 1. Los valores 0 y 1 tienen sentido en la fórmula de clasificación binaria lineal (y para todos los demás modelos en scikit-learn )  y podemos representar cualquier cantidad de categorías introduciendo una nueva característica por categoría, como se describe aquí.\n",
    "\n",
    "Si para la característica `workclass`, tenemos los posibles valores de `Governmen Employee`, `Private Employee`, `Self Employed` y `Self Employed Incorporated`. Para codificar estos cuatros posibles valores, creamos cuatro nuevas características llamadas `Government Employee` `Private Employee`, `Self Employed` y  `Self Employed Incorporated`.\n",
    "\n",
    "Una característica es 1 si `workclass` para esta persona tiene el valor correspondiente y `0` en caso contrario, por lo que exactamente una de las cuatro características nuevas será 1 para cada punto de datos. Esta es la razón por la cual esto se llama codificación `one-hot` o `one-out-of-N`.\n",
    "\n",
    "Una sola característica está codificada usando cuatro nuevas características. Cuando utilicemos estos datos en un algoritmo de machine learning, descartaríamos la función de clase `workclass` original y solo mantendríamos las características 0-1.\n",
    "\n",
    "![](Grafico5.png)"
   ]
  },
  {
   "cell_type": "markdown",
   "metadata": {},
   "source": [
    "La codificación `one-hot`que usamos es bastante similar, pero no idéntica, a la codificación `dummy` utilizada en las estadística. Para simplificar, codificamos cada categoría con una característica binaria diferente. En la estadística, es común codificar una característica categórica con k diferentes valores posibles en k-1 característica (la última se representa como todos  ceros). Esto se hace para simplificar el análisis (más técnicamente, esto evitará que la matriz de datos tenga una clasificación deficiente)."
   ]
  },
  {
   "cell_type": "markdown",
   "metadata": {},
   "source": [
    "Hay dos formas de convertir sus datos a una codificación `one-hot` de variables categóricas, utilizando `pandas` o `scikit-learn`. Usandos pandas es un poco más fácil, así que sigamos esta ruta. Primero cargamos los datos usando pandas desde un archivo de valores separados por comas (CSV):"
   ]
  },
  {
   "cell_type": "code",
   "execution_count": 2,
   "metadata": {},
   "outputs": [
    {
     "data": {
      "text/html": [
       "<div>\n",
       "<style scoped>\n",
       "    .dataframe tbody tr th:only-of-type {\n",
       "        vertical-align: middle;\n",
       "    }\n",
       "\n",
       "    .dataframe tbody tr th {\n",
       "        vertical-align: top;\n",
       "    }\n",
       "\n",
       "    .dataframe thead th {\n",
       "        text-align: right;\n",
       "    }\n",
       "</style>\n",
       "<table border=\"1\" class=\"dataframe\">\n",
       "  <thead>\n",
       "    <tr style=\"text-align: right;\">\n",
       "      <th></th>\n",
       "      <th>age</th>\n",
       "      <th>workclass</th>\n",
       "      <th>education</th>\n",
       "      <th>gender</th>\n",
       "      <th>hours-per-week</th>\n",
       "      <th>occupation</th>\n",
       "      <th>income</th>\n",
       "    </tr>\n",
       "  </thead>\n",
       "  <tbody>\n",
       "    <tr>\n",
       "      <th>0</th>\n",
       "      <td>39</td>\n",
       "      <td>State-gov</td>\n",
       "      <td>Bachelors</td>\n",
       "      <td>Male</td>\n",
       "      <td>40</td>\n",
       "      <td>Adm-clerical</td>\n",
       "      <td>&lt;=50K</td>\n",
       "    </tr>\n",
       "    <tr>\n",
       "      <th>1</th>\n",
       "      <td>50</td>\n",
       "      <td>Self-emp-not-inc</td>\n",
       "      <td>Bachelors</td>\n",
       "      <td>Male</td>\n",
       "      <td>13</td>\n",
       "      <td>Exec-managerial</td>\n",
       "      <td>&lt;=50K</td>\n",
       "    </tr>\n",
       "    <tr>\n",
       "      <th>2</th>\n",
       "      <td>38</td>\n",
       "      <td>Private</td>\n",
       "      <td>HS-grad</td>\n",
       "      <td>Male</td>\n",
       "      <td>40</td>\n",
       "      <td>Handlers-cleaners</td>\n",
       "      <td>&lt;=50K</td>\n",
       "    </tr>\n",
       "    <tr>\n",
       "      <th>3</th>\n",
       "      <td>53</td>\n",
       "      <td>Private</td>\n",
       "      <td>11th</td>\n",
       "      <td>Male</td>\n",
       "      <td>40</td>\n",
       "      <td>Handlers-cleaners</td>\n",
       "      <td>&lt;=50K</td>\n",
       "    </tr>\n",
       "    <tr>\n",
       "      <th>4</th>\n",
       "      <td>28</td>\n",
       "      <td>Private</td>\n",
       "      <td>Bachelors</td>\n",
       "      <td>Female</td>\n",
       "      <td>40</td>\n",
       "      <td>Prof-specialty</td>\n",
       "      <td>&lt;=50K</td>\n",
       "    </tr>\n",
       "  </tbody>\n",
       "</table>\n",
       "</div>"
      ],
      "text/plain": [
       "   age          workclass   education   gender  hours-per-week  \\\n",
       "0   39          State-gov   Bachelors     Male              40   \n",
       "1   50   Self-emp-not-inc   Bachelors     Male              13   \n",
       "2   38            Private     HS-grad     Male              40   \n",
       "3   53            Private        11th     Male              40   \n",
       "4   28            Private   Bachelors   Female              40   \n",
       "\n",
       "           occupation  income  \n",
       "0        Adm-clerical   <=50K  \n",
       "1     Exec-managerial   <=50K  \n",
       "2   Handlers-cleaners   <=50K  \n",
       "3   Handlers-cleaners   <=50K  \n",
       "4      Prof-specialty   <=50K  "
      ]
     },
     "metadata": {},
     "output_type": "display_data"
    }
   ],
   "source": [
    "import pandas as pd\n",
    "datos = pd.read_csv(\"adult.data\", header=None, index_col=False,\n",
    "                   names=['age', 'workclass', 'fnlwgt', 'education', 'education-num',\n",
    "                          'marital-status', 'occupation', 'relationship', 'race', 'gender',\n",
    "                          'capital-gain', 'capital-loss', 'hours-per-week', 'native-country',\n",
    "                          'income'])\n",
    "# Seleccionamos algunas columnas\n",
    "datos = datos[['age', 'workclass', 'education', 'gender', 'hours-per-week','occupation', 'income']]\n",
    "display(datos.head())"
   ]
  },
  {
   "cell_type": "markdown",
   "metadata": {},
   "source": [
    "#### Comprobación de datos categóricos codificados por cadenas\n",
    "\n",
    "Después de leer un conjunto de datos como este, a menudo es bueno verificar primero si una columna contiene realmente datos categóricos significativos. Al trabajar con datos que fueron ingresados por humanos (por ejemplo, los usuarios en un sitio web), es posible que no haya un conjunto fijo de categorías, y las diferencias en la ortografía y el uso de mayúsculas pueden requerir preprocesamiento.\n",
    "\n",
    "Por ejemplo, podría ser que algunas personas especificaran el género como `male `y algunas como `man`  y es posible que deseemos representar estas dos entradas usando la misma categoría. \n",
    "\n",
    "Una buena forma de verificar el contenido de una columna es usando la función `value_counts` de una serie de pandas, para mostrarnos cuáles son los valores únicos y con qué frecuencia aparecen:"
   ]
  },
  {
   "cell_type": "code",
   "execution_count": 3,
   "metadata": {},
   "outputs": [
    {
     "name": "stdout",
     "output_type": "stream",
     "text": [
      " Male      21790\n",
      " Female    10771\n",
      "Name: gender, dtype: int64\n"
     ]
    }
   ],
   "source": [
    "print(datos.gender.value_counts())"
   ]
  },
  {
   "cell_type": "markdown",
   "metadata": {},
   "source": [
    "Hay una manera muy simple de codificar los datos en pandas, usando la función `get_dummies`. La función `get_dummies` transforma automáticamente todas las columnas que tienen tipo de objeto (como cadenas) o son categóricas (que es un concepto especial de pandas del que todavía no hemos hablado):"
   ]
  },
  {
   "cell_type": "code",
   "execution_count": 4,
   "metadata": {},
   "outputs": [
    {
     "name": "stdout",
     "output_type": "stream",
     "text": [
      "Caracteristicas originales:\n",
      " ['age', 'workclass', 'education', 'gender', 'hours-per-week', 'occupation', 'income'] \n",
      "\n",
      "Caracteristicas despues de  get_dummies:\n",
      " ['age', 'hours-per-week', 'workclass_ ?', 'workclass_ Federal-gov', 'workclass_ Local-gov', 'workclass_ Never-worked', 'workclass_ Private', 'workclass_ Self-emp-inc', 'workclass_ Self-emp-not-inc', 'workclass_ State-gov', 'workclass_ Without-pay', 'education_ 10th', 'education_ 11th', 'education_ 12th', 'education_ 1st-4th', 'education_ 5th-6th', 'education_ 7th-8th', 'education_ 9th', 'education_ Assoc-acdm', 'education_ Assoc-voc', 'education_ Bachelors', 'education_ Doctorate', 'education_ HS-grad', 'education_ Masters', 'education_ Preschool', 'education_ Prof-school', 'education_ Some-college', 'gender_ Female', 'gender_ Male', 'occupation_ ?', 'occupation_ Adm-clerical', 'occupation_ Armed-Forces', 'occupation_ Craft-repair', 'occupation_ Exec-managerial', 'occupation_ Farming-fishing', 'occupation_ Handlers-cleaners', 'occupation_ Machine-op-inspct', 'occupation_ Other-service', 'occupation_ Priv-house-serv', 'occupation_ Prof-specialty', 'occupation_ Protective-serv', 'occupation_ Sales', 'occupation_ Tech-support', 'occupation_ Transport-moving', 'income_ <=50K', 'income_ >50K']\n"
     ]
    }
   ],
   "source": [
    "print(\"Caracteristicas originales:\\n\", list(datos.columns), \"\\n\")\n",
    "datos_dummies = pd.get_dummies(datos)\n",
    "print(\"Caracteristicas despues de  get_dummies:\\n\", list(datos_dummies.columns))"
   ]
  },
  {
   "cell_type": "code",
   "execution_count": 5,
   "metadata": {},
   "outputs": [
    {
     "data": {
      "text/html": [
       "<div>\n",
       "<style scoped>\n",
       "    .dataframe tbody tr th:only-of-type {\n",
       "        vertical-align: middle;\n",
       "    }\n",
       "\n",
       "    .dataframe tbody tr th {\n",
       "        vertical-align: top;\n",
       "    }\n",
       "\n",
       "    .dataframe thead th {\n",
       "        text-align: right;\n",
       "    }\n",
       "</style>\n",
       "<table border=\"1\" class=\"dataframe\">\n",
       "  <thead>\n",
       "    <tr style=\"text-align: right;\">\n",
       "      <th></th>\n",
       "      <th>age</th>\n",
       "      <th>hours-per-week</th>\n",
       "      <th>workclass_ ?</th>\n",
       "      <th>workclass_ Federal-gov</th>\n",
       "      <th>workclass_ Local-gov</th>\n",
       "      <th>workclass_ Never-worked</th>\n",
       "      <th>workclass_ Private</th>\n",
       "      <th>workclass_ Self-emp-inc</th>\n",
       "      <th>workclass_ Self-emp-not-inc</th>\n",
       "      <th>workclass_ State-gov</th>\n",
       "      <th>...</th>\n",
       "      <th>occupation_ Machine-op-inspct</th>\n",
       "      <th>occupation_ Other-service</th>\n",
       "      <th>occupation_ Priv-house-serv</th>\n",
       "      <th>occupation_ Prof-specialty</th>\n",
       "      <th>occupation_ Protective-serv</th>\n",
       "      <th>occupation_ Sales</th>\n",
       "      <th>occupation_ Tech-support</th>\n",
       "      <th>occupation_ Transport-moving</th>\n",
       "      <th>income_ &lt;=50K</th>\n",
       "      <th>income_ &gt;50K</th>\n",
       "    </tr>\n",
       "  </thead>\n",
       "  <tbody>\n",
       "    <tr>\n",
       "      <th>0</th>\n",
       "      <td>39</td>\n",
       "      <td>40</td>\n",
       "      <td>0</td>\n",
       "      <td>0</td>\n",
       "      <td>0</td>\n",
       "      <td>0</td>\n",
       "      <td>0</td>\n",
       "      <td>0</td>\n",
       "      <td>0</td>\n",
       "      <td>1</td>\n",
       "      <td>...</td>\n",
       "      <td>0</td>\n",
       "      <td>0</td>\n",
       "      <td>0</td>\n",
       "      <td>0</td>\n",
       "      <td>0</td>\n",
       "      <td>0</td>\n",
       "      <td>0</td>\n",
       "      <td>0</td>\n",
       "      <td>1</td>\n",
       "      <td>0</td>\n",
       "    </tr>\n",
       "    <tr>\n",
       "      <th>1</th>\n",
       "      <td>50</td>\n",
       "      <td>13</td>\n",
       "      <td>0</td>\n",
       "      <td>0</td>\n",
       "      <td>0</td>\n",
       "      <td>0</td>\n",
       "      <td>0</td>\n",
       "      <td>0</td>\n",
       "      <td>1</td>\n",
       "      <td>0</td>\n",
       "      <td>...</td>\n",
       "      <td>0</td>\n",
       "      <td>0</td>\n",
       "      <td>0</td>\n",
       "      <td>0</td>\n",
       "      <td>0</td>\n",
       "      <td>0</td>\n",
       "      <td>0</td>\n",
       "      <td>0</td>\n",
       "      <td>1</td>\n",
       "      <td>0</td>\n",
       "    </tr>\n",
       "    <tr>\n",
       "      <th>2</th>\n",
       "      <td>38</td>\n",
       "      <td>40</td>\n",
       "      <td>0</td>\n",
       "      <td>0</td>\n",
       "      <td>0</td>\n",
       "      <td>0</td>\n",
       "      <td>1</td>\n",
       "      <td>0</td>\n",
       "      <td>0</td>\n",
       "      <td>0</td>\n",
       "      <td>...</td>\n",
       "      <td>0</td>\n",
       "      <td>0</td>\n",
       "      <td>0</td>\n",
       "      <td>0</td>\n",
       "      <td>0</td>\n",
       "      <td>0</td>\n",
       "      <td>0</td>\n",
       "      <td>0</td>\n",
       "      <td>1</td>\n",
       "      <td>0</td>\n",
       "    </tr>\n",
       "    <tr>\n",
       "      <th>3</th>\n",
       "      <td>53</td>\n",
       "      <td>40</td>\n",
       "      <td>0</td>\n",
       "      <td>0</td>\n",
       "      <td>0</td>\n",
       "      <td>0</td>\n",
       "      <td>1</td>\n",
       "      <td>0</td>\n",
       "      <td>0</td>\n",
       "      <td>0</td>\n",
       "      <td>...</td>\n",
       "      <td>0</td>\n",
       "      <td>0</td>\n",
       "      <td>0</td>\n",
       "      <td>0</td>\n",
       "      <td>0</td>\n",
       "      <td>0</td>\n",
       "      <td>0</td>\n",
       "      <td>0</td>\n",
       "      <td>1</td>\n",
       "      <td>0</td>\n",
       "    </tr>\n",
       "    <tr>\n",
       "      <th>4</th>\n",
       "      <td>28</td>\n",
       "      <td>40</td>\n",
       "      <td>0</td>\n",
       "      <td>0</td>\n",
       "      <td>0</td>\n",
       "      <td>0</td>\n",
       "      <td>1</td>\n",
       "      <td>0</td>\n",
       "      <td>0</td>\n",
       "      <td>0</td>\n",
       "      <td>...</td>\n",
       "      <td>0</td>\n",
       "      <td>0</td>\n",
       "      <td>0</td>\n",
       "      <td>1</td>\n",
       "      <td>0</td>\n",
       "      <td>0</td>\n",
       "      <td>0</td>\n",
       "      <td>0</td>\n",
       "      <td>1</td>\n",
       "      <td>0</td>\n",
       "    </tr>\n",
       "  </tbody>\n",
       "</table>\n",
       "<p>5 rows × 46 columns</p>\n",
       "</div>"
      ],
      "text/plain": [
       "   age  hours-per-week  workclass_ ?  workclass_ Federal-gov  \\\n",
       "0   39              40             0                       0   \n",
       "1   50              13             0                       0   \n",
       "2   38              40             0                       0   \n",
       "3   53              40             0                       0   \n",
       "4   28              40             0                       0   \n",
       "\n",
       "   workclass_ Local-gov  workclass_ Never-worked  workclass_ Private  \\\n",
       "0                     0                        0                   0   \n",
       "1                     0                        0                   0   \n",
       "2                     0                        0                   1   \n",
       "3                     0                        0                   1   \n",
       "4                     0                        0                   1   \n",
       "\n",
       "   workclass_ Self-emp-inc  workclass_ Self-emp-not-inc  workclass_ State-gov  \\\n",
       "0                        0                            0                     1   \n",
       "1                        0                            1                     0   \n",
       "2                        0                            0                     0   \n",
       "3                        0                            0                     0   \n",
       "4                        0                            0                     0   \n",
       "\n",
       "       ...       occupation_ Machine-op-inspct  occupation_ Other-service  \\\n",
       "0      ...                                   0                          0   \n",
       "1      ...                                   0                          0   \n",
       "2      ...                                   0                          0   \n",
       "3      ...                                   0                          0   \n",
       "4      ...                                   0                          0   \n",
       "\n",
       "   occupation_ Priv-house-serv  occupation_ Prof-specialty  \\\n",
       "0                            0                           0   \n",
       "1                            0                           0   \n",
       "2                            0                           0   \n",
       "3                            0                           0   \n",
       "4                            0                           1   \n",
       "\n",
       "   occupation_ Protective-serv  occupation_ Sales  occupation_ Tech-support  \\\n",
       "0                            0                  0                         0   \n",
       "1                            0                  0                         0   \n",
       "2                            0                  0                         0   \n",
       "3                            0                  0                         0   \n",
       "4                            0                  0                         0   \n",
       "\n",
       "   occupation_ Transport-moving  income_ <=50K  income_ >50K  \n",
       "0                             0              1             0  \n",
       "1                             0              1             0  \n",
       "2                             0              1             0  \n",
       "3                             0              1             0  \n",
       "4                             0              1             0  \n",
       "\n",
       "[5 rows x 46 columns]"
      ]
     },
     "execution_count": 5,
     "metadata": {},
     "output_type": "execute_result"
    }
   ],
   "source": [
    "datos_dummies.head()"
   ]
  },
  {
   "cell_type": "markdown",
   "metadata": {},
   "source": [
    "Ahora podemos usar el atributo `values` para convertir el data frame `datos_dummies` en una matriz NumPy y luego entrenarlo en un modelo de machine learning. Se debe tener cuidado de separar la variable objetivo (que ahora está codificada en dos columnas `income`) de los datos antes de entrenar un modelo. Incluir la variable de salida, o alguna propiedad derivada de la variable de salida, en la representación de características es un error muy común en la creación de modelos supervisados de machine learning.\n",
    "\n",
    "Tener cuidado: la indexación de columna en pandas incluye el final del rango, por lo que `age: occupation_Transport-moving` incluye `occupation_Transport-moving `. Esto es diferente a un slicing de una matriz NumPy, donde el final de un rango no está incluido: por ejemplo, `np.arange(11)[0:10]` no incluye la entrada con el índice 10."
   ]
  },
  {
   "cell_type": "code",
   "execution_count": 6,
   "metadata": {},
   "outputs": [
    {
     "name": "stdout",
     "output_type": "stream",
     "text": [
      "X.shape: (32561, 44) y.shape: (32561,)\n"
     ]
    },
    {
     "name": "stderr",
     "output_type": "stream",
     "text": [
      "/home/c-laraavila/anaconda3/lib/python3.6/site-packages/ipykernel_launcher.py:1: DeprecationWarning: \n",
      ".ix is deprecated. Please use\n",
      ".loc for label based indexing or\n",
      ".iloc for positional indexing\n",
      "\n",
      "See the documentation here:\n",
      "http://pandas.pydata.org/pandas-docs/stable/indexing.html#ix-indexer-is-deprecated\n",
      "  \"\"\"Entry point for launching an IPython kernel.\n"
     ]
    }
   ],
   "source": [
    "caracteristica = datos_dummies.ix[:,'age':'occupation_ Transport-moving']\n",
    "# Extraemos matrices NumPy\n",
    "X = caracteristica.values\n",
    "y = datos_dummies['income_ >50K'].values\n",
    "print(\"X.shape: {} y.shape: {}\".format(X.shape, y.shape))"
   ]
  },
  {
   "cell_type": "markdown",
   "metadata": {},
   "source": [
    "Ahora los datos están representados de una manera que scikit-learn puede funcionar,  podemos proceder como de costumbre:"
   ]
  },
  {
   "cell_type": "code",
   "execution_count": 7,
   "metadata": {},
   "outputs": [
    {
     "name": "stdout",
     "output_type": "stream",
     "text": [
      "Puntuacion de pruebas: 0.81\n"
     ]
    }
   ],
   "source": [
    "from sklearn.linear_model import LogisticRegression\n",
    "from sklearn.model_selection import train_test_split\n",
    "X_entrenamiento, X_prueba, y_entrenamiento, y_prueba = train_test_split(X, y, random_state=0)\n",
    "logreg = LogisticRegression()\n",
    "logreg.fit(X_entrenamiento, y_entrenamiento)\n",
    "print(\"Puntuacion de pruebas: {:.2f}\".format(logreg.score(X_prueba, y_prueba)))"
   ]
  },
  {
   "cell_type": "markdown",
   "metadata": {},
   "source": [
    "En este ejemplo, llamamos a `get_dummies` en un DataFrame que contiene tanto los datos de  entrenamiento como los datos de prueba. Esto es importante para garantizar que los valores categóricos estén representados de la misma manera en el conjunto de entrenamiento y en el conjunto de prueba.\n",
    "\n",
    "Imaginemos que tenemos los conjuntos de entrenamiento y prueba en dos data frame de datos diferentes. Si el valor de `Private Employee`, para la característica `workclass` no aparece en el conjunto de prueba, pandas asumirá que solo hay tres valores posibles para esta característica y crearán solo tres nuevas características dummy.\n",
    "\n",
    "Ahora nuestros conjuntos de entrenamiento y prueba tienen diferentes números de características y ya no podemos aplicar el modelo que aprendimos en el conjunto de entrenamiento al conjunto de pruebas.\n",
    "\n",
    "Peor aún, imagine que la característica `workclass` tiene los valores `Government Employee` y `Private Employee` en el conjunto de entrenamiento y `Self Employed` y `Self Employed Incorporated` en el conjunto de prueba. En ambos casos, pandas creará dos nuevas característica dummy, por lo que los data frame codificados tendrán la misma cantidad de características.\n",
    "\n",
    "Sin embargo, las dos características dummies tienen significados completamente diferentes en los conjuntos de entrenamiento y prueba. La columna que significa `Government Employee` para el conjunto de entrenamiento codificará  `Self Employed` para el conjunto de prueba.\n",
    "\n",
    "\n",
    "Si construimos un modelo de machine learning  con estos datos, funcionaría muy mal, porque supondría que las columnas significan las mismas cosas (porque están en la misma posición) cuando en realidad significan cosas muy diferentes. Para solucionar esto, llamamos a `get_dummies` en un DataFrame que contenga tanto los puntos de datos de  entrenamiento y  prueba, o asegúrese de que los nombres de columna sean los mismos para el conjunto de entrenamiento y prueba después de llamar a `get_dummies`, para garantizar que tengan la misma semántica.\n"
   ]
  },
  {
   "cell_type": "markdown",
   "metadata": {},
   "source": [
    "### Los números pueden codificarse categóricos\n",
    "\n",
    "En el ejemplo del conjunto de datos para adultos, las variables categóricas se codificaron como cadenas. Por un lado, eso abre la posibilidad de errores ortográficos, pero por otro lado, marca claramente una variable como categórica. A menudo, ya sea para facilitar el almacenamiento o por la forma en que se recopilan los datos, las variables categóricas se codifican como enteros.\n",
    "\n",
    "Por ejemplo, imagine que los datos del censo en el conjunto de datos `adult` se recopilaron mediante un cuestionario y las respuestas para `workclass` se registraron como 0 (primera casilla marcada), 1 (segunda casilla marcada), 2 (tercera casilla marcada) y así sucesivamente.\n",
    "\n",
    "Ahora la columna contendrá números del 0 al 8, en lugar de cadenas como `Private`, y no será inmediatamente obvio para alguien que observa la tabla que representa el conjunto de datos si deben tratar esta variable como continua o categórica. Sin embargo, sabiendo que los números indican el estado de empleo, es claro que estos son estados muy distintos y no deben ser modelados por una sola variable continua.\n",
    "\n",
    "Las características categóricas a menudo se codifican con números enteros. El hecho de que sean números no significa que deban tratarse necesariamente como características continuas. No siempre está claro si una característica entera debe tratarse como continua o discreta (y codificada  one-hot). Si no hay orden entre las semánticas que están codificadas (como en el ejemplo de `workclass`), la característica se debe tratar como discreta. En otros casos, como clasificaciones de cinco estrellas, la mejor codificación depende de la tarea y los datos en particular y qué algoritmo de machine  learning se utiliza.\n",
    "\n",
    "La función `get_dummies` en pandas trata todos los números como continuos y no creará variables dummies para ellos. Para evitar esto, puede usar el `OneHotEncoder` de scikitlearn, para lo cual puede especificar qué variables son continuas y discretas, o convertir columnas numéricas en el DataFrame en cadenas. Para ilustrar, creamos un objeto DataFrame con dos columnas, una que contenga cadenas y otra que contenga números enteros:\n"
   ]
  },
  {
   "cell_type": "code",
   "execution_count": 8,
   "metadata": {},
   "outputs": [
    {
     "data": {
      "text/html": [
       "<div>\n",
       "<style scoped>\n",
       "    .dataframe tbody tr th:only-of-type {\n",
       "        vertical-align: middle;\n",
       "    }\n",
       "\n",
       "    .dataframe tbody tr th {\n",
       "        vertical-align: top;\n",
       "    }\n",
       "\n",
       "    .dataframe thead th {\n",
       "        text-align: right;\n",
       "    }\n",
       "</style>\n",
       "<table border=\"1\" class=\"dataframe\">\n",
       "  <thead>\n",
       "    <tr style=\"text-align: right;\">\n",
       "      <th></th>\n",
       "      <th>Caracteristica categorica</th>\n",
       "      <th>Caracteristica entera</th>\n",
       "    </tr>\n",
       "  </thead>\n",
       "  <tbody>\n",
       "    <tr>\n",
       "      <th>0</th>\n",
       "      <td>socks</td>\n",
       "      <td>0</td>\n",
       "    </tr>\n",
       "    <tr>\n",
       "      <th>1</th>\n",
       "      <td>fox</td>\n",
       "      <td>1</td>\n",
       "    </tr>\n",
       "    <tr>\n",
       "      <th>2</th>\n",
       "      <td>socks</td>\n",
       "      <td>2</td>\n",
       "    </tr>\n",
       "    <tr>\n",
       "      <th>3</th>\n",
       "      <td>box</td>\n",
       "      <td>1</td>\n",
       "    </tr>\n",
       "  </tbody>\n",
       "</table>\n",
       "</div>"
      ],
      "text/plain": [
       "  Caracteristica categorica  Caracteristica entera\n",
       "0                     socks                      0\n",
       "1                       fox                      1\n",
       "2                     socks                      2\n",
       "3                       box                      1"
      ]
     },
     "metadata": {},
     "output_type": "display_data"
    }
   ],
   "source": [
    "# creamos un DataFrame con una característica entera y una característica de cadena categórica\n",
    "\n",
    "demo_df = pd.DataFrame({'Caracteristica entera': [0, 1, 2, 1],\n",
    "                        'Caracteristica categorica': ['socks', 'fox', 'socks', 'box']})\n",
    "display(demo_df)"
   ]
  },
  {
   "cell_type": "markdown",
   "metadata": {},
   "source": [
    "El uso de `get_dummies` solo codificará las característica de cadena y no cambiará la característica de entero, como puede ver:"
   ]
  },
  {
   "cell_type": "code",
   "execution_count": 9,
   "metadata": {},
   "outputs": [
    {
     "data": {
      "text/html": [
       "<div>\n",
       "<style scoped>\n",
       "    .dataframe tbody tr th:only-of-type {\n",
       "        vertical-align: middle;\n",
       "    }\n",
       "\n",
       "    .dataframe tbody tr th {\n",
       "        vertical-align: top;\n",
       "    }\n",
       "\n",
       "    .dataframe thead th {\n",
       "        text-align: right;\n",
       "    }\n",
       "</style>\n",
       "<table border=\"1\" class=\"dataframe\">\n",
       "  <thead>\n",
       "    <tr style=\"text-align: right;\">\n",
       "      <th></th>\n",
       "      <th>Caracteristica entera</th>\n",
       "      <th>Caracteristica categorica_box</th>\n",
       "      <th>Caracteristica categorica_fox</th>\n",
       "      <th>Caracteristica categorica_socks</th>\n",
       "    </tr>\n",
       "  </thead>\n",
       "  <tbody>\n",
       "    <tr>\n",
       "      <th>0</th>\n",
       "      <td>0</td>\n",
       "      <td>0</td>\n",
       "      <td>0</td>\n",
       "      <td>1</td>\n",
       "    </tr>\n",
       "    <tr>\n",
       "      <th>1</th>\n",
       "      <td>1</td>\n",
       "      <td>0</td>\n",
       "      <td>1</td>\n",
       "      <td>0</td>\n",
       "    </tr>\n",
       "    <tr>\n",
       "      <th>2</th>\n",
       "      <td>2</td>\n",
       "      <td>0</td>\n",
       "      <td>0</td>\n",
       "      <td>1</td>\n",
       "    </tr>\n",
       "    <tr>\n",
       "      <th>3</th>\n",
       "      <td>1</td>\n",
       "      <td>1</td>\n",
       "      <td>0</td>\n",
       "      <td>0</td>\n",
       "    </tr>\n",
       "  </tbody>\n",
       "</table>\n",
       "</div>"
      ],
      "text/plain": [
       "   Caracteristica entera  Caracteristica categorica_box  \\\n",
       "0                      0                              0   \n",
       "1                      1                              0   \n",
       "2                      2                              0   \n",
       "3                      1                              1   \n",
       "\n",
       "   Caracteristica categorica_fox  Caracteristica categorica_socks  \n",
       "0                              0                                1  \n",
       "1                              1                                0  \n",
       "2                              0                                1  \n",
       "3                              0                                0  "
      ]
     },
     "execution_count": 9,
     "metadata": {},
     "output_type": "execute_result"
    }
   ],
   "source": [
    "pd.get_dummies(demo_df)"
   ]
  },
  {
   "cell_type": "markdown",
   "metadata": {},
   "source": [
    "Si desea que se creen variables dummy para la columna `Caracteristica entera`, puede listar explícitamente las columnas que desea codificar utilizando el parámetro de `columns`. Entonces, ambas características serán tratadas como categóricas:"
   ]
  },
  {
   "cell_type": "code",
   "execution_count": 10,
   "metadata": {},
   "outputs": [
    {
     "data": {
      "text/html": [
       "<div>\n",
       "<style scoped>\n",
       "    .dataframe tbody tr th:only-of-type {\n",
       "        vertical-align: middle;\n",
       "    }\n",
       "\n",
       "    .dataframe tbody tr th {\n",
       "        vertical-align: top;\n",
       "    }\n",
       "\n",
       "    .dataframe thead th {\n",
       "        text-align: right;\n",
       "    }\n",
       "</style>\n",
       "<table border=\"1\" class=\"dataframe\">\n",
       "  <thead>\n",
       "    <tr style=\"text-align: right;\">\n",
       "      <th></th>\n",
       "      <th>Caracteristica entera_0</th>\n",
       "      <th>Caracteristica entera_1</th>\n",
       "      <th>Caracteristica entera_2</th>\n",
       "      <th>Caracteristica categorica_box</th>\n",
       "      <th>Caracteristica categorica_fox</th>\n",
       "      <th>Caracteristica categorica_socks</th>\n",
       "    </tr>\n",
       "  </thead>\n",
       "  <tbody>\n",
       "    <tr>\n",
       "      <th>0</th>\n",
       "      <td>1</td>\n",
       "      <td>0</td>\n",
       "      <td>0</td>\n",
       "      <td>0</td>\n",
       "      <td>0</td>\n",
       "      <td>1</td>\n",
       "    </tr>\n",
       "    <tr>\n",
       "      <th>1</th>\n",
       "      <td>0</td>\n",
       "      <td>1</td>\n",
       "      <td>0</td>\n",
       "      <td>0</td>\n",
       "      <td>1</td>\n",
       "      <td>0</td>\n",
       "    </tr>\n",
       "    <tr>\n",
       "      <th>2</th>\n",
       "      <td>0</td>\n",
       "      <td>0</td>\n",
       "      <td>1</td>\n",
       "      <td>0</td>\n",
       "      <td>0</td>\n",
       "      <td>1</td>\n",
       "    </tr>\n",
       "    <tr>\n",
       "      <th>3</th>\n",
       "      <td>0</td>\n",
       "      <td>1</td>\n",
       "      <td>0</td>\n",
       "      <td>1</td>\n",
       "      <td>0</td>\n",
       "      <td>0</td>\n",
       "    </tr>\n",
       "  </tbody>\n",
       "</table>\n",
       "</div>"
      ],
      "text/plain": [
       "   Caracteristica entera_0  Caracteristica entera_1  Caracteristica entera_2  \\\n",
       "0                        1                        0                        0   \n",
       "1                        0                        1                        0   \n",
       "2                        0                        0                        1   \n",
       "3                        0                        1                        0   \n",
       "\n",
       "   Caracteristica categorica_box  Caracteristica categorica_fox  \\\n",
       "0                              0                              0   \n",
       "1                              0                              1   \n",
       "2                              0                              0   \n",
       "3                              1                              0   \n",
       "\n",
       "   Caracteristica categorica_socks  \n",
       "0                                1  \n",
       "1                                0  \n",
       "2                                1  \n",
       "3                                0  "
      ]
     },
     "execution_count": 10,
     "metadata": {},
     "output_type": "execute_result"
    }
   ],
   "source": [
    "demo_df['Caracteristica entera'] = demo_df['Caracteristica entera'].astype(str)\n",
    "pd.get_dummies(demo_df, columns=['Caracteristica entera', 'Caracteristica categorica'])"
   ]
  },
  {
   "cell_type": "markdown",
   "metadata": {},
   "source": [
    "### Binning, discretización, modelos lineales y árboles\n",
    "\n",
    "La mejor forma de representar los datos depende no solo de la semántica de los datos, sino también del tipo de modelo que está utilizando. Los modelos lineales y los modelos basados en árboles (como árboles de decisión, árboles con gradient boosted y bosques aleatorios), dos familias grandes y muy utilizadas, tienen propiedades muy diferentes cuando se trata de cómo funcionan con diferentes representaciones de características. Regresemos al conjunto de datos de regresión `wave`.  Tiene solo una función de entrada. Aquí hay una comparación de un modelo de regresión lineal y un regresor de árbol de decisión en este conjunto de datos:\n"
   ]
  },
  {
   "cell_type": "code",
   "execution_count": 11,
   "metadata": {},
   "outputs": [],
   "source": [
    "%matplotlib inline\n",
    "import numpy as np\n",
    "def hacer_wave(n_muestras=100):\n",
    "    rnd = np.random.RandomState(42)\n",
    "    x = rnd.uniform(-3, 3, size=n_muestras)\n",
    "    y_no_ruido = (np.sin(4 * x) + x)\n",
    "    y = (y_no_ruido + rnd.normal(size=len(x))) / 2\n",
    "    return x.reshape(-1, 1), y"
   ]
  },
  {
   "cell_type": "code",
   "execution_count": 12,
   "metadata": {},
   "outputs": [
    {
     "data": {
      "text/plain": [
       "<matplotlib.legend.Legend at 0x7fb61f761080>"
      ]
     },
     "execution_count": 12,
     "metadata": {},
     "output_type": "execute_result"
    },
    {
     "data": {
      "image/png": "[encoded data removed]",
      "text/plain": [
       "<matplotlib.figure.Figure at 0x7fb6091209e8>"
      ]
     },
     "metadata": {},
     "output_type": "display_data"
    }
   ],
   "source": [
    "import matplotlib.pyplot as plt\n",
    "from sklearn.linear_model import LinearRegression\n",
    "from sklearn.tree import DecisionTreeRegressor\n",
    "\n",
    "X, y = hacer_wave(n_muestras=100)\n",
    "linea = np.linspace(-3, 3, 1000, endpoint=False).reshape(-1, 1)\n",
    "reg = DecisionTreeRegressor(min_samples_split=3).fit(X, y)\n",
    "\n",
    "plt.plot(linea, reg.predict(linea), label=\"Arboles de decision\")\n",
    "reg = LinearRegression().fit(X, y)\n",
    "plt.plot(linea, reg.predict(linea), label=\"Regresion lineal\")\n",
    "plt.plot(X[:, 0], y, 'o', c='k')\n",
    "plt.ylabel(\"Salida de regresion\")\n",
    "plt.xlabel(\"Caracteristica de entradas\")\n",
    "plt.legend(loc=\"best\")"
   ]
  },
  {
   "cell_type": "markdown",
   "metadata": {},
   "source": [
    "Imaginamos una partición del rango de entrada para la característica (en este caso, los números de -3 a 3) en un número fijo de `bins` contenedores, por ejemplo, 10. Un punto de datos se representará por el contenedor que pertenece. Para determinar esto, primero tenemos que definir los  bins. En este caso, definiremos 10 intervalos igualmente espaciados entre -3 y 3. Utilizamos la función `np.linspace` para esto, creando 11 entradas, que crearán 10 bins: son los espacios entre dos límites consecutivos:"
   ]
  },
  {
   "cell_type": "code",
   "execution_count": 13,
   "metadata": {},
   "outputs": [
    {
     "name": "stdout",
     "output_type": "stream",
     "text": [
      "bins: [-3.  -2.4 -1.8 -1.2 -0.6  0.   0.6  1.2  1.8  2.4  3. ]\n"
     ]
    }
   ],
   "source": [
    "bins = np.linspace(-3, 3, 11)\n",
    "print(\"bins: {}\".format(bins))"
   ]
  },
  {
   "cell_type": "markdown",
   "metadata": {},
   "source": [
    "A continuación, registramos para cada punto de datos a que bin pertenece. Esto se puede calcular fácilmente usando la función `np.digitize`:"
   ]
  },
  {
   "cell_type": "code",
   "execution_count": 14,
   "metadata": {},
   "outputs": [
    {
     "name": "stdout",
     "output_type": "stream",
     "text": [
      "\n",
      "Puntos de datos:\n",
      " [[-0.75275929]\n",
      " [ 2.70428584]\n",
      " [ 1.39196365]\n",
      " [ 0.59195091]\n",
      " [-2.06388816]]\n",
      "\n",
      "Bin que pertenece los puntos de datos:\n",
      " [[ 4]\n",
      " [10]\n",
      " [ 8]\n",
      " [ 6]\n",
      " [ 2]]\n"
     ]
    }
   ],
   "source": [
    "bin_pertenece = np.digitize(X, bins=bins)\n",
    "print(\"\\nPuntos de datos:\\n\", X[:5])\n",
    "print(\"\\nBin que pertenece los puntos de datos:\\n\", bin_pertenece[:5])"
   ]
  },
  {
   "cell_type": "markdown",
   "metadata": {},
   "source": [
    "Lo que hicimos aquí es transformar la única característica de entrada continua en el conjunto de datos `wave` en una característica categórica que codifica en qué bin está un punto de dato. Para usar un modelo scikitlearn en estos datos, transformamos esta característica discreta a una codificación `one-hot`, usando el OneHotEncoder del módulo `preprocessing`. OneHotEncoder tiene la misma codificación que `pandas.get_dummies`, aunque actualmente solo funciona en variables categóricas que son enteras:"
   ]
  },
  {
   "cell_type": "code",
   "execution_count": 15,
   "metadata": {},
   "outputs": [
    {
     "name": "stdout",
     "output_type": "stream",
     "text": [
      "[[0. 0. 0. 1. 0. 0. 0. 0. 0. 0.]\n",
      " [0. 0. 0. 0. 0. 0. 0. 0. 0. 1.]\n",
      " [0. 0. 0. 0. 0. 0. 0. 1. 0. 0.]\n",
      " [0. 0. 0. 0. 0. 1. 0. 0. 0. 0.]\n",
      " [0. 1. 0. 0. 0. 0. 0. 0. 0. 0.]]\n"
     ]
    }
   ],
   "source": [
    "from sklearn.preprocessing import OneHotEncoder\n",
    "# transformamos usando OneHotEncode\n",
    "encoder = OneHotEncoder(sparse=False)\n",
    "# encoder.fit encuentra los valores unicos que aparecen en bin_pertenece\n",
    "encoder.fit(bin_pertenece)\n",
    "# transform crea la codificacion one-hot\n",
    "X_binned = encoder.transform(bin_pertenece)\n",
    "print(X_binned[:5])"
   ]
  },
  {
   "cell_type": "markdown",
   "metadata": {},
   "source": [
    "Debido a que especificamos 10 bins, el conjunto de datos transformados `X_binned` ahora se compone de 10 características:"
   ]
  },
  {
   "cell_type": "code",
   "execution_count": 16,
   "metadata": {},
   "outputs": [
    {
     "name": "stdout",
     "output_type": "stream",
     "text": [
      "Dimension de  X_binned: (100, 10)\n"
     ]
    }
   ],
   "source": [
    "print(\"Dimension de  X_binned: {}\".format(X_binned.shape))"
   ]
  },
  {
   "cell_type": "markdown",
   "metadata": {},
   "source": [
    "Ahora construimos un nuevo modelo de regresión lineal y un nuevo modelo de árbol de decisión en los datos codificados con `one-hot`. El resultado se visualiza en la siguiente figura, junto con los límites del contenedor."
   ]
  },
  {
   "cell_type": "code",
   "execution_count": 20,
   "metadata": {},
   "outputs": [
    {
     "data": {
      "text/plain": [
       "Text(0.5,0,'Caracteristica de entrada')"
      ]
     },
     "execution_count": 20,
     "metadata": {},
     "output_type": "execute_result"
    },
    {
     "data": {
      "image/png": "[encoded data removed]",
      "text/plain": [
       "<matplotlib.figure.Figure at 0x7fb61f3ab198>"
      ]
     },
     "metadata": {},
     "output_type": "display_data"
    }
   ],
   "source": [
    "linea_binned = encoder.transform(np.digitize(linea, bins=bins))\n",
    "reg = LinearRegression().fit(X_binned, y)\n",
    "plt.plot(linea, reg.predict(linea_binned), label='regresion linea agrupadas')\n",
    "reg = DecisionTreeRegressor(min_samples_split=3).fit(X_binned, y)\n",
    "plt.plot(linea, reg.predict(linea_binned), label='arboles de decision agrupadas')\n",
    "plt.plot(X[:, 0], y, 'o', c='k')\n",
    "plt.vlines(bins, -3, 3, linewidth=1, alpha=.2)\n",
    "plt.legend(loc=\"best\")\n",
    "plt.ylabel(\"Salida de regresion\")\n",
    "plt.xlabel(\"Caracteristica de entrada\")"
   ]
  },
  {
   "cell_type": "markdown",
   "metadata": {},
   "source": [
    "La línea punteada y la línea continua están exactamente una encima de la otra, lo que significa que el modelo de regresión lineal y el árbol de decisión hacen exactamente las mismas predicciones.\n",
    "\n",
    "Para cada contenedor, los modelos  predicen un valor constante. Como las características son constantes dentro de cada contenedor, cualquier modelo debe predecir el mismo valor para todos los puntos dentro de un contenedor. Al comparar lo que los modelos aprendieron antes de agrupar las características y después, el modelo lineal se volvió mucho más flexible, porque ahora tiene un valor diferente para cada contenedor, mientras que el modelo de árbol de decisiones se volvió mucho menos flexible.\n",
    "\n",
    "Las características utilizando bins generalmente no tienen ningún efecto beneficioso para los modelos basados en árboles, ya que estos modelos pueden aprender a dividir los datos en cualquier lugar. En cierto sentido, eso significa que los árboles de decisión pueden aprender cualquier agrupamiento que sea más útil para predecir en estos datos. \n",
    "\n",
    "Además, los árboles de decisión miran múltiples características a la vez, mientras que el binning generalmente se realiza por característica. Sin embargo, el modelo lineal se benefició enormemente  de la transformación de los datos.\n"
   ]
  },
  {
   "cell_type": "markdown",
   "metadata": {},
   "source": [
    "### Interacciones y polinomios\n",
    "\n",
    "Otra forma de enriquecer una representación de características, particularmente para modelos lineales, es agregar características de interacción y características polinómicas de los datos originales. Este tipo de ingeniería de características se usa a menudo en el modelado estadístico, pero también es común en muchas aplicaciones prácticas del machine learning.\n",
    "\n",
    "Como primer ejemplo, miramos la figura anterior. El modelo lineal aprendió un valor constante para cada contenedor en el conjunto de datos `wave`. Sin embargo, sabemos que los modelos lineales pueden aprender no solo de desplazamientos, sino también de pendientes. Una forma de agregar una pendiente al modelo lineal en los datos agrupados es volver a agregar la característica original (el eje x en el gráfico). Esto lleva a un conjunto de datos de 11 dimensiones, como se ve en la  siguiente figura:"
   ]
  },
  {
   "cell_type": "code",
   "execution_count": 19,
   "metadata": {},
   "outputs": [
    {
     "name": "stdout",
     "output_type": "stream",
     "text": [
      "(100, 11)\n"
     ]
    }
   ],
   "source": [
    "X_combinado= np.hstack([X, X_binned])\n",
    "print(X_combinado.shape)"
   ]
  },
  {
   "cell_type": "code",
   "execution_count": 33,
   "metadata": {},
   "outputs": [
    {
     "data": {
      "image/png": "[encoded data removed]",
      "text/plain": [
       "<matplotlib.figure.Figure at 0x7fb61eef52b0>"
      ]
     },
     "metadata": {},
     "output_type": "display_data"
    }
   ],
   "source": [
    "reg = LinearRegression().fit(X_combinado, y)\n",
    "linea_combinada = np.hstack([linea, linea_binned])\n",
    "plt.plot(linea, reg.predict(linea_combinada), label='regresion lineal combinada')\n",
    "for bin in bins:\n",
    "    plt.plot([bin, bin], [-3, 3], ':', c='k')\n",
    "    plt.legend(loc=\"best\")\n",
    "    plt.ylabel(\"Salida de regresion\")\n",
    "    plt.xlabel(\"Caracteristica de entrada\")\n",
    "    plt.plot(X[:, 0], y, 'o', c='k')"
   ]
  },
  {
   "cell_type": "markdown",
   "metadata": {},
   "source": [
    "En este ejemplo, el modelo aprendió un desplazamiento para cada contenedor, junto con una pendiente. La pendiente aprendida es descendente y se comparte entre todos los bins; existe una única característica de eje x, que tiene una sola pendiente.\n",
    "\n",
    "Debido a que la pendiente se comparte entre todos los contenedores, no parece ser muy útil. ¡Preferimos tener una pendiente separada para cada contenedor!. Podemos lograr esto agregando una característica de interacción o producto que indique en qué contenedor se encuentra un punto de datos y dónde se encuentra en el eje x. \n",
    "\n",
    "Esta característica es un producto del indicador de contenedor y la función original. Vamos a crear este conjunto de datos:"
   ]
  },
  {
   "cell_type": "code",
   "execution_count": 23,
   "metadata": {},
   "outputs": [
    {
     "name": "stdout",
     "output_type": "stream",
     "text": [
      "(100, 20)\n"
     ]
    }
   ],
   "source": [
    "X_producto = np.hstack([X_binned, X * X_binned])\n",
    "print(X_producto.shape)"
   ]
  },
  {
   "cell_type": "markdown",
   "metadata": {},
   "source": [
    "El conjunto de datos ahora tiene 20 características: los indicadores del bin donde se encuentra el punto de datos, y un producto de la característica original y el indicador del contenedor. Se puede pensar en la característica del producto como una copia separada de la función del eje x para cada contenedor. "
   ]
  },
  {
   "cell_type": "code",
   "execution_count": 25,
   "metadata": {},
   "outputs": [
    {
     "data": {
      "image/png": "[encoded data removed]",
      "text/plain": [
       "<matplotlib.figure.Figure at 0x7fb61ee82e48>"
      ]
     },
     "metadata": {},
     "output_type": "display_data"
    }
   ],
   "source": [
    "reg = LinearRegression().fit(X_producto, y)\n",
    "linea_producto = np.hstack([linea_binned, linea * linea_binned])\n",
    "plt.plot(linea, reg.predict(linea_producto), label='producto de regresion lineal')\n",
    "for bin in bins:\n",
    "    plt.plot([bin, bin], [-3, 3], ':', c='k')\n",
    "    plt.plot(X[:, 0], y, 'o', c='k')\n",
    "    \n",
    "    plt.ylabel(\"Salida de regresion\")\n",
    "    plt.xlabel(\"Caracteristicas de entrada\")\n",
    "    plt.legend(loc=\"best\")"
   ]
  },
  {
   "cell_type": "markdown",
   "metadata": {},
   "source": [
    "Como puede ver, ahora cada contenedor tiene su propio desplazamiento y pendiente en este modelo."
   ]
  },
  {
   "cell_type": "markdown",
   "metadata": {},
   "source": [
    "El uso de binning es una forma de expandir una característica continua. Otra es usar polinomios de las características originales. Para una característica dada `x`, podríamos considerar `x ** 2`, `x ** 3`, `x ** 4` y así sucesivamente. Esto se implementa en `PolynomialFeatures` en el módulo de `preprocessing`:"
   ]
  },
  {
   "cell_type": "code",
   "execution_count": 41,
   "metadata": {},
   "outputs": [],
   "source": [
    "from sklearn.preprocessing import PolynomialFeatures\n",
    "# incluimos polinomios hasta x ** 10:\n",
    "# \"include_bias=True\" agrega una caracteristica que es constante a 1\n",
    "polinomio = PolynomialFeatures(degree=10, include_bias=False)\n",
    "polinomio.fit(X)\n",
    "X_polinomio = polinomio.transform(X)"
   ]
  },
  {
   "cell_type": "markdown",
   "metadata": {},
   "source": [
    "El uso de un grado de 10 produce 10 características:"
   ]
  },
  {
   "cell_type": "code",
   "execution_count": 42,
   "metadata": {},
   "outputs": [
    {
     "name": "stdout",
     "output_type": "stream",
     "text": [
      "Dimension de X_polinomio: (100, 10)\n"
     ]
    }
   ],
   "source": [
    "print(\"Dimension de X_polinomio: {}\".format(X_polinomio.shape))"
   ]
  },
  {
   "cell_type": "markdown",
   "metadata": {},
   "source": [
    "Comparemos las entradas de `X_poly` con las de `X`:"
   ]
  },
  {
   "cell_type": "code",
   "execution_count": 44,
   "metadata": {},
   "outputs": [
    {
     "name": "stdout",
     "output_type": "stream",
     "text": [
      "Entradas de  X:\n",
      "[[-0.75275929]\n",
      " [ 2.70428584]\n",
      " [ 1.39196365]\n",
      " [ 0.59195091]\n",
      " [-2.06388816]]\n",
      "Entradas de  X_polinomio:\n",
      "[[-7.52759287e-01  5.66646544e-01 -4.26548448e-01  3.21088306e-01\n",
      "  -2.41702204e-01  1.81943579e-01 -1.36959719e-01  1.03097700e-01\n",
      "  -7.76077513e-02  5.84199555e-02]\n",
      " [ 2.70428584e+00  7.31316190e+00  1.97768801e+01  5.34823369e+01\n",
      "   1.44631526e+02  3.91124988e+02  1.05771377e+03  2.86036036e+03\n",
      "   7.73523202e+03  2.09182784e+04]\n",
      " [ 1.39196365e+00  1.93756281e+00  2.69701700e+00  3.75414962e+00\n",
      "   5.22563982e+00  7.27390068e+00  1.01250053e+01  1.40936394e+01\n",
      "   1.96178338e+01  2.73073115e+01]\n",
      " [ 5.91950905e-01  3.50405874e-01  2.07423074e-01  1.22784277e-01\n",
      "   7.26822637e-02  4.30243318e-02  2.54682921e-02  1.50759786e-02\n",
      "   8.92423917e-03  5.28271146e-03]\n",
      " [-2.06388816e+00  4.25963433e+00 -8.79140884e+00  1.81444846e+01\n",
      "  -3.74481869e+01  7.72888694e+01 -1.59515582e+02  3.29222321e+02\n",
      "  -6.79478050e+02  1.40236670e+03]]\n"
     ]
    }
   ],
   "source": [
    "print(\"Entradas de  X:\\n{}\".format(X[:5]))\n",
    "print(\"Entradas de  X_polinomio:\\n{}\".format(X_polinomio[:5]))"
   ]
  },
  {
   "cell_type": "markdown",
   "metadata": {},
   "source": [
    "Se puede obtener la semántica de las características llamando al método `get_feature_names`, que proporciona el exponente para cada característica:"
   ]
  },
  {
   "cell_type": "code",
   "execution_count": 45,
   "metadata": {},
   "outputs": [
    {
     "name": "stdout",
     "output_type": "stream",
     "text": [
      "Nombres de características polinomiales:\n",
      "['x0', 'x0^2', 'x0^3', 'x0^4', 'x0^5', 'x0^6', 'x0^7', 'x0^8', 'x0^9', 'x0^10']\n"
     ]
    }
   ],
   "source": [
    "print(\"Nombres de características polinomiales:\\n{}\".format(polinomio.get_feature_names()))"
   ]
  },
  {
   "cell_type": "markdown",
   "metadata": {},
   "source": [
    "El uso de características polinómicas junto con un modelo de regresión lineal produce el modelo clásico de regresión polinómica:"
   ]
  },
  {
   "cell_type": "code",
   "execution_count": 46,
   "metadata": {},
   "outputs": [
    {
     "data": {
      "text/plain": [
       "<matplotlib.legend.Legend at 0x7fb61efae198>"
      ]
     },
     "execution_count": 46,
     "metadata": {},
     "output_type": "execute_result"
    },
    {
     "data": {
      "image/png": "[encoded data removed]",
      "text/plain": [
       "<matplotlib.figure.Figure at 0x7fb6080d5f60>"
      ]
     },
     "metadata": {},
     "output_type": "display_data"
    }
   ],
   "source": [
    "reg = LinearRegression().fit(X_polinomio, y)\n",
    "linea_polinomio = polinomio.transform(linea)\n",
    "\n",
    "plt.plot(linea, reg.predict(linea_polinomio), label='regresion lineal polinomica')\n",
    "plt.plot(X[:, 0], y, 'o', c='k')\n",
    "plt.ylabel(\"Salida de regresion\")\n",
    "plt.xlabel(\"Caracteristica de entrada\")\n",
    "plt.legend(loc=\"best\")"
   ]
  },
  {
   "cell_type": "markdown",
   "metadata": {},
   "source": [
    "Como se puede ver, las características polinomiales producen un ajuste muy suave en esta información unidimensional. Sin embargo, los polinomios de alto grado tienden a comportarse de manera extrema en los límites o en regiones con pocos datos.\n",
    "\n",
    "A modo de comparación, aquí se aprende un modelo de SVM con un kernel RBF en los datos originales, sin ninguna transformación:"
   ]
  },
  {
   "cell_type": "code",
   "execution_count": 47,
   "metadata": {},
   "outputs": [
    {
     "data": {
      "image/png": "[encoded data removed]",
      "text/plain": [
       "<matplotlib.figure.Figure at 0x7fb6240eeda0>"
      ]
     },
     "metadata": {},
     "output_type": "display_data"
    }
   ],
   "source": [
    "from sklearn.svm import SVR\n",
    "for gamma in [1, 10]:\n",
    "    svr = SVR(gamma=gamma).fit(X, y)\n",
    "    plt.plot(linea, svr.predict(linea), label='SVR gamma={}'.format(gamma))\n",
    "    plt.plot(X[:, 0], y, 'o', c='k')\n",
    "    plt.ylabel(\"Salida de regresion\")\n",
    "    plt.xlabel(\"Caracteristica de entrada\")\n",
    "    plt.legend(loc=\"best\")"
   ]
  },
  {
   "cell_type": "markdown",
   "metadata": {},
   "source": [
    "Usando un modelo más complejo como SVM, podemos aprender una predicción similarmente compleja de la regresión polinomial sin una transformación explícita de las características."
   ]
  },
  {
   "cell_type": "markdown",
   "metadata": {},
   "source": [
    "#### Ejemplo\n",
    "\n",
    "Como una aplicación más realista de interacciones y polinomios, echemos un vistazo al conjunto de datos de Boston Housing. Echemos un vistazo a cómo se construye estas características y a cuánto ayudan las características polinomiales. Primero cargamos los datos y lo cambiamos de escala para que esté entre 0 y 1 usando `MinMaxScaler`:\n"
   ]
  },
  {
   "cell_type": "code",
   "execution_count": 48,
   "metadata": {},
   "outputs": [],
   "source": [
    "from sklearn.datasets import load_boston\n",
    "from sklearn.model_selection import train_test_split\n",
    "from sklearn.preprocessing import MinMaxScaler\n",
    "\n",
    "boston = load_boston()\n",
    "X_entrenamiento, X_prueba, y_entrenamiento, y_prueba = train_test_split(boston.data, boston.target, random_state=0)\n",
    "\n",
    "# reescalamos los datos\n",
    "escalador = MinMaxScaler()\n",
    "X_entrenamiento_escalado = escalador.fit_transform(X_entrenamiento)\n",
    "X_prueba_escalado = escalador.transform(X_prueba)"
   ]
  },
  {
   "cell_type": "markdown",
   "metadata": {},
   "source": [
    "Ahora, extraemos características e interacciones polinomiales hasta un grado de 2:"
   ]
  },
  {
   "cell_type": "code",
   "execution_count": 51,
   "metadata": {},
   "outputs": [
    {
     "name": "stdout",
     "output_type": "stream",
     "text": [
      "Dimension X_entrenamiento: (379, 13)\n",
      "Dimension X_entrenamiento_polinomio: (379, 105)\n"
     ]
    }
   ],
   "source": [
    "polinomio = PolynomialFeatures(degree=2).fit(X_entrenamiento_escalado)\n",
    "X_entrenamiento_polinomio = poly.transform(X_entrenamiento_escalado)\n",
    "X_prueba_polinomio = polinomio.transform(X_prueba_escalado)\n",
    "print(\"Dimension X_entrenamiento: {}\".format(X_entrenamiento.shape))\n",
    "print(\"Dimension X_entrenamiento_polinomio: {}\".format(X_entrenamiento_polinomio.shape))"
   ]
  },
  {
   "cell_type": "markdown",
   "metadata": {},
   "source": [
    "La información originalmente tenía 13 características, que se expandieron a 105 características de interacción. Estas nuevas características representan todas las interacciones posibles entre dos características originales diferentes, así como el cuadrado de cada característica original.\n",
    "\n",
    "`grade = 2` aquí significa que observamos todas las características que son producto de hasta dos características originales.\n"
   ]
  },
  {
   "cell_type": "markdown",
   "metadata": {},
   "source": [
    "La correspondencia exacta entre las características de entrada y salida se puede encontrar utilizando el método `get_feature_names`:"
   ]
  },
  {
   "cell_type": "code",
   "execution_count": 52,
   "metadata": {},
   "outputs": [
    {
     "name": "stdout",
     "output_type": "stream",
     "text": [
      "Nombres de caracteristicas polinomiales:\n",
      "['1', 'x0', 'x1', 'x2', 'x3', 'x4', 'x5', 'x6', 'x7', 'x8', 'x9', 'x10', 'x11', 'x12', 'x0^2', 'x0 x1', 'x0 x2', 'x0 x3', 'x0 x4', 'x0 x5', 'x0 x6', 'x0 x7', 'x0 x8', 'x0 x9', 'x0 x10', 'x0 x11', 'x0 x12', 'x1^2', 'x1 x2', 'x1 x3', 'x1 x4', 'x1 x5', 'x1 x6', 'x1 x7', 'x1 x8', 'x1 x9', 'x1 x10', 'x1 x11', 'x1 x12', 'x2^2', 'x2 x3', 'x2 x4', 'x2 x5', 'x2 x6', 'x2 x7', 'x2 x8', 'x2 x9', 'x2 x10', 'x2 x11', 'x2 x12', 'x3^2', 'x3 x4', 'x3 x5', 'x3 x6', 'x3 x7', 'x3 x8', 'x3 x9', 'x3 x10', 'x3 x11', 'x3 x12', 'x4^2', 'x4 x5', 'x4 x6', 'x4 x7', 'x4 x8', 'x4 x9', 'x4 x10', 'x4 x11', 'x4 x12', 'x5^2', 'x5 x6', 'x5 x7', 'x5 x8', 'x5 x9', 'x5 x10', 'x5 x11', 'x5 x12', 'x6^2', 'x6 x7', 'x6 x8', 'x6 x9', 'x6 x10', 'x6 x11', 'x6 x12', 'x7^2', 'x7 x8', 'x7 x9', 'x7 x10', 'x7 x11', 'x7 x12', 'x8^2', 'x8 x9', 'x8 x10', 'x8 x11', 'x8 x12', 'x9^2', 'x9 x10', 'x9 x11', 'x9 x12', 'x10^2', 'x10 x11', 'x10 x12', 'x11^2', 'x11 x12', 'x12^2']\n"
     ]
    }
   ],
   "source": [
    "print(\"Nombres de caracteristicas polinomiales:\\n{}\".format(polinomio.get_feature_names()))"
   ]
  },
  {
   "cell_type": "markdown",
   "metadata": {},
   "source": [
    "La primera característica nueva es una característica constante, llamada \"1\" aquí. Las siguientes 13 características son las características originales (llamadas \"x0\" a \"x12\"). Luego sigue la primera característica al cuadrado\n",
    "(\"x0 ^ 2\") y combinaciones de la primera y las otras características.\n",
    "\n",
    "Comparemos el rendimiento usando Ridge en los datos con y sin interacciones:"
   ]
  },
  {
   "cell_type": "code",
   "execution_count": 53,
   "metadata": {},
   "outputs": [
    {
     "name": "stdout",
     "output_type": "stream",
     "text": [
      "Puntuaciones sin interacciones: 0.621\n",
      "Puntuaciones con interacciones: 0.753\n"
     ]
    }
   ],
   "source": [
    "from sklearn.linear_model import Ridge\n",
    "ridge = Ridge().fit(X_entrenamiento_escalado, y_entrenamiento)\n",
    "print(\"Puntuaciones sin interacciones: {:.3f}\".format(ridge.score(X_prueba_escalado, y_prueba)))\n",
    "ridge = Ridge().fit(X_entrenamiento_polinomio, y_entrenamiento)\n",
    "print(\"Puntuaciones con interacciones: {:.3f}\".format(ridge.score(X_prueba_polinomio, y_prueba)))"
   ]
  },
  {
   "cell_type": "markdown",
   "metadata": {},
   "source": [
    "Claramente, las interacciones y las características polinomiales nos dieron un buen impulso en el rendimiento al usar Ridge. Al usar un modelo más complejo como un bosque aleatorio, la historia es un poco diferente, sin embargo:"
   ]
  },
  {
   "cell_type": "code",
   "execution_count": 54,
   "metadata": {},
   "outputs": [
    {
     "name": "stdout",
     "output_type": "stream",
     "text": [
      "Puntuaciones sin interacciones: 0.797\n",
      "Puntuaciones interacciones: 0.763\n"
     ]
    }
   ],
   "source": [
    "from sklearn.ensemble import RandomForestRegressor\n",
    "rf = RandomForestRegressor(n_estimators=100).fit(X_entrenamiento_escalado, y_entrenamiento)\n",
    "print(\"Puntuaciones sin interacciones: {:.3f}\".format( rf.score(X_prueba_escalado, y_prueba)))\n",
    "rf = RandomForestRegressor(n_estimators=100).fit(X_entrenamiento_polinomio, y_entrenamiento)\n",
    "print(\"Puntuaciones interacciones: {:.3f}\".format(rf.score(X_prueba_polinomio, y_prueba)))"
   ]
  },
  {
   "cell_type": "markdown",
   "metadata": {},
   "source": [
    "Se puede ver que incluso sin características adicionales, el bosque aleatorio supera el rendimiento de Ridge. Agregar interacciones y polinomios en realidad disminuye un poco el rendimiento."
   ]
  },
  {
   "cell_type": "markdown",
   "metadata": {},
   "source": [
    "### Transformaciones no lineales univariadas\n",
    "\n",
    "Acabamos de ver que agregar características cuadradas o en cubos puede ayudar a los modelos lineales para la regresión. Hay otras transformaciones que a menudo resultan útiles para transformar ciertas características: en particular, al aplicar funciones matemáticas como `log`, `exp` o `sin`.\n",
    "\n",
    "Mientras que los modelos basados en árboles solo se preocupan por el orden de las características, los modelos lineales y las redes neuronales están muy vinculados a la escala y distribución de cada característica, y si existe una relación no lineal entre la característica y el objetivo, esto se vuelve difícil de modelar -particularmente en regresión.\n",
    "\n",
    "Las funciones `log` y `exp` pueden ayudar ajustando las escalas relativas en los datos para que puedan ser capturados mejor por un modelo lineal o red neuronal. Las funciones `sin` y `cos` pueden ser útiles cuando se trata de datos que codifican patrones periódicos.\n",
    "\n",
    "La mayoría de los modelos funcionan mejor cuando cada característica (y en regresión, también el objetivo) está distribuida de forma gaussiana, es decir, un histograma de cada característica debe tener algo parecido a la forma familiar de \"curva de campana\".\n",
    "\n",
    "El uso de transformaciones como log y exp es una forma ingeniosa pero simple y eficiente de lograr esto. Un caso particularmente común cuando tal transformación puede ser útil es cuando se trata de datos de recuento de enteros. Según los datos de conteo, nos referimos a características como \"¿con qué frecuencia el usuario A ingresa?\" Las cuentas nunca son negativas, y a menudo siguen patrones estadísticos particulares."
   ]
  },
  {
   "cell_type": "markdown",
   "metadata": {},
   "source": [
    "#### Ejemplo\n",
    "\n",
    "Estamos utilizando un conjunto de datos artificiales de recuentos que tiene propiedades similares a las que puede encontrar en la naturaleza. Las características son todas de valor entero, mientras que la respuesta es continua:\n"
   ]
  },
  {
   "cell_type": "code",
   "execution_count": 66,
   "metadata": {},
   "outputs": [],
   "source": [
    "rnd = np.random.RandomState(0)\n",
    "X_org = rnd.normal(size=(1000, 3))\n",
    "w = rnd.normal(size=3)\n",
    "\n",
    "X = rnd.poisson(10 * np.exp(X_org))\n",
    "y = np.dot(X_org, w)"
   ]
  },
  {
   "cell_type": "markdown",
   "metadata": {},
   "source": [
    "Veamos las primeras 10 entradas de la primera característica. Todos son valores enteros y positivos, pero aparte de eso, es difícil distinguir un patrón en particular. Si contamos la apariencia de cada valor, la distribución de los valores se vuelve más clara:"
   ]
  },
  {
   "cell_type": "code",
   "execution_count": 67,
   "metadata": {},
   "outputs": [
    {
     "name": "stdout",
     "output_type": "stream",
     "text": [
      "Numero de apariciones de caracteristica:\n",
      "[28 38 68 48 61 59 45 56 37 40 35 34 36 26 23 26 27 21 23 23 18 21 10  9\n",
      " 17  9  7 14 12  7  3  8  4  5  5  3  4  2  4  1  1  3  2  5  3  8  2  5\n",
      "  2  1  2  3  3  2  2  3  3  0  1  2  1  0  0  3  1  0  0  0  1  3  0  1\n",
      "  0  2  0  1  1  0  0  0  0  1  0  0  2  2  0  1  1  0  0  0  0  1  1  0\n",
      "  0  0  0  0  0  0  1  0  0  0  0  0  1  1  0  0  1  0  0  0  0  0  0  0\n",
      "  1  0  0  0  0  1  0  0  0  0  0  0  0  0  0  0  0  0  0  0  1]\n"
     ]
    }
   ],
   "source": [
    "print(\"Numero de apariciones de caracteristica:\\n{}\".format(np.bincount(X[:, 0])))"
   ]
  },
  {
   "cell_type": "markdown",
   "metadata": {},
   "source": [
    "El valor 2 parece ser el más común, con 62 apariciones (el `bincount` siempre comienza en 0), y los recuentos de valores más altos caen rápidamente. Sin embargo, hay algunos valores muy altos, como 134 que aparecen dos veces. Visualizamos los recuentos en la siguiente figura:"
   ]
  },
  {
   "cell_type": "code",
   "execution_count": 69,
   "metadata": {},
   "outputs": [
    {
     "data": {
      "text/plain": [
       "Text(0.5,0,'Valores')"
      ]
     },
     "execution_count": 69,
     "metadata": {},
     "output_type": "execute_result"
    },
    {
     "data": {
      "image/png": "[encoded data removed]",
      "text/plain": [
       "<matplotlib.figure.Figure at 0x7fb612e0d518>"
      ]
     },
     "metadata": {},
     "output_type": "display_data"
    }
   ],
   "source": [
    "bins = np.bincount(X[:, 0])\n",
    "plt.bar(range(len(bins)), bins, color='grey')\n",
    "plt.ylabel(\"Numero de apariciones\")\n",
    "plt.xlabel(\"Valores\")"
   ]
  },
  {
   "cell_type": "markdown",
   "metadata": {},
   "source": [
    "Las características `X[:, 1]` y `X[:, 2]` tienen propiedades similares. Este tipo de distribución de valores (muchos pequeños y algunos muy grandes) es muy común en la práctica.\n",
    "Sin embargo, es algo que la mayoría de los modelos lineales no pueden manejar muy bien. Tratemos de ajustar una regresión ridge a este modelo:"
   ]
  },
  {
   "cell_type": "code",
   "execution_count": 70,
   "metadata": {},
   "outputs": [
    {
     "name": "stdout",
     "output_type": "stream",
     "text": [
      "Puntuacion del conjunto de  prueba: 0.622\n"
     ]
    }
   ],
   "source": [
    "from sklearn.linear_model import Ridge\n",
    "X_entrenamiento, X_prueba, y_entrenamiento, y_prueba = train_test_split(X, y, random_state=0)\n",
    "puntuacion = Ridge().fit(X_entrenamiento, y_entrenamiento).score(X_prueba, y_prueba)\n",
    "print(\"Puntuacion del conjunto de  prueba: {:.3f}\".format(puntuacion))"
   ]
  },
  {
   "cell_type": "markdown",
   "metadata": {},
   "source": [
    "Como se puede ver en el puntaje $R^2$ relativamente bajo, Ridge no fue capaz de capturar realmente la relación entre `X` e `y`. Sin embargo, aplicar una transformación logarítmica puede ayudar. Como el valor `0` aparece en los datos (y el logaritmo no está definido en `0`), no podemos simplemente aplicar log, pero tenemos que calcular el `log(X + 1)`:"
   ]
  },
  {
   "cell_type": "code",
   "execution_count": 71,
   "metadata": {},
   "outputs": [],
   "source": [
    "X_entrenamiento_log = np.log(X_entrenamiento + 1)\n",
    "X_prueba_log = np.log(X_prueba + 1)"
   ]
  },
  {
   "cell_type": "markdown",
   "metadata": {},
   "source": [
    "Después de la transformación, la distribución de los datos es menos asimétrica y ya no tiene valores atípicos muy grandes."
   ]
  },
  {
   "cell_type": "code",
   "execution_count": 74,
   "metadata": {},
   "outputs": [
    {
     "data": {
      "text/plain": [
       "Text(0.5,0,'Valores')"
      ]
     },
     "execution_count": 74,
     "metadata": {},
     "output_type": "execute_result"
    },
    {
     "data": {
      "image/png": "[encoded data removed]",
      "text/plain": [
       "<matplotlib.figure.Figure at 0x7fb61ee824e0>"
      ]
     },
     "metadata": {},
     "output_type": "display_data"
    }
   ],
   "source": [
    "plt.hist(np.log(X_entrenamiento_log[:, 0] + 1), bins=25, color='gray')\n",
    "plt.ylabel(\"Numero de apariciones\")\n",
    "plt.xlabel(\"Valores\")"
   ]
  },
  {
   "cell_type": "markdown",
   "metadata": {},
   "source": [
    "Construir un modelo ridge sobre los nuevos datos proporciona un ajuste mucho mejor:"
   ]
  },
  {
   "cell_type": "code",
   "execution_count": 76,
   "metadata": {},
   "outputs": [
    {
     "name": "stdout",
     "output_type": "stream",
     "text": [
      "Puntuacion del conjunto de prueba: 0.875\n"
     ]
    }
   ],
   "source": [
    "puntuacion = Ridge().fit(X_entrenamiento_log, y_entrenamiento).score(X_prueba_log, y_prueba)\n",
    "print(\"Puntuacion del conjunto de prueba: {:.3f}\".format(puntuacion))"
   ]
  },
  {
   "cell_type": "markdown",
   "metadata": {},
   "source": [
    "Encontrar la transformación que mejor funciona para cada combinación de conjunto de datos y modelo es algo así como un arte. En este ejemplo, todas las características tienen las mismas propiedades. Esto rara vez es el caso en la práctica, y generalmente solo se debe transformar un subconjunto de las características, o a veces cada característica necesita transformarse de una manera diferente.\n",
    "\n",
    "Como mencionamos anteriormente, este tipo de transformaciones son irrelevantes para los modelos basados en árboles, pero podrían ser esenciales para los modelos lineales. A veces también es una buena idea transformar la variable objetivo `y` en regresión. \n",
    "\n",
    "Intentar predecir recuentos (por ejemplo, número de órdenes) es una tarea bastante común, y usar la transformación  `log (y + 1)` a menudo ayuda. Esta es una aproximación de usar la regresión de Poisson, que sería la solución adecuada desde un punto de vista probabilístico."
   ]
  },
  {
   "cell_type": "code",
   "execution_count": null,
   "metadata": {},
   "outputs": [],
   "source": []
  }
 ],
 "metadata": {
  "kernelspec": {
   "display_name": "Python 3",
   "language": "python",
   "name": "python3"
  },
  "language_info": {
   "codemirror_mode": {
    "name": "ipython",
    "version": 3
   },
   "file_extension": ".py",
   "mimetype": "text/x-python",
   "name": "python",
   "nbconvert_exporter": "python",
   "pygments_lexer": "ipython3",
   "version": "3.6.4"
  }
 },
 "nbformat": 4,
 "nbformat_minor": 2
}
