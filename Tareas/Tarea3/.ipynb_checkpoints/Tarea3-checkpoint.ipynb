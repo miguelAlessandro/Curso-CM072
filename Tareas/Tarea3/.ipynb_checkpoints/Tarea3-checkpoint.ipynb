{
 "cells": [
  {
   "cell_type": "markdown",
   "metadata": {},
   "source": [
    "### Tarea 3 del curso CM-072\n",
    "\n",
    "* Nombre y apellidos:\n",
    "* Fecha de presentación: 27 de setiembre\n",
    "\n",
    "Esta tarea utiliza un pequeño subconjunto de los datos de la competencia de Kaggle  [Yelp Business Rating Prediction ](https://www.kaggle.com/c/yelp-recsys-2013).\n",
    "\n",
    "* Descripción de la data\n",
    "    - `yelp.json` es el formato original del archivo y `yelp.csv` contiene los mismos datos, en un formato más conveniente. Ambos archivos están en esta carpeta de la tarea, por lo que no es necesario descargar los datos del sitio web de Kaggle.\n"
   ]
  },
  {
   "cell_type": "markdown",
   "metadata": {},
   "source": [
    "## Preguntas\n",
    "\n",
    "1. Lee yelp.csv en un DataFrame."
   ]
  },
  {
   "cell_type": "code",
   "execution_count": 1,
   "metadata": {},
   "outputs": [
    {
     "data": {
      "text/html": [
       "<div>\n",
       "<style>\n",
       "    .dataframe thead tr:only-child th {\n",
       "        text-align: right;\n",
       "    }\n",
       "\n",
       "    .dataframe thead th {\n",
       "        text-align: left;\n",
       "    }\n",
       "\n",
       "    .dataframe tbody tr th {\n",
       "        vertical-align: top;\n",
       "    }\n",
       "</style>\n",
       "<table border=\"1\" class=\"dataframe\">\n",
       "  <thead>\n",
       "    <tr style=\"text-align: right;\">\n",
       "      <th></th>\n",
       "      <th>business_id</th>\n",
       "      <th>date</th>\n",
       "      <th>review_id</th>\n",
       "      <th>stars</th>\n",
       "      <th>text</th>\n",
       "      <th>type</th>\n",
       "      <th>user_id</th>\n",
       "      <th>cool</th>\n",
       "      <th>useful</th>\n",
       "      <th>funny</th>\n",
       "    </tr>\n",
       "  </thead>\n",
       "  <tbody>\n",
       "    <tr>\n",
       "      <th>6108</th>\n",
       "      <td>5-X03Zc0nN7U5eoe8uFUdw</td>\n",
       "      <td>2009-04-02</td>\n",
       "      <td>F0SHae4rZ_Yy5ZPuZ-AeOQ</td>\n",
       "      <td>5</td>\n",
       "      <td>This is what I love about Phoenix, you find th...</td>\n",
       "      <td>review</td>\n",
       "      <td>u33Vpx9csHNHhBK764kDzg</td>\n",
       "      <td>0</td>\n",
       "      <td>0</td>\n",
       "      <td>0</td>\n",
       "    </tr>\n",
       "    <tr>\n",
       "      <th>9514</th>\n",
       "      <td>uEJQSIjWui-TDWXaGlcqyQ</td>\n",
       "      <td>2012-06-25</td>\n",
       "      <td>1LTWWPmVaY9AZemEjNlqHA</td>\n",
       "      <td>4</td>\n",
       "      <td>I would give this one 5 stars if it weren't fo...</td>\n",
       "      <td>review</td>\n",
       "      <td>dgNeLSvcN_4llzZ-m-9cgA</td>\n",
       "      <td>0</td>\n",
       "      <td>0</td>\n",
       "      <td>0</td>\n",
       "    </tr>\n",
       "    <tr>\n",
       "      <th>9183</th>\n",
       "      <td>trAvQPp7gps0Btk-2AmLpw</td>\n",
       "      <td>2008-04-10</td>\n",
       "      <td>dXmgGJTDhC0AbCPNXfi7EQ</td>\n",
       "      <td>1</td>\n",
       "      <td>The food is simple, pure and uncomplicated; yo...</td>\n",
       "      <td>review</td>\n",
       "      <td>BrJcbK_lH0irQcNSNBEQHQ</td>\n",
       "      <td>3</td>\n",
       "      <td>3</td>\n",
       "      <td>7</td>\n",
       "    </tr>\n",
       "    <tr>\n",
       "      <th>8846</th>\n",
       "      <td>WNy1uzcmm_UHmTyR--o5IA</td>\n",
       "      <td>2012-03-14</td>\n",
       "      <td>sOs2dB9rbO7p-MB2EJ3cvg</td>\n",
       "      <td>4</td>\n",
       "      <td>I am not as enthusiastic about the Cornish Pas...</td>\n",
       "      <td>review</td>\n",
       "      <td>6qL7A04QNfLAj5Tkig34YQ</td>\n",
       "      <td>0</td>\n",
       "      <td>0</td>\n",
       "      <td>0</td>\n",
       "    </tr>\n",
       "    <tr>\n",
       "      <th>3503</th>\n",
       "      <td>dBMd0f09nJCHURtmGHQPIQ</td>\n",
       "      <td>2008-12-27</td>\n",
       "      <td>8-kxb-aC1BLteINrTrxrNw</td>\n",
       "      <td>4</td>\n",
       "      <td>The name says it all.  This family owned resta...</td>\n",
       "      <td>review</td>\n",
       "      <td>CJWaJ8MfppMDGCiMXyl0pg</td>\n",
       "      <td>0</td>\n",
       "      <td>1</td>\n",
       "      <td>0</td>\n",
       "    </tr>\n",
       "  </tbody>\n",
       "</table>\n",
       "</div>"
      ],
      "text/plain": [
       "                 business_id        date               review_id  stars  \\\n",
       "6108  5-X03Zc0nN7U5eoe8uFUdw  2009-04-02  F0SHae4rZ_Yy5ZPuZ-AeOQ      5   \n",
       "9514  uEJQSIjWui-TDWXaGlcqyQ  2012-06-25  1LTWWPmVaY9AZemEjNlqHA      4   \n",
       "9183  trAvQPp7gps0Btk-2AmLpw  2008-04-10  dXmgGJTDhC0AbCPNXfi7EQ      1   \n",
       "8846  WNy1uzcmm_UHmTyR--o5IA  2012-03-14  sOs2dB9rbO7p-MB2EJ3cvg      4   \n",
       "3503  dBMd0f09nJCHURtmGHQPIQ  2008-12-27  8-kxb-aC1BLteINrTrxrNw      4   \n",
       "\n",
       "                                                   text    type  \\\n",
       "6108  This is what I love about Phoenix, you find th...  review   \n",
       "9514  I would give this one 5 stars if it weren't fo...  review   \n",
       "9183  The food is simple, pure and uncomplicated; yo...  review   \n",
       "8846  I am not as enthusiastic about the Cornish Pas...  review   \n",
       "3503  The name says it all.  This family owned resta...  review   \n",
       "\n",
       "                     user_id  cool  useful  funny  \n",
       "6108  u33Vpx9csHNHhBK764kDzg     0       0      0  \n",
       "9514  dgNeLSvcN_4llzZ-m-9cgA     0       0      0  \n",
       "9183  BrJcbK_lH0irQcNSNBEQHQ     3       3      7  \n",
       "8846  6qL7A04QNfLAj5Tkig34YQ     0       0      0  \n",
       "3503  CJWaJ8MfppMDGCiMXyl0pg     0       1      0  "
      ]
     },
     "execution_count": 1,
     "metadata": {},
     "output_type": "execute_result"
    }
   ],
   "source": [
    "%matplotlib inline\n",
    "import matplotlib.pyplot as plt\n",
    "import pandas as pd\n",
    "import seaborn as sb\n",
    "\n",
    "yelp_data = pd.read_csv(\"yelp.csv\")\n",
    "yelp_data.sample(5)"
   ]
  },
  {
   "cell_type": "markdown",
   "metadata": {},
   "source": [
    "2. Crea un nuevo DataFrame que solo contenga las reseñas de 5 estrellas y 1 estrella."
   ]
  },
  {
   "cell_type": "code",
   "execution_count": 17,
   "metadata": {},
   "outputs": [
    {
     "data": {
      "text/html": [
       "<div>\n",
       "<style>\n",
       "    .dataframe thead tr:only-child th {\n",
       "        text-align: right;\n",
       "    }\n",
       "\n",
       "    .dataframe thead th {\n",
       "        text-align: left;\n",
       "    }\n",
       "\n",
       "    .dataframe tbody tr th {\n",
       "        vertical-align: top;\n",
       "    }\n",
       "</style>\n",
       "<table border=\"1\" class=\"dataframe\">\n",
       "  <thead>\n",
       "    <tr style=\"text-align: right;\">\n",
       "      <th></th>\n",
       "      <th>business_id</th>\n",
       "      <th>date</th>\n",
       "      <th>review_id</th>\n",
       "      <th>stars</th>\n",
       "      <th>text</th>\n",
       "      <th>type</th>\n",
       "      <th>user_id</th>\n",
       "      <th>cool</th>\n",
       "      <th>useful</th>\n",
       "      <th>funny</th>\n",
       "    </tr>\n",
       "  </thead>\n",
       "  <tbody>\n",
       "    <tr>\n",
       "      <th>7204</th>\n",
       "      <td>rDvz5jX65gpfONFu7er9Tw</td>\n",
       "      <td>2012-02-14</td>\n",
       "      <td>CgGO-VEEeUFngo0uf6Z7DQ</td>\n",
       "      <td>5</td>\n",
       "      <td>Simply magnificent. Easily the best Mexican fo...</td>\n",
       "      <td>review</td>\n",
       "      <td>j-aruJbrUGLP4ZwhQfDJHw</td>\n",
       "      <td>0</td>\n",
       "      <td>1</td>\n",
       "      <td>0</td>\n",
       "    </tr>\n",
       "    <tr>\n",
       "      <th>6041</th>\n",
       "      <td>bVhIs14KgRzyR8umVL1CRQ</td>\n",
       "      <td>2011-01-11</td>\n",
       "      <td>hUF9e26pYkEb67A1daj51A</td>\n",
       "      <td>1</td>\n",
       "      <td>So sad to say, I have to change my rating from...</td>\n",
       "      <td>review</td>\n",
       "      <td>6o_ztIbYH6H8hY76pH0L7w</td>\n",
       "      <td>0</td>\n",
       "      <td>1</td>\n",
       "      <td>1</td>\n",
       "    </tr>\n",
       "    <tr>\n",
       "      <th>1299</th>\n",
       "      <td>OdD1GuGNQ64ssJmMJ_D9RQ</td>\n",
       "      <td>2012-06-18</td>\n",
       "      <td>Vv3NJShznZTFJq8-6VKNfw</td>\n",
       "      <td>1</td>\n",
       "      <td>Cool place but don't try to arrange a special ...</td>\n",
       "      <td>review</td>\n",
       "      <td>QpCdrAfqOvHjZ_sdNC4gWQ</td>\n",
       "      <td>0</td>\n",
       "      <td>0</td>\n",
       "      <td>0</td>\n",
       "    </tr>\n",
       "    <tr>\n",
       "      <th>5792</th>\n",
       "      <td>MuIXnv7Oq7X3-4aEsp9dDA</td>\n",
       "      <td>2012-06-27</td>\n",
       "      <td>9cqo_PdWJa-n5xWgCdzOLQ</td>\n",
       "      <td>5</td>\n",
       "      <td>Great experience at Citizen PH...highly recomm...</td>\n",
       "      <td>review</td>\n",
       "      <td>QbAywqwZvG2hP_uTDbyByw</td>\n",
       "      <td>0</td>\n",
       "      <td>1</td>\n",
       "      <td>0</td>\n",
       "    </tr>\n",
       "    <tr>\n",
       "      <th>26</th>\n",
       "      <td>qjmCVYkwP-HDa35jwYucbQ</td>\n",
       "      <td>2013-01-03</td>\n",
       "      <td>kZ4TzrVX6qeF0OvrVTGVEw</td>\n",
       "      <td>5</td>\n",
       "      <td>I love love LOVE this place. My boss (who is i...</td>\n",
       "      <td>review</td>\n",
       "      <td>fpItLlgimq0nRltWOkuJJw</td>\n",
       "      <td>0</td>\n",
       "      <td>0</td>\n",
       "      <td>0</td>\n",
       "    </tr>\n",
       "  </tbody>\n",
       "</table>\n",
       "</div>"
      ],
      "text/plain": [
       "                 business_id        date               review_id  stars  \\\n",
       "7204  rDvz5jX65gpfONFu7er9Tw  2012-02-14  CgGO-VEEeUFngo0uf6Z7DQ      5   \n",
       "6041  bVhIs14KgRzyR8umVL1CRQ  2011-01-11  hUF9e26pYkEb67A1daj51A      1   \n",
       "1299  OdD1GuGNQ64ssJmMJ_D9RQ  2012-06-18  Vv3NJShznZTFJq8-6VKNfw      1   \n",
       "5792  MuIXnv7Oq7X3-4aEsp9dDA  2012-06-27  9cqo_PdWJa-n5xWgCdzOLQ      5   \n",
       "26    qjmCVYkwP-HDa35jwYucbQ  2013-01-03  kZ4TzrVX6qeF0OvrVTGVEw      5   \n",
       "\n",
       "                                                   text    type  \\\n",
       "7204  Simply magnificent. Easily the best Mexican fo...  review   \n",
       "6041  So sad to say, I have to change my rating from...  review   \n",
       "1299  Cool place but don't try to arrange a special ...  review   \n",
       "5792  Great experience at Citizen PH...highly recomm...  review   \n",
       "26    I love love LOVE this place. My boss (who is i...  review   \n",
       "\n",
       "                     user_id  cool  useful  funny  \n",
       "7204  j-aruJbrUGLP4ZwhQfDJHw     0       1      0  \n",
       "6041  6o_ztIbYH6H8hY76pH0L7w     0       1      1  \n",
       "1299  QpCdrAfqOvHjZ_sdNC4gWQ     0       0      0  \n",
       "5792  QbAywqwZvG2hP_uTDbyByw     0       1      0  \n",
       "26    fpItLlgimq0nRltWOkuJJw     0       0      0  "
      ]
     },
     "execution_count": 17,
     "metadata": {},
     "output_type": "execute_result"
    }
   ],
   "source": [
    "yelp_sec = yelp_data.loc[(yelp_data['stars'] == 5) | (yelp_data['stars'] == 1)]\n",
    "yelp_sec.sample(5)"
   ]
  },
  {
   "cell_type": "markdown",
   "metadata": {},
   "source": [
    "3. Divide el nuevo DataFrame en conjuntos de entrenamiento y prueba, usando el texto de revisión como la única característica y la calificación de estrellas como respuesta."
   ]
  },
  {
   "cell_type": "code",
   "execution_count": 72,
   "metadata": {},
   "outputs": [
    {
     "data": {
      "text/html": [
       "<div>\n",
       "<style>\n",
       "    .dataframe thead tr:only-child th {\n",
       "        text-align: right;\n",
       "    }\n",
       "\n",
       "    .dataframe thead th {\n",
       "        text-align: left;\n",
       "    }\n",
       "\n",
       "    .dataframe tbody tr th {\n",
       "        vertical-align: top;\n",
       "    }\n",
       "</style>\n",
       "<table border=\"1\" class=\"dataframe\">\n",
       "  <thead>\n",
       "    <tr style=\"text-align: right;\">\n",
       "      <th></th>\n",
       "      <th>text</th>\n",
       "      <th>stars</th>\n",
       "    </tr>\n",
       "  </thead>\n",
       "  <tbody>\n",
       "    <tr>\n",
       "      <th>3855</th>\n",
       "      <td>Last week, I had my first appointment at Pure ...</td>\n",
       "      <td>5</td>\n",
       "    </tr>\n",
       "    <tr>\n",
       "      <th>4871</th>\n",
       "      <td>Try the Larb, it is on happy hour and it even ...</td>\n",
       "      <td>5</td>\n",
       "    </tr>\n",
       "    <tr>\n",
       "      <th>1729</th>\n",
       "      <td>Best place in Arcadia to get a coffee or a tea...</td>\n",
       "      <td>5</td>\n",
       "    </tr>\n",
       "    <tr>\n",
       "      <th>857</th>\n",
       "      <td>Yes it is bad for you. Yes it is delicious. Gr...</td>\n",
       "      <td>5</td>\n",
       "    </tr>\n",
       "    <tr>\n",
       "      <th>8594</th>\n",
       "      <td>PHENOMENAL place for Chinese cuisine. The port...</td>\n",
       "      <td>5</td>\n",
       "    </tr>\n",
       "  </tbody>\n",
       "</table>\n",
       "</div>"
      ],
      "text/plain": [
       "                                                   text  stars\n",
       "3855  Last week, I had my first appointment at Pure ...      5\n",
       "4871  Try the Larb, it is on happy hour and it even ...      5\n",
       "1729  Best place in Arcadia to get a coffee or a tea...      5\n",
       "857   Yes it is bad for you. Yes it is delicious. Gr...      5\n",
       "8594  PHENOMENAL place for Chinese cuisine. The port...      5"
      ]
     },
     "execution_count": 72,
     "metadata": {},
     "output_type": "execute_result"
    }
   ],
   "source": [
    "from sklearn.model_selection import train_test_split\n",
    "sample = yelp_sec.filter(['text', 'stars'])\n",
    "X = sample['text']\n",
    "y = sample['stars']\n",
    "X_train, X_test, y_train, y_test = train_test_split(X, y, random_state=42)\n",
    "sample.sample(5)"
   ]
  },
  {
   "cell_type": "markdown",
   "metadata": {},
   "source": [
    "4. Usa `CountVectorizer` para crear [matrices de términos de documentos](https://en.wikipedia.org/wiki/Document-term_matrix) de `X_entrenamiento` y `X_prueba`.\n"
   ]
  },
  {
   "cell_type": "code",
   "execution_count": 73,
   "metadata": {},
   "outputs": [],
   "source": [
    "from sklearn.feature_extraction.text import CountVectorizer\n",
    "\n",
    "vectorizer = CountVectorizer()\n",
    "vectorizer = vectorizer.fit(X)\n",
    "\n",
    "X_train = (vectorizer.transform(X_train)).toarray()\n",
    "X_test = (vectorizer.transform(X_test)).toarray()"
   ]
  },
  {
   "cell_type": "markdown",
   "metadata": {},
   "source": [
    "5. Usa Naive Bayes para predecir la calificación de estrellas para las revisiones en el conjunto de prueba y calcula la precisión."
   ]
  },
  {
   "cell_type": "code",
   "execution_count": 75,
   "metadata": {},
   "outputs": [
    {
     "name": "stdout",
     "output_type": "stream",
     "text": [
      "0.906066536204\n"
     ]
    }
   ],
   "source": [
    "from sklearn.naive_bayes import MultinomialNB\n",
    "from sklearn.metrics import accuracy_score\n",
    "\n",
    "naiveBayes = MultinomialNB()\n",
    "naiveBayes.fit(X_train, y_train)\n",
    "\n",
    "print(\n",
    "    accuracy_score(\n",
    "        y_test, \n",
    "        naiveBayes.predict(X_test)\n",
    "    ))"
   ]
  },
  {
   "cell_type": "markdown",
   "metadata": {},
   "source": [
    "6. Calcula el AUC."
   ]
  },
  {
   "cell_type": "code",
   "execution_count": 88,
   "metadata": {},
   "outputs": [
    {
     "name": "stdout",
     "output_type": "stream",
     "text": [
      "0.926665526905\n"
     ]
    }
   ],
   "source": [
    "from sklearn.metrics import roc_auc_score\n",
    "\n",
    "print(\n",
    "    roc_auc_score(y_test//5, naiveBayes.predict_proba(X_test)[:,1])\n",
    ")"
   ]
  },
  {
   "cell_type": "markdown",
   "metadata": {},
   "source": [
    "7. Dibuja la curva ROC."
   ]
  },
  {
   "cell_type": "code",
   "execution_count": 92,
   "metadata": {},
   "outputs": [
    {
     "data": {
      "image/png": "[encoded data removed]",
      "text/plain": [
       "<matplotlib.figure.Figure at 0x7f9796caba90>"
      ]
     },
     "metadata": {},
     "output_type": "display_data"
    }
   ],
   "source": [
    "from sklearn.metrics import roc_curve\n",
    "\n",
    "y_true, y_probas, _ = roc_curve(y_test//5, naiveBayes.predict_proba(X_test)[:, 1])\n",
    "\n",
    "plt.plot(y_true, y_probas)\n",
    "plt.show()"
   ]
  },
  {
   "cell_type": "markdown",
   "metadata": {},
   "source": [
    "8. Imprime la matriz de confusión y calcule la sensibilidad y especificidad. Comenta tus resultados."
   ]
  },
  {
   "cell_type": "code",
   "execution_count": 102,
   "metadata": {},
   "outputs": [
    {
     "name": "stdout",
     "output_type": "stream",
     "text": [
      "confusion matrix:\n",
      " [132, 67] \n",
      " [29, 794] \n",
      "\n",
      "Sensitivity: 0.964763061968\n",
      "Specificity: 0.663316582915\n"
     ]
    }
   ],
   "source": [
    "from sklearn.metrics import confusion_matrix\n",
    "\n",
    "tn, fp, fn, tp = confusion_matrix(y_test, naiveBayes.predict(X_test)).ravel()\n",
    "print(\"confusion matrix:\\n\", [tn, fp], '\\n', [fn, tp], '\\n')\n",
    "\n",
    "print(\"Sensitivity:\", tp/(tp + fn))\n",
    "print(\"Specificity:\", tn/(tn + fp))"
   ]
  },
  {
   "cell_type": "markdown",
   "metadata": {},
   "source": []
  },
  {
   "cell_type": "markdown",
   "metadata": {},
   "source": [
    "9. (Obligatorio) Examina el texto de la revisión para ver algunos de los falsos positivos y falsos negativos. Según tu conocimiento de cómo funciona Naive Bayes, ¿tienes alguna teoría sobre por qué el modelo clasifica incorrectamente estas evaluaciones?."
   ]
  },
  {
   "cell_type": "code",
   "execution_count": 9,
   "metadata": {
    "collapsed": true
   },
   "outputs": [],
   "source": [
    "# Tu solucion"
   ]
  },
  {
   "cell_type": "markdown",
   "metadata": {},
   "source": [
    "10. Imaginemos que deseas equilibrar la sensibilidad y la especificidad. Puedes lograr esto cambiando el umbral para predecir una revisión de 5 estrellas. ¿Qué umbral equilibra aproximadamente la sensibilidad y la especificidad?.\n",
    "\n",
    "Sugerencia: Leer-->[Classification vs. Prediction](http://www.fharrell.com/post/classification/)."
   ]
  },
  {
   "cell_type": "code",
   "execution_count": 10,
   "metadata": {
    "collapsed": true
   },
   "outputs": [],
   "source": [
    "# Tu solucion"
   ]
  },
  {
   "cell_type": "markdown",
   "metadata": {},
   "source": [
    "11. (Obligatorio) Veamos qué tan bien se comporta Naive Bayes cuando se incluyen todas las revisiones, en lugar de solo reseñas de 1 estrella y 5 estrellas:\n",
    "\n",
    "    * Define X e y usando el DataFrame original del paso 1 (debe contener 5 clases diferentes).\n",
    "    * Divide los datos en conjuntos de entrenamiento y prueba.\n",
    "    * Calcula la precisión de prueba de un modelo de Naive Bayes.\n",
    "    * Compara la precisión de la prueba con la precisión nula.\n",
    "    * Muestra la matriz de confusión.\n",
    "    * Comenta los resultados."
   ]
  },
  {
   "cell_type": "code",
   "execution_count": 11,
   "metadata": {
    "collapsed": true
   },
   "outputs": [],
   "source": [
    "# Tu solucion"
   ]
  },
  {
   "cell_type": "markdown",
   "metadata": {},
   "source": [
    "12. (Obligatorio) Lee el siguiente artículo de Paul Graham: [A Plan for Spam](http://www.paulgraham.com/spam.html) y responde las siguientes preguntas:\n",
    "\n",
    "    * ¿Debería un filtro de spam optimizar la sensibilidad o la especificidad, en opinión de Graham?.\n",
    "    * Antes de probar el \"enfoque estadístico\" para el filtrado de spam, ¿cuál era su enfoque?.\n",
    "    * ¿Cuáles son los componentes clave de su sistema de filtrado estadístico? En otras palabras, ¿cómo funciona?.\n",
    "    * ¿Qué menciona Graham sobre los beneficios del enfoque estadístico?.\n",
    "    * ¿Qué tan bueno fue su predicción del \"spam del futuro\"?. "
   ]
  },
  {
   "cell_type": "code",
   "execution_count": 12,
   "metadata": {
    "collapsed": true
   },
   "outputs": [],
   "source": [
    "# Tus respuestas"
   ]
  },
  {
   "cell_type": "code",
   "execution_count": null,
   "metadata": {
    "collapsed": true
   },
   "outputs": [],
   "source": []
  }
 ],
 "metadata": {
  "kernelspec": {
   "display_name": "Python 3",
   "language": "python",
   "name": "python3"
  },
  "language_info": {
   "codemirror_mode": {
    "name": "ipython",
    "version": 3
   },
   "file_extension": ".py",
   "mimetype": "text/x-python",
   "name": "python",
   "nbconvert_exporter": "python",
   "pygments_lexer": "ipython3",
   "version": "3.6.3"
  }
 },
 "nbformat": 4,
 "nbformat_minor": 2
}
