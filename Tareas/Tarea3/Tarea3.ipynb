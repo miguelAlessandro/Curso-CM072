{
 "cells": [
  {
   "cell_type": "markdown",
   "metadata": {},
   "source": [
    "### Tarea 3 del curso CM-072\n",
    "\n",
    "* Nombre y apellidos:\n",
    "* Fecha de presentación: 27 de setiembre\n",
    "\n",
    "Esta tarea utiliza un pequeño subconjunto de los datos de la competencia de Kaggle  [Yelp Business Rating Prediction ](https://www.kaggle.com/c/yelp-recsys-2013).\n",
    "\n",
    "* Descripción de la data\n",
    "    - `yelp.json` es el formato original del archivo y `yelp.csv` contiene los mismos datos, en un formato más conveniente. Ambos archivos están en esta carpeta de la tarea, por lo que no es necesario descargar los datos del sitio web de Kaggle.\n"
   ]
  },
  {
   "cell_type": "markdown",
   "metadata": {},
   "source": [
    "## Preguntas\n",
    "\n",
    "1. Lee yelp.csv en un DataFrame."
   ]
  },
  {
   "cell_type": "code",
   "execution_count": 1,
   "metadata": {},
   "outputs": [],
   "source": [
    "# Tu solución"
   ]
  },
  {
   "cell_type": "markdown",
   "metadata": {},
   "source": [
    "2. Crea un nuevo DataFrame que solo contenga las reseñas de 5 estrellas y 1 estrella."
   ]
  },
  {
   "cell_type": "code",
   "execution_count": 2,
   "metadata": {},
   "outputs": [],
   "source": [
    "# Tu solucion"
   ]
  },
  {
   "cell_type": "markdown",
   "metadata": {},
   "source": [
    "3. Divide el nuevo DataFrame en conjuntos de entrenamiento y prueba, usando el texto de revisión como la única característica y la calificación de estrellas como respuesta."
   ]
  },
  {
   "cell_type": "code",
   "execution_count": 3,
   "metadata": {},
   "outputs": [],
   "source": [
    "# Tu solucion"
   ]
  },
  {
   "cell_type": "markdown",
   "metadata": {},
   "source": [
    "4. Usa `CountVectorizer` para crear [matrices de términos de documentos](https://en.wikipedia.org/wiki/Document-term_matrix) de `X_entrenamiento` y `X_prueba`.\n"
   ]
  },
  {
   "cell_type": "code",
   "execution_count": 4,
   "metadata": {},
   "outputs": [],
   "source": [
    "# Tu solucion"
   ]
  },
  {
   "cell_type": "markdown",
   "metadata": {},
   "source": [
    "5. Usa Naive Bayes para predecir la calificación de estrellas para las revisiones en el conjunto de prueba y calcula la precisión."
   ]
  },
  {
   "cell_type": "code",
   "execution_count": 5,
   "metadata": {},
   "outputs": [],
   "source": [
    "# Tu solucion"
   ]
  },
  {
   "cell_type": "markdown",
   "metadata": {},
   "source": [
    "6. Calcula el AUC."
   ]
  },
  {
   "cell_type": "code",
   "execution_count": 6,
   "metadata": {},
   "outputs": [],
   "source": [
    "# Tu solucion"
   ]
  },
  {
   "cell_type": "markdown",
   "metadata": {},
   "source": [
    "7. Dibuja la curva ROC."
   ]
  },
  {
   "cell_type": "code",
   "execution_count": 7,
   "metadata": {},
   "outputs": [],
   "source": [
    "# Tu solucion"
   ]
  },
  {
   "cell_type": "markdown",
   "metadata": {},
   "source": [
    "8. Imprime la matriz de confusión y calcule la sensibilidad y especificidad. Comenta tus resultados."
   ]
  },
  {
   "cell_type": "code",
   "execution_count": 8,
   "metadata": {},
   "outputs": [],
   "source": [
    "# Tu solucion"
   ]
  },
  {
   "cell_type": "markdown",
   "metadata": {},
   "source": [
    "9. (Obligatorio) Examina el texto de la revisión para ver algunos de los falsos positivos y falsos negativos. Según tu conocimiento de cómo funciona Naive Bayes, ¿tienes alguna teoría sobre por qué el modelo clasifica incorrectamente estas evaluaciones?."
   ]
  },
  {
   "cell_type": "code",
   "execution_count": 9,
   "metadata": {},
   "outputs": [],
   "source": [
    "# Tu solucion"
   ]
  },
  {
   "cell_type": "markdown",
   "metadata": {},
   "source": [
    "10. Imaginemos que deseas equilibrar la sensibilidad y la especificidad. Puedes lograr esto cambiando el umbral para predecir una revisión de 5 estrellas. ¿Qué umbral equilibra aproximadamente la sensibilidad y la especificidad?.\n",
    "\n",
    "Sugerencia: Leer-->[Classification vs. Prediction](http://www.fharrell.com/post/classification/)."
   ]
  },
  {
   "cell_type": "code",
   "execution_count": 10,
   "metadata": {},
   "outputs": [],
   "source": [
    "# Tu solucion"
   ]
  },
  {
   "cell_type": "markdown",
   "metadata": {},
   "source": [
    "11. (Obligatorio) Veamos qué tan bien se comporta Naive Bayes cuando se incluyen todas las revisiones, en lugar de solo reseñas de 1 estrella y 5 estrellas:\n",
    "\n",
    "    * Define X e y usando el DataFrame original del paso 1 (debe contener 5 clases diferentes).\n",
    "    * Divide los datos en conjuntos de entrenamiento y prueba.\n",
    "    * Calcula la precisión de prueba de un modelo de Naive Bayes.\n",
    "    * Compara la precisión de la prueba con la precisión nula.\n",
    "    * Muestra la matriz de confusión.\n",
    "    * Comenta los resultados."
   ]
  },
  {
   "cell_type": "code",
   "execution_count": 11,
   "metadata": {},
   "outputs": [],
   "source": [
    "# Tu solucion"
   ]
  },
  {
   "cell_type": "markdown",
   "metadata": {},
   "source": [
    "12. (Obligatorio) Lee el siguiente artículo de Paul Graham: [A Plan for Spam](http://www.paulgraham.com/spam.html) y responde las siguientes preguntas:\n",
    "\n",
    "    * ¿Debería un filtro de spam optimizar la sensibilidad o la especificidad, en opinión de Graham?.\n",
    "    * Antes de probar el \"enfoque estadístico\" para el filtrado de spam, ¿cuál era su enfoque?.\n",
    "    * ¿Cuáles son los componentes clave de su sistema de filtrado estadístico? En otras palabras, ¿cómo funciona?.\n",
    "    * ¿Qué menciona Graham sobre los beneficios del enfoque estadístico?.\n",
    "    * ¿Qué tan bueno fue su predicción del \"spam del futuro\"?. "
   ]
  },
  {
   "cell_type": "code",
   "execution_count": 12,
   "metadata": {},
   "outputs": [],
   "source": [
    "# Tus respuestas"
   ]
  },
  {
   "cell_type": "code",
   "execution_count": null,
   "metadata": {},
   "outputs": [],
   "source": []
  }
 ],
 "metadata": {
  "kernelspec": {
   "display_name": "Python 3",
   "language": "python",
   "name": "python3"
  },
  "language_info": {
   "codemirror_mode": {
    "name": "ipython",
    "version": 3
   },
   "file_extension": ".py",
   "mimetype": "text/x-python",
   "name": "python",
   "nbconvert_exporter": "python",
   "pygments_lexer": "ipython3",
   "version": "3.6.5"
  }
 },
 "nbformat": 4,
 "nbformat_minor": 2
}
