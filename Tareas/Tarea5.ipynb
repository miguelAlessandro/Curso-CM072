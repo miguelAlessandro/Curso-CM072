{
 "cells": [
  {
   "cell_type": "markdown",
   "metadata": {},
   "source": [
    "## Tarea 5 del curso CM-072\n",
    "\n",
    "* Nombre y apellidos:\n",
    "* Fecha de presentación: 9 de octubre."
   ]
  },
  {
   "cell_type": "markdown",
   "metadata": {},
   "source": [
    "## Lista de preguntas:"
   ]
  },
  {
   "cell_type": "markdown",
   "metadata": {},
   "source": [
    "1. Presentar un reporte del capítulo  Resampling Methods del libro [An Introduction to Statistical Learning](http://www-bcf.usc.edu/%7Egareth/ISL/index.html) de  Gareth James, Daniela Witten, Trevor Hastie y Robert Tibshirani. Páginas: 175-186. "
   ]
  },
  {
   "cell_type": "code",
   "execution_count": 1,
   "metadata": {},
   "outputs": [],
   "source": [
    "# Tu respuesta"
   ]
  },
  {
   "cell_type": "markdown",
   "metadata": {},
   "source": [
    "2. Sea el siguiente código acerca de validación cruzada y búsqueda grid. Usa GridSearchCV para ajustar n_neighbors of KNeighborsClassifier."
   ]
  },
  {
   "cell_type": "code",
   "execution_count": 2,
   "metadata": {},
   "outputs": [],
   "source": [
    "%matplotlib inline\n",
    "import matplotlib.pyplot as plt\n",
    "plt.rcParams[\"figure.dpi\"] = 200\n",
    "import numpy as np"
   ]
  },
  {
   "cell_type": "code",
   "execution_count": 3,
   "metadata": {},
   "outputs": [],
   "source": [
    "from sklearn.datasets import load_digits\n",
    "from sklearn.model_selection import train_test_split\n",
    "digitos = load_digits()\n",
    "X_entrenamiento, X_prueba, y_entrenamiento, y_prueba = train_test_split( digitos.data, digitos.target)"
   ]
  },
  {
   "cell_type": "code",
   "execution_count": 4,
   "metadata": {},
   "outputs": [],
   "source": [
    "from sklearn.model_selection import cross_val_score\n",
    "from sklearn.neighbors import KNeighborsClassifier"
   ]
  },
  {
   "cell_type": "code",
   "execution_count": 5,
   "metadata": {},
   "outputs": [
    {
     "data": {
      "text/plain": [
       "array([0.97069597, 0.97426471, 0.99256506, 0.98134328, 0.98490566])"
      ]
     },
     "execution_count": 5,
     "metadata": {},
     "output_type": "execute_result"
    }
   ],
   "source": [
    "cross_val_score(KNeighborsClassifier(), X_entrenamiento, y_entrenamiento, cv=5)"
   ]
  },
  {
   "cell_type": "code",
   "execution_count": 6,
   "metadata": {},
   "outputs": [],
   "source": [
    "from sklearn.model_selection import KFold, StratifiedKFold"
   ]
  },
  {
   "cell_type": "code",
   "execution_count": 7,
   "metadata": {},
   "outputs": [
    {
     "data": {
      "text/plain": [
       "array([0.99259259, 0.99259259, 0.97777778, 0.97777778, 0.98518519,\n",
       "       0.98518519, 0.97777778, 0.97761194, 0.98507463, 0.98507463])"
      ]
     },
     "execution_count": 7,
     "metadata": {},
     "output_type": "execute_result"
    }
   ],
   "source": [
    "cross_val_score(KNeighborsClassifier(),\n",
    "                X_entrenamiento, y_entrenamiento, cv=KFold(n_splits=10, shuffle=True, random_state=42))"
   ]
  },
  {
   "cell_type": "markdown",
   "metadata": {},
   "source": [
    "Búsqueda grid con validación cruzada incorporada."
   ]
  },
  {
   "cell_type": "code",
   "execution_count": 8,
   "metadata": {},
   "outputs": [],
   "source": [
    "from sklearn.model_selection import GridSearchCV\n",
    "from sklearn.svm import SVC"
   ]
  },
  {
   "cell_type": "markdown",
   "metadata": {},
   "source": [
    "Definimos los parametros grid:"
   ]
  },
  {
   "cell_type": "code",
   "execution_count": 9,
   "metadata": {},
   "outputs": [
    {
     "name": "stdout",
     "output_type": "stream",
     "text": [
      "{'C': array([  0.001,   0.01 ,   0.1  ,   1.   ,  10.   , 100.   ]), 'gamma': array([0.00001, 0.0001 , 0.001  , 0.01   , 0.1    ])}\n"
     ]
    }
   ],
   "source": [
    "parametros_grid = {'C': 10. ** np.arange(-3, 3),'gamma' : 10. ** np.arange(-5, 0)}\n",
    "np.set_printoptions(suppress=True)\n",
    "print(parametros_grid)"
   ]
  },
  {
   "cell_type": "code",
   "execution_count": 10,
   "metadata": {},
   "outputs": [],
   "source": [
    "busqueda_grid= GridSearchCV(SVC(), parametros_grid, verbose=3, cv=5)"
   ]
  },
  {
   "cell_type": "markdown",
   "metadata": {},
   "source": [
    "Un objeto GridSearchCV se comporta como un clasificador normal."
   ]
  },
  {
   "cell_type": "code",
   "execution_count": 11,
   "metadata": {},
   "outputs": [
    {
     "name": "stdout",
     "output_type": "stream",
     "text": [
      "Fitting 5 folds for each of 30 candidates, totalling 150 fits\n",
      "[CV] C=0.001, gamma=1e-05 ............................................\n",
      "[CV] .. C=0.001, gamma=1e-05, score=0.10989010989010989, total=   0.2s\n",
      "[CV] C=0.001, gamma=1e-05 ............................................\n"
     ]
    },
    {
     "name": "stderr",
     "output_type": "stream",
     "text": [
      "[Parallel(n_jobs=1)]: Done   1 out of   1 | elapsed:    0.4s remaining:    0.0s\n"
     ]
    },
    {
     "name": "stdout",
     "output_type": "stream",
     "text": [
      "[CV] .. C=0.001, gamma=1e-05, score=0.11029411764705882, total=   0.2s\n",
      "[CV] C=0.001, gamma=1e-05 ............................................\n"
     ]
    },
    {
     "name": "stderr",
     "output_type": "stream",
     "text": [
      "[Parallel(n_jobs=1)]: Done   2 out of   2 | elapsed:    0.7s remaining:    0.0s\n"
     ]
    },
    {
     "name": "stdout",
     "output_type": "stream",
     "text": [
      "[CV] .. C=0.001, gamma=1e-05, score=0.11152416356877323, total=   0.2s\n",
      "[CV] C=0.001, gamma=1e-05 ............................................\n",
      "[CV] .. C=0.001, gamma=1e-05, score=0.10820895522388059, total=   0.2s\n",
      "[CV] C=0.001, gamma=1e-05 ............................................\n",
      "[CV] .. C=0.001, gamma=1e-05, score=0.10943396226415095, total=   0.2s\n",
      "[CV] C=0.001, gamma=0.0001 ...........................................\n",
      "[CV] . C=0.001, gamma=0.0001, score=0.10989010989010989, total=   0.2s\n",
      "[CV] C=0.001, gamma=0.0001 ...........................................\n",
      "[CV] . C=0.001, gamma=0.0001, score=0.11029411764705882, total=   0.2s\n",
      "[CV] C=0.001, gamma=0.0001 ...........................................\n",
      "[CV] . C=0.001, gamma=0.0001, score=0.11152416356877323, total=   0.2s\n",
      "[CV] C=0.001, gamma=0.0001 ...........................................\n",
      "[CV] . C=0.001, gamma=0.0001, score=0.10820895522388059, total=   0.2s\n",
      "[CV] C=0.001, gamma=0.0001 ...........................................\n",
      "[CV] . C=0.001, gamma=0.0001, score=0.10943396226415095, total=   0.2s\n",
      "[CV] C=0.001, gamma=0.001 ............................................\n",
      "[CV] .. C=0.001, gamma=0.001, score=0.10989010989010989, total=   0.2s\n",
      "[CV] C=0.001, gamma=0.001 ............................................\n",
      "[CV] .. C=0.001, gamma=0.001, score=0.11029411764705882, total=   0.2s\n",
      "[CV] C=0.001, gamma=0.001 ............................................\n",
      "[CV] .. C=0.001, gamma=0.001, score=0.11152416356877323, total=   0.2s\n",
      "[CV] C=0.001, gamma=0.001 ............................................\n",
      "[CV] .. C=0.001, gamma=0.001, score=0.10820895522388059, total=   0.2s\n",
      "[CV] C=0.001, gamma=0.001 ............................................\n",
      "[CV] .. C=0.001, gamma=0.001, score=0.10943396226415095, total=   0.2s\n",
      "[CV] C=0.001, gamma=0.01 .............................................\n",
      "[CV] ... C=0.001, gamma=0.01, score=0.10989010989010989, total=   0.2s\n",
      "[CV] C=0.001, gamma=0.01 .............................................\n",
      "[CV] ... C=0.001, gamma=0.01, score=0.11029411764705882, total=   0.2s\n",
      "[CV] C=0.001, gamma=0.01 .............................................\n",
      "[CV] ... C=0.001, gamma=0.01, score=0.11152416356877323, total=   0.2s\n",
      "[CV] C=0.001, gamma=0.01 .............................................\n",
      "[CV] ... C=0.001, gamma=0.01, score=0.10820895522388059, total=   0.2s\n",
      "[CV] C=0.001, gamma=0.01 .............................................\n",
      "[CV] ... C=0.001, gamma=0.01, score=0.10943396226415095, total=   0.2s\n",
      "[CV] C=0.001, gamma=0.1 ..............................................\n",
      "[CV] .... C=0.001, gamma=0.1, score=0.10989010989010989, total=   0.2s\n",
      "[CV] C=0.001, gamma=0.1 ..............................................\n",
      "[CV] .... C=0.001, gamma=0.1, score=0.11029411764705882, total=   0.2s\n",
      "[CV] C=0.001, gamma=0.1 ..............................................\n",
      "[CV] .... C=0.001, gamma=0.1, score=0.11152416356877323, total=   0.2s\n",
      "[CV] C=0.001, gamma=0.1 ..............................................\n",
      "[CV] .... C=0.001, gamma=0.1, score=0.10820895522388059, total=   0.2s\n",
      "[CV] C=0.001, gamma=0.1 ..............................................\n",
      "[CV] .... C=0.001, gamma=0.1, score=0.10943396226415095, total=   0.2s\n",
      "[CV] C=0.01, gamma=1e-05 .............................................\n",
      "[CV] ... C=0.01, gamma=1e-05, score=0.10989010989010989, total=   0.2s\n",
      "[CV] C=0.01, gamma=1e-05 .............................................\n",
      "[CV] ... C=0.01, gamma=1e-05, score=0.11029411764705882, total=   0.2s\n",
      "[CV] C=0.01, gamma=1e-05 .............................................\n",
      "[CV] ... C=0.01, gamma=1e-05, score=0.11152416356877323, total=   0.2s\n",
      "[CV] C=0.01, gamma=1e-05 .............................................\n",
      "[CV] ... C=0.01, gamma=1e-05, score=0.10820895522388059, total=   0.2s\n",
      "[CV] C=0.01, gamma=1e-05 .............................................\n",
      "[CV] ... C=0.01, gamma=1e-05, score=0.10943396226415095, total=   0.2s\n",
      "[CV] C=0.01, gamma=0.0001 ............................................\n",
      "[CV] .. C=0.01, gamma=0.0001, score=0.10989010989010989, total=   0.2s\n",
      "[CV] C=0.01, gamma=0.0001 ............................................\n",
      "[CV] .. C=0.01, gamma=0.0001, score=0.11029411764705882, total=   0.2s\n",
      "[CV] C=0.01, gamma=0.0001 ............................................\n",
      "[CV] .. C=0.01, gamma=0.0001, score=0.11152416356877323, total=   0.2s\n",
      "[CV] C=0.01, gamma=0.0001 ............................................\n",
      "[CV] .. C=0.01, gamma=0.0001, score=0.10820895522388059, total=   0.2s\n",
      "[CV] C=0.01, gamma=0.0001 ............................................\n",
      "[CV] .. C=0.01, gamma=0.0001, score=0.10943396226415095, total=   0.2s\n",
      "[CV] C=0.01, gamma=0.001 .............................................\n",
      "[CV] ... C=0.01, gamma=0.001, score=0.10989010989010989, total=   0.2s\n",
      "[CV] C=0.01, gamma=0.001 .............................................\n",
      "[CV] ... C=0.01, gamma=0.001, score=0.11029411764705882, total=   0.2s\n",
      "[CV] C=0.01, gamma=0.001 .............................................\n",
      "[CV] ... C=0.01, gamma=0.001, score=0.11152416356877323, total=   0.2s\n",
      "[CV] C=0.01, gamma=0.001 .............................................\n",
      "[CV] ... C=0.01, gamma=0.001, score=0.10820895522388059, total=   0.2s\n",
      "[CV] C=0.01, gamma=0.001 .............................................\n",
      "[CV] ... C=0.01, gamma=0.001, score=0.10943396226415095, total=   0.2s\n",
      "[CV] C=0.01, gamma=0.01 ..............................................\n",
      "[CV] .... C=0.01, gamma=0.01, score=0.10989010989010989, total=   0.2s\n",
      "[CV] C=0.01, gamma=0.01 ..............................................\n",
      "[CV] .... C=0.01, gamma=0.01, score=0.11029411764705882, total=   0.2s\n",
      "[CV] C=0.01, gamma=0.01 ..............................................\n",
      "[CV] .... C=0.01, gamma=0.01, score=0.11152416356877323, total=   0.2s\n",
      "[CV] C=0.01, gamma=0.01 ..............................................\n",
      "[CV] .... C=0.01, gamma=0.01, score=0.10820895522388059, total=   0.2s\n",
      "[CV] C=0.01, gamma=0.01 ..............................................\n",
      "[CV] .... C=0.01, gamma=0.01, score=0.10943396226415095, total=   0.2s\n",
      "[CV] C=0.01, gamma=0.1 ...............................................\n",
      "[CV] ..... C=0.01, gamma=0.1, score=0.10989010989010989, total=   0.2s\n",
      "[CV] C=0.01, gamma=0.1 ...............................................\n",
      "[CV] ..... C=0.01, gamma=0.1, score=0.11029411764705882, total=   0.2s\n",
      "[CV] C=0.01, gamma=0.1 ...............................................\n",
      "[CV] ..... C=0.01, gamma=0.1, score=0.11152416356877323, total=   0.2s\n",
      "[CV] C=0.01, gamma=0.1 ...............................................\n",
      "[CV] ..... C=0.01, gamma=0.1, score=0.10820895522388059, total=   0.2s\n",
      "[CV] C=0.01, gamma=0.1 ...............................................\n",
      "[CV] ..... C=0.01, gamma=0.1, score=0.10943396226415095, total=   0.2s\n",
      "[CV] C=0.1, gamma=1e-05 ..............................................\n",
      "[CV] .... C=0.1, gamma=1e-05, score=0.10989010989010989, total=   0.2s\n",
      "[CV] C=0.1, gamma=1e-05 ..............................................\n",
      "[CV] .... C=0.1, gamma=1e-05, score=0.11029411764705882, total=   0.2s\n",
      "[CV] C=0.1, gamma=1e-05 ..............................................\n",
      "[CV] .... C=0.1, gamma=1e-05, score=0.11152416356877323, total=   0.2s\n",
      "[CV] C=0.1, gamma=1e-05 ..............................................\n",
      "[CV] .... C=0.1, gamma=1e-05, score=0.10820895522388059, total=   0.2s\n",
      "[CV] C=0.1, gamma=1e-05 ..............................................\n",
      "[CV] .... C=0.1, gamma=1e-05, score=0.10943396226415095, total=   0.2s\n",
      "[CV] C=0.1, gamma=0.0001 .............................................\n",
      "[CV] .... C=0.1, gamma=0.0001, score=0.8351648351648352, total=   0.2s\n",
      "[CV] C=0.1, gamma=0.0001 .............................................\n",
      "[CV] .... C=0.1, gamma=0.0001, score=0.8897058823529411, total=   0.2s\n",
      "[CV] C=0.1, gamma=0.0001 .............................................\n",
      "[CV] .... C=0.1, gamma=0.0001, score=0.8698884758364313, total=   0.2s\n",
      "[CV] C=0.1, gamma=0.0001 .............................................\n",
      "[CV] ..... C=0.1, gamma=0.0001, score=0.832089552238806, total=   0.2s\n",
      "[CV] C=0.1, gamma=0.0001 .............................................\n",
      "[CV] .... C=0.1, gamma=0.0001, score=0.8943396226415095, total=   0.2s\n",
      "[CV] C=0.1, gamma=0.001 ..............................................\n"
     ]
    },
    {
     "name": "stdout",
     "output_type": "stream",
     "text": [
      "[CV] ..... C=0.1, gamma=0.001, score=0.9560439560439561, total=   0.1s\n",
      "[CV] C=0.1, gamma=0.001 ..............................................\n",
      "[CV] ..... C=0.1, gamma=0.001, score=0.9448529411764706, total=   0.1s\n",
      "[CV] C=0.1, gamma=0.001 ..............................................\n",
      "[CV] ..... C=0.1, gamma=0.001, score=0.9553903345724907, total=   0.1s\n",
      "[CV] C=0.1, gamma=0.001 ..............................................\n",
      "[CV] ..... C=0.1, gamma=0.001, score=0.9440298507462687, total=   0.1s\n",
      "[CV] C=0.1, gamma=0.001 ..............................................\n",
      "[CV] ..... C=0.1, gamma=0.001, score=0.9660377358490566, total=   0.1s\n",
      "[CV] C=0.1, gamma=0.01 ...............................................\n",
      "[CV] ..... C=0.1, gamma=0.01, score=0.10989010989010989, total=   0.2s\n",
      "[CV] C=0.1, gamma=0.01 ...............................................\n",
      "[CV] ..... C=0.1, gamma=0.01, score=0.11029411764705882, total=   0.2s\n",
      "[CV] C=0.1, gamma=0.01 ...............................................\n",
      "[CV] ..... C=0.1, gamma=0.01, score=0.11152416356877323, total=   0.2s\n",
      "[CV] C=0.1, gamma=0.01 ...............................................\n",
      "[CV] ..... C=0.1, gamma=0.01, score=0.10820895522388059, total=   0.2s\n",
      "[CV] C=0.1, gamma=0.01 ...............................................\n",
      "[CV] ..... C=0.1, gamma=0.01, score=0.10943396226415095, total=   0.2s\n",
      "[CV] C=0.1, gamma=0.1 ................................................\n",
      "[CV] ...... C=0.1, gamma=0.1, score=0.10989010989010989, total=   0.2s\n",
      "[CV] C=0.1, gamma=0.1 ................................................\n",
      "[CV] ...... C=0.1, gamma=0.1, score=0.11029411764705882, total=   0.2s\n",
      "[CV] C=0.1, gamma=0.1 ................................................\n",
      "[CV] ...... C=0.1, gamma=0.1, score=0.11152416356877323, total=   0.2s\n",
      "[CV] C=0.1, gamma=0.1 ................................................\n",
      "[CV] ...... C=0.1, gamma=0.1, score=0.10820895522388059, total=   0.2s\n",
      "[CV] C=0.1, gamma=0.1 ................................................\n",
      "[CV] ...... C=0.1, gamma=0.1, score=0.10943396226415095, total=   0.2s\n",
      "[CV] C=1.0, gamma=1e-05 ..............................................\n",
      "[CV] ..... C=1.0, gamma=1e-05, score=0.8571428571428571, total=   0.2s\n",
      "[CV] C=1.0, gamma=1e-05 ..............................................\n",
      "[CV] ..... C=1.0, gamma=1e-05, score=0.9044117647058824, total=   0.2s\n",
      "[CV] C=1.0, gamma=1e-05 ..............................................\n",
      "[CV] ..... C=1.0, gamma=1e-05, score=0.8884758364312267, total=   0.2s\n",
      "[CV] C=1.0, gamma=1e-05 ..............................................\n",
      "[CV] ..... C=1.0, gamma=1e-05, score=0.8805970149253731, total=   0.2s\n",
      "[CV] C=1.0, gamma=1e-05 ..............................................\n",
      "[CV] ..... C=1.0, gamma=1e-05, score=0.9283018867924528, total=   0.2s\n",
      "[CV] C=1.0, gamma=0.0001 .............................................\n",
      "[CV] .... C=1.0, gamma=0.0001, score=0.9487179487179487, total=   0.1s\n",
      "[CV] C=1.0, gamma=0.0001 .............................................\n",
      "[CV] .... C=1.0, gamma=0.0001, score=0.9522058823529411, total=   0.1s\n",
      "[CV] C=1.0, gamma=0.0001 .............................................\n",
      "[CV] .... C=1.0, gamma=0.0001, score=0.9776951672862454, total=   0.1s\n",
      "[CV] C=1.0, gamma=0.0001 .............................................\n",
      "[CV] .... C=1.0, gamma=0.0001, score=0.9664179104477612, total=   0.1s\n",
      "[CV] C=1.0, gamma=0.0001 .............................................\n",
      "[CV] ..... C=1.0, gamma=0.0001, score=0.969811320754717, total=   0.1s\n",
      "[CV] C=1.0, gamma=0.001 ..............................................\n",
      "[CV] ..... C=1.0, gamma=0.001, score=0.9743589743589743, total=   0.1s\n",
      "[CV] C=1.0, gamma=0.001 ..............................................\n",
      "[CV] ..... C=1.0, gamma=0.001, score=0.9852941176470589, total=   0.1s\n",
      "[CV] C=1.0, gamma=0.001 ..............................................\n",
      "[CV] ..... C=1.0, gamma=0.001, score=0.9962825278810409, total=   0.1s\n",
      "[CV] C=1.0, gamma=0.001 ..............................................\n",
      "[CV] ...... C=1.0, gamma=0.001, score=0.996268656716418, total=   0.1s\n",
      "[CV] C=1.0, gamma=0.001 ..............................................\n",
      "[CV] ..... C=1.0, gamma=0.001, score=0.9849056603773585, total=   0.1s\n",
      "[CV] C=1.0, gamma=0.01 ...............................................\n",
      "[CV] ...... C=1.0, gamma=0.01, score=0.7985347985347986, total=   0.2s\n",
      "[CV] C=1.0, gamma=0.01 ...............................................\n",
      "[CV] ...... C=1.0, gamma=0.01, score=0.7647058823529411, total=   0.2s\n",
      "[CV] C=1.0, gamma=0.01 ...............................................\n",
      "[CV] ...... C=1.0, gamma=0.01, score=0.8364312267657993, total=   0.2s\n",
      "[CV] C=1.0, gamma=0.01 ...............................................\n",
      "[CV] ...... C=1.0, gamma=0.01, score=0.8059701492537313, total=   0.2s\n",
      "[CV] C=1.0, gamma=0.01 ...............................................\n",
      "[CV] ...... C=1.0, gamma=0.01, score=0.7169811320754716, total=   0.2s\n",
      "[CV] C=1.0, gamma=0.1 ................................................\n",
      "[CV] ...... C=1.0, gamma=0.1, score=0.10989010989010989, total=   0.2s\n",
      "[CV] C=1.0, gamma=0.1 ................................................\n",
      "[CV] ...... C=1.0, gamma=0.1, score=0.11029411764705882, total=   0.2s\n",
      "[CV] C=1.0, gamma=0.1 ................................................\n",
      "[CV] ...... C=1.0, gamma=0.1, score=0.11152416356877323, total=   0.2s\n",
      "[CV] C=1.0, gamma=0.1 ................................................\n",
      "[CV] ...... C=1.0, gamma=0.1, score=0.10820895522388059, total=   0.2s\n",
      "[CV] C=1.0, gamma=0.1 ................................................\n",
      "[CV] ...... C=1.0, gamma=0.1, score=0.10943396226415095, total=   0.2s\n",
      "[CV] C=10.0, gamma=1e-05 .............................................\n",
      "[CV] .... C=10.0, gamma=1e-05, score=0.9377289377289377, total=   0.1s\n",
      "[CV] C=10.0, gamma=1e-05 .............................................\n",
      "[CV] .... C=10.0, gamma=1e-05, score=0.9485294117647058, total=   0.1s\n",
      "[CV] C=10.0, gamma=1e-05 .............................................\n",
      "[CV] .... C=10.0, gamma=1e-05, score=0.9739776951672863, total=   0.1s\n",
      "[CV] C=10.0, gamma=1e-05 .............................................\n",
      "[CV] .... C=10.0, gamma=1e-05, score=0.9664179104477612, total=   0.1s\n",
      "[CV] C=10.0, gamma=1e-05 .............................................\n",
      "[CV] .... C=10.0, gamma=1e-05, score=0.9660377358490566, total=   0.1s\n",
      "[CV] C=10.0, gamma=0.0001 ............................................\n",
      "[CV] ... C=10.0, gamma=0.0001, score=0.9706959706959707, total=   0.0s\n",
      "[CV] C=10.0, gamma=0.0001 ............................................\n",
      "[CV] ... C=10.0, gamma=0.0001, score=0.9742647058823529, total=   0.0s\n",
      "[CV] C=10.0, gamma=0.0001 ............................................\n",
      "[CV] ... C=10.0, gamma=0.0001, score=0.9962825278810409, total=   0.0s\n",
      "[CV] C=10.0, gamma=0.0001 ............................................\n",
      "[CV] ... C=10.0, gamma=0.0001, score=0.9925373134328358, total=   0.0s\n",
      "[CV] C=10.0, gamma=0.0001 ............................................\n",
      "[CV] ... C=10.0, gamma=0.0001, score=0.9811320754716981, total=   0.0s\n",
      "[CV] C=10.0, gamma=0.001 .............................................\n",
      "[CV] .... C=10.0, gamma=0.001, score=0.9853479853479854, total=   0.1s\n",
      "[CV] C=10.0, gamma=0.001 .............................................\n",
      "[CV] .... C=10.0, gamma=0.001, score=0.9852941176470589, total=   0.1s\n",
      "[CV] C=10.0, gamma=0.001 .............................................\n",
      "[CV] ................... C=10.0, gamma=0.001, score=1.0, total=   0.1s\n",
      "[CV] C=10.0, gamma=0.001 .............................................\n",
      "[CV] ..... C=10.0, gamma=0.001, score=0.996268656716418, total=   0.1s\n",
      "[CV] C=10.0, gamma=0.001 .............................................\n",
      "[CV] .... C=10.0, gamma=0.001, score=0.9849056603773585, total=   0.1s\n",
      "[CV] C=10.0, gamma=0.01 ..............................................\n",
      "[CV] ..... C=10.0, gamma=0.01, score=0.8058608058608059, total=   0.2s\n",
      "[CV] C=10.0, gamma=0.01 ..............................................\n",
      "[CV] ..... C=10.0, gamma=0.01, score=0.7794117647058824, total=   0.2s\n",
      "[CV] C=10.0, gamma=0.01 ..............................................\n",
      "[CV] ..... C=10.0, gamma=0.01, score=0.8475836431226765, total=   0.2s\n",
      "[CV] C=10.0, gamma=0.01 ..............................................\n"
     ]
    },
    {
     "name": "stdout",
     "output_type": "stream",
     "text": [
      "[CV] ..... C=10.0, gamma=0.01, score=0.8171641791044776, total=   0.2s\n",
      "[CV] C=10.0, gamma=0.01 ..............................................\n",
      "[CV] ..... C=10.0, gamma=0.01, score=0.7283018867924528, total=   0.2s\n",
      "[CV] C=10.0, gamma=0.1 ...............................................\n",
      "[CV] ..... C=10.0, gamma=0.1, score=0.10989010989010989, total=   0.2s\n",
      "[CV] C=10.0, gamma=0.1 ...............................................\n",
      "[CV] ..... C=10.0, gamma=0.1, score=0.11029411764705882, total=   0.2s\n",
      "[CV] C=10.0, gamma=0.1 ...............................................\n",
      "[CV] ..... C=10.0, gamma=0.1, score=0.11152416356877323, total=   0.2s\n",
      "[CV] C=10.0, gamma=0.1 ...............................................\n",
      "[CV] ..... C=10.0, gamma=0.1, score=0.10820895522388059, total=   0.2s\n",
      "[CV] C=10.0, gamma=0.1 ...............................................\n",
      "[CV] ..... C=10.0, gamma=0.1, score=0.10943396226415095, total=   0.2s\n",
      "[CV] C=100.0, gamma=1e-05 ............................................\n",
      "[CV] .... C=100.0, gamma=1e-05, score=0.967032967032967, total=   0.0s\n",
      "[CV] C=100.0, gamma=1e-05 ............................................\n",
      "[CV] ... C=100.0, gamma=1e-05, score=0.9669117647058824, total=   0.0s\n",
      "[CV] C=100.0, gamma=1e-05 ............................................\n",
      "[CV] ... C=100.0, gamma=1e-05, score=0.9962825278810409, total=   0.0s\n",
      "[CV] C=100.0, gamma=1e-05 ............................................\n",
      "[CV] ... C=100.0, gamma=1e-05, score=0.9888059701492538, total=   0.0s\n",
      "[CV] C=100.0, gamma=1e-05 ............................................\n",
      "[CV] ... C=100.0, gamma=1e-05, score=0.9773584905660377, total=   0.0s\n",
      "[CV] C=100.0, gamma=0.0001 ...........................................\n",
      "[CV] .. C=100.0, gamma=0.0001, score=0.9706959706959707, total=   0.0s\n",
      "[CV] C=100.0, gamma=0.0001 ...........................................\n",
      "[CV] .. C=100.0, gamma=0.0001, score=0.9779411764705882, total=   0.0s\n",
      "[CV] C=100.0, gamma=0.0001 ...........................................\n",
      "[CV] .. C=100.0, gamma=0.0001, score=0.9925650557620818, total=   0.0s\n",
      "[CV] C=100.0, gamma=0.0001 ...........................................\n",
      "[CV] .. C=100.0, gamma=0.0001, score=0.9888059701492538, total=   0.0s\n",
      "[CV] C=100.0, gamma=0.0001 ...........................................\n",
      "[CV] .. C=100.0, gamma=0.0001, score=0.9849056603773585, total=   0.0s\n",
      "[CV] C=100.0, gamma=0.001 ............................................\n",
      "[CV] ... C=100.0, gamma=0.001, score=0.9853479853479854, total=   0.1s\n",
      "[CV] C=100.0, gamma=0.001 ............................................\n",
      "[CV] ... C=100.0, gamma=0.001, score=0.9852941176470589, total=   0.1s\n",
      "[CV] C=100.0, gamma=0.001 ............................................\n",
      "[CV] .................. C=100.0, gamma=0.001, score=1.0, total=   0.1s\n",
      "[CV] C=100.0, gamma=0.001 ............................................\n",
      "[CV] .... C=100.0, gamma=0.001, score=0.996268656716418, total=   0.1s\n",
      "[CV] C=100.0, gamma=0.001 ............................................\n",
      "[CV] ... C=100.0, gamma=0.001, score=0.9849056603773585, total=   0.1s\n",
      "[CV] C=100.0, gamma=0.01 .............................................\n",
      "[CV] .... C=100.0, gamma=0.01, score=0.8058608058608059, total=   0.2s\n",
      "[CV] C=100.0, gamma=0.01 .............................................\n",
      "[CV] .... C=100.0, gamma=0.01, score=0.7794117647058824, total=   0.2s\n",
      "[CV] C=100.0, gamma=0.01 .............................................\n",
      "[CV] .... C=100.0, gamma=0.01, score=0.8475836431226765, total=   0.2s\n",
      "[CV] C=100.0, gamma=0.01 .............................................\n",
      "[CV] .... C=100.0, gamma=0.01, score=0.8171641791044776, total=   0.2s\n",
      "[CV] C=100.0, gamma=0.01 .............................................\n",
      "[CV] .... C=100.0, gamma=0.01, score=0.7283018867924528, total=   0.2s\n",
      "[CV] C=100.0, gamma=0.1 ..............................................\n",
      "[CV] .... C=100.0, gamma=0.1, score=0.10989010989010989, total=   0.2s\n",
      "[CV] C=100.0, gamma=0.1 ..............................................\n",
      "[CV] .... C=100.0, gamma=0.1, score=0.11029411764705882, total=   0.2s\n",
      "[CV] C=100.0, gamma=0.1 ..............................................\n",
      "[CV] .... C=100.0, gamma=0.1, score=0.11152416356877323, total=   0.2s\n",
      "[CV] C=100.0, gamma=0.1 ..............................................\n",
      "[CV] .... C=100.0, gamma=0.1, score=0.10820895522388059, total=   0.2s\n",
      "[CV] C=100.0, gamma=0.1 ..............................................\n",
      "[CV] .... C=100.0, gamma=0.1, score=0.10943396226415095, total=   0.2s\n"
     ]
    },
    {
     "name": "stderr",
     "output_type": "stream",
     "text": [
      "[Parallel(n_jobs=1)]: Done 150 out of 150 | elapsed:   40.0s finished\n"
     ]
    },
    {
     "data": {
      "text/plain": [
       "GridSearchCV(cv=5, error_score='raise',\n",
       "       estimator=SVC(C=1.0, cache_size=200, class_weight=None, coef0=0.0,\n",
       "  decision_function_shape='ovr', degree=3, gamma='auto', kernel='rbf',\n",
       "  max_iter=-1, probability=False, random_state=None, shrinking=True,\n",
       "  tol=0.001, verbose=False),\n",
       "       fit_params=None, iid=True, n_jobs=1,\n",
       "       param_grid={'C': array([  0.001,   0.01 ,   0.1  ,   1.   ,  10.   , 100.   ]), 'gamma': array([0.00001, 0.0001 , 0.001  , 0.01   , 0.1    ])},\n",
       "       pre_dispatch='2*n_jobs', refit=True, return_train_score='warn',\n",
       "       scoring=None, verbose=3)"
      ]
     },
     "execution_count": 11,
     "metadata": {},
     "output_type": "execute_result"
    }
   ],
   "source": [
    "busqueda_grid.fit(X_entrenamiento, y_entrenamiento)"
   ]
  },
  {
   "cell_type": "code",
   "execution_count": 12,
   "metadata": {},
   "outputs": [
    {
     "data": {
      "text/plain": [
       "array([5, 6, 1, 1, 2, 5, 4, 8, 7, 8, 2, 6, 1, 9, 9, 1, 1, 6, 4, 6, 1, 4,\n",
       "       1, 5, 4, 4, 0, 2, 3, 5, 2, 1, 8, 1, 5, 2, 9, 0, 5, 7, 0, 9, 3, 6,\n",
       "       1, 1, 0, 9, 7, 0, 2, 6, 1, 5, 4, 9, 0, 6, 2, 7, 1, 5, 3, 1, 7, 2,\n",
       "       6, 2, 9, 0, 7, 9, 7, 8, 3, 1, 0, 3, 5, 9, 2, 0, 3, 6, 4, 2, 0, 2,\n",
       "       5, 1, 8, 6, 2, 5, 6, 4, 9, 3, 8, 8, 6, 1, 7, 8, 3, 5, 0, 4, 2, 3,\n",
       "       0, 5, 8, 0, 0, 3, 0, 4, 7, 1, 1, 5, 3, 5, 9, 1, 0, 6, 5, 9, 7, 3,\n",
       "       8, 7, 2, 5, 8, 3, 6, 6, 2, 7, 0, 5, 9, 3, 6, 9, 0, 2, 9, 7, 0, 7,\n",
       "       4, 4, 8, 8, 3, 6, 4, 4, 0, 9, 4, 1, 9, 5, 4, 6, 9, 0, 9, 8, 7, 2,\n",
       "       0, 8, 2, 2, 9, 9, 2, 0, 0, 6, 9, 3, 7, 0, 6, 9, 0, 1, 8, 8, 9, 8,\n",
       "       5, 4, 3, 5, 5, 6, 6, 2, 3, 2, 5, 3, 3, 0, 5, 7, 2, 8, 0, 6, 0, 0,\n",
       "       3, 0, 3, 7, 7, 9, 8, 4, 9, 1, 2, 3, 8, 5, 1, 1, 8, 5, 4, 7, 8, 1,\n",
       "       4, 9, 1, 5, 8, 3, 2, 8, 7, 5, 0, 9, 5, 1, 3, 1, 9, 5, 9, 0, 1, 2,\n",
       "       3, 0, 3, 2, 8, 2, 3, 5, 4, 0, 5, 7, 8, 7, 9, 5, 9, 4, 3, 8, 1, 4,\n",
       "       2, 1, 1, 6, 6, 7, 8, 4, 2, 8, 3, 5, 1, 2, 1, 2, 3, 6, 5, 3, 6, 0,\n",
       "       6, 2, 4, 1, 9, 1, 1, 5, 6, 6, 8, 3, 3, 0, 9, 4, 5, 6, 1, 3, 7, 0,\n",
       "       5, 9, 2, 0, 2, 9, 3, 9, 9, 2, 4, 9, 0, 9, 0, 2, 8, 6, 1, 0, 7, 3,\n",
       "       8, 3, 6, 6, 2, 8, 8, 7, 1, 3, 5, 2, 3, 2, 4, 6, 5, 7, 5, 2, 0, 7,\n",
       "       3, 1, 5, 0, 1, 6, 2, 1, 6, 3, 3, 9, 5, 1, 4, 1, 0, 1, 6, 0, 7, 3,\n",
       "       8, 7, 1, 8, 9, 8, 3, 4, 9, 5, 1, 8, 9, 5, 3, 8, 7, 7, 6, 0, 7, 5,\n",
       "       6, 8, 0, 2, 8, 5, 0, 7, 3, 9, 9, 2, 5, 7, 1, 7, 4, 5, 8, 9, 4, 9,\n",
       "       8, 6, 5, 7, 7, 5, 6, 3, 4, 5])"
      ]
     },
     "execution_count": 12,
     "metadata": {},
     "output_type": "execute_result"
    }
   ],
   "source": [
    "busqueda_grid.predict(X_prueba)"
   ]
  },
  {
   "cell_type": "code",
   "execution_count": 13,
   "metadata": {},
   "outputs": [
    {
     "data": {
      "text/plain": [
       "0.9933333333333333"
      ]
     },
     "execution_count": 13,
     "metadata": {},
     "output_type": "execute_result"
    }
   ],
   "source": [
    "busqueda_grid.score(X_prueba, y_prueba)"
   ]
  },
  {
   "cell_type": "code",
   "execution_count": 14,
   "metadata": {},
   "outputs": [
    {
     "data": {
      "text/plain": [
       "{'C': 10.0, 'gamma': 0.001}"
      ]
     },
     "execution_count": 14,
     "metadata": {},
     "output_type": "execute_result"
    }
   ],
   "source": [
    "busqueda_grid.best_params_"
   ]
  },
  {
   "cell_type": "code",
   "execution_count": 15,
   "metadata": {},
   "outputs": [
    {
     "data": {
      "text/plain": [
       "0.9903489235337788"
      ]
     },
     "execution_count": 15,
     "metadata": {},
     "output_type": "execute_result"
    }
   ],
   "source": [
    "busqueda_grid.best_score_"
   ]
  },
  {
   "cell_type": "code",
   "execution_count": 16,
   "metadata": {},
   "outputs": [
    {
     "data": {
      "text/plain": [
       "SVC(C=10.0, cache_size=200, class_weight=None, coef0=0.0,\n",
       "  decision_function_shape='ovr', degree=3, gamma=0.001, kernel='rbf',\n",
       "  max_iter=-1, probability=False, random_state=None, shrinking=True,\n",
       "  tol=0.001, verbose=False)"
      ]
     },
     "execution_count": 16,
     "metadata": {},
     "output_type": "execute_result"
    }
   ],
   "source": [
    "busqueda_grid.best_estimator_"
   ]
  },
  {
   "cell_type": "markdown",
   "metadata": {},
   "source": [
    "Extraemos los puntajes"
   ]
  },
  {
   "cell_type": "code",
   "execution_count": 17,
   "metadata": {},
   "outputs": [
    {
     "data": {
      "image/png": "[encoded data removed]",
      "text/plain": [
       "<Figure size 288x345.6 with 2 Axes>"
      ]
     },
     "metadata": {},
     "output_type": "display_data"
    }
   ],
   "source": [
    "puntuaciones = busqueda_grid.cv_results_['mean_test_score']\n",
    "puntuaciones = np.array(puntuaciones).reshape(6, 5)\n",
    "\n",
    "plt.matshow(puntuaciones)\n",
    "plt.xlabel('gamma')\n",
    "plt.ylabel('C')\n",
    "plt.colorbar()\n",
    "plt.xticks(np.arange(5), parametros_grid['gamma'])\n",
    "plt.yticks(np.arange(6), parametros_grid['C']);\n"
   ]
  },
  {
   "cell_type": "code",
   "execution_count": 18,
   "metadata": {},
   "outputs": [],
   "source": [
    "# Tu solucion"
   ]
  },
  {
   "cell_type": "code",
   "execution_count": null,
   "metadata": {
    "solution": "hidden",
    "solution_first": true
   },
   "outputs": [],
   "source": []
  }
 ],
 "metadata": {
  "kernelspec": {
   "display_name": "Python 3",
   "language": "python",
   "name": "python3"
  },
  "language_info": {
   "codemirror_mode": {
    "name": "ipython",
    "version": 3
   },
   "file_extension": ".py",
   "mimetype": "text/x-python",
   "name": "python",
   "nbconvert_exporter": "python",
   "pygments_lexer": "ipython3",
   "version": "3.6.5"
  }
 },
 "nbformat": 4,
 "nbformat_minor": 2
}
